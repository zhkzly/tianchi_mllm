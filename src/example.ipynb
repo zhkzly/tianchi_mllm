{
 "cells": [
  {
   "cell_type": "code",
   "execution_count": 1,
   "metadata": {},
   "outputs": [
    {
     "name": "stdout",
     "output_type": "stream",
     "text": [
      "[1.0, 1.0, 1.0]\n",
      "+++++++++\n",
      "[1.0, 1.0, 1.0]\n",
      "+++++++++\n"
     ]
    }
   ],
   "source": [
    "\n",
    "import torch\n",
    "\n",
    "x=torch.ones((2,3))\n",
    "for i in x.tolist():\n",
    "    print(i)\n",
    "    print(\"+++++++++\")\n"
   ]
  },
  {
   "cell_type": "code",
   "execution_count": 6,
   "metadata": {},
   "outputs": [],
   "source": [
    "import torch\n",
    "x=(tuple,dict,torch.nn.Module)\n",
    "if isinstance(torch.nn.Linear,x):\n",
    "    print(True)"
   ]
  },
  {
   "cell_type": "code",
   "execution_count": 1,
   "metadata": {},
   "outputs": [
    {
     "name": "stdout",
     "output_type": "stream",
     "text": [
      "[1, 2, 3, 4, 5, 6, 7, 8, 9]\n",
      "[1, 2, 3]\n",
      "[1]\n",
      "tensor([10.,  2., 20.,  4., 30.])\n"
     ]
    }
   ],
   "source": [
    "from typing import List, Union\n",
    "def is_valid_image(image) -> bool:\n",
    "    if isinstance(image, int):\n",
    "        return True\n",
    "\n",
    "def make_batched_images(images) -> List[List[int]]:\n",
    "    \"\"\"\n",
    "    Accepts images in list or nested list format, and makes a list of images for preprocessing.\n",
    "\n",
    "    Args:\n",
    "        images (`Union[List[List[ImageInput]], List[ImageInput], ImageInput]`):\n",
    "            The input image.\n",
    "\n",
    "    Returns:\n",
    "        list: A list of images.\n",
    "    \"\"\"\n",
    "    if (\n",
    "        isinstance(images, (list, tuple))\n",
    "        and isinstance(images[0], (list, tuple))\n",
    "        and is_valid_image(images[0][0])\n",
    "    ):\n",
    "        return [img for img_list in images for img in img_list]\n",
    "\n",
    "    elif isinstance(images, (list, tuple)) and is_valid_image(images[0]):\n",
    "        return images\n",
    "\n",
    "    elif is_valid_image(images):\n",
    "        return [images]\n",
    "\n",
    "    raise ValueError(f\"Could not make batched images from {images}\")\n",
    "\n",
    "images=[[1,2,3],[4,5,6],[7,8,9]]\n",
    "\n",
    "print(make_batched_images(images))\n",
    "images=[1,2,3]\n",
    "print(make_batched_images(images))\n",
    "print(make_batched_images(1))\n",
    "import torch\n",
    "\n",
    "\n",
    "\n",
    "# 创建一个目标张量\n",
    "input_tensor = torch.tensor([1.0, 2.0, 3.0, 4.0, 5.0])\n",
    "\n",
    "# 创建一个布尔掩码\n",
    "mask = torch.tensor([True, False, True, False, True], dtype=torch.bool)\n",
    "\n",
    "# 创建一个源张量，其中的元素将根据掩码散列到目标张量\n",
    "source_tensor = torch.tensor([10.0, 20.0, 30.0])\n",
    "\n",
    "# 应用 masked_scatter 操作\n",
    "output_tensor = input_tensor.masked_scatter(mask, source_tensor)\n",
    "\n",
    "print(output_tensor)"
   ]
  },
  {
   "cell_type": "code",
   "execution_count": 2,
   "metadata": {},
   "outputs": [
    {
     "name": "stdout",
     "output_type": "stream",
     "text": [
      "2324\\n\n"
     ]
    }
   ],
   "source": [
    "a='2324'+'\\\\n'\n",
    "print(a)"
   ]
  },
  {
   "cell_type": "code",
   "execution_count": null,
   "metadata": {},
   "outputs": [],
   "source": [
    "from accelerate.state import PartialState\n",
    "\n",
    "state = PartialState()\n",
    "state.device"
   ]
  },
  {
   "cell_type": "code",
   "execution_count": 3,
   "metadata": {},
   "outputs": [
    {
     "name": "stdout",
     "output_type": "stream",
     "text": [
      "true\n"
     ]
    }
   ],
   "source": [
    "\n",
    "0.5==1/2\n",
    "if \"bb\":\n",
    "    print('true')"
   ]
  },
  {
   "cell_type": "code",
   "execution_count": 1,
   "metadata": {},
   "outputs": [
    {
     "name": "stdout",
     "output_type": "stream",
     "text": [
      "fsdfas\n"
     ]
    }
   ],
   "source": [
    "a='[fsdfas]'\n",
    "print(a[1:-1])"
   ]
  },
  {
   "cell_type": "code",
   "execution_count": 2,
   "metadata": {},
   "outputs": [
    {
     "name": "stdout",
     "output_type": "stream",
     "text": [
      "OrderedDict({'weight': tensor([[-0.3899,  0.0288,  0.4145],\n",
      "        [-0.5439,  0.0530, -0.2633],\n",
      "        [-0.4076, -0.1845, -0.3485],\n",
      "        [-0.4281,  0.4199, -0.2865],\n",
      "        [ 0.0122, -0.4081, -0.1045],\n",
      "        [ 0.4991,  0.0122, -0.3015]]), 'bias': tensor([ 0.4160,  0.0749,  0.2143,  0.5654, -0.0368,  0.3173])})\n"
     ]
    }
   ],
   "source": [
    "import torch\n",
    "model=torch.nn.Linear(3,6)\n",
    "model=torch.compile(model)\n",
    "model = model._orig_mod.state_dict()\n",
    "print(model)\n"
   ]
  },
  {
   "cell_type": "code",
   "execution_count": null,
   "metadata": {},
   "outputs": [
    {
     "name": "stderr",
     "output_type": "stream",
     "text": [
      "/home/zkl/ssd/softwares/miniconda3/miniconda/envs/pythonAI/lib/python3.12/site-packages/tqdm/auto.py:21: TqdmWarning: IProgress not found. Please update jupyter and ipywidgets. See https://ipywidgets.readthedocs.io/en/stable/user_install.html\n",
      "  from .autonotebook import tqdm as notebook_tqdm\n",
      "Downloading shards:   0%|          | 0/2 [00:03<?, ?it/s]\n"
     ]
    },
    {
     "ename": "KeyboardInterrupt",
     "evalue": "",
     "output_type": "error",
     "traceback": [
      "\u001b[0;31m---------------------------------------------------------------------------\u001b[0m",
      "\u001b[0;31mKeyboardInterrupt\u001b[0m                         Traceback (most recent call last)",
      "Cell \u001b[0;32mIn[3], line 10\u001b[0m\n\u001b[1;32m      8\u001b[0m torch\u001b[38;5;241m.\u001b[39mmasked_scatter\n\u001b[1;32m      9\u001b[0m \u001b[38;5;66;03m# Load the model in half-precision on the available device(s)\u001b[39;00m\n\u001b[0;32m---> 10\u001b[0m model \u001b[38;5;241m=\u001b[39m \u001b[43mQwen2VLForConditionalGeneration\u001b[49m\u001b[38;5;241;43m.\u001b[39;49m\u001b[43mfrom_pretrained\u001b[49m\u001b[43m(\u001b[49m\n\u001b[1;32m     11\u001b[0m \u001b[43m    \u001b[49m\u001b[38;5;124;43m\"\u001b[39;49m\u001b[38;5;124;43mQwen/Qwen2-VL-2B-Instruct\u001b[39;49m\u001b[38;5;124;43m\"\u001b[39;49m\u001b[43m,\u001b[49m\u001b[43m \u001b[49m\u001b[43mtorch_dtype\u001b[49m\u001b[38;5;241;43m=\u001b[39;49m\u001b[38;5;124;43m\"\u001b[39;49m\u001b[38;5;124;43mauto\u001b[39;49m\u001b[38;5;124;43m\"\u001b[39;49m\u001b[43m,\u001b[49m\u001b[43m \u001b[49m\u001b[43mdevice_map\u001b[49m\u001b[38;5;241;43m=\u001b[39;49m\u001b[38;5;124;43m\"\u001b[39;49m\u001b[38;5;124;43mauto\u001b[39;49m\u001b[38;5;124;43m\"\u001b[39;49m\n\u001b[1;32m     12\u001b[0m \u001b[43m)\u001b[49m\n\u001b[1;32m     13\u001b[0m processor \u001b[38;5;241m=\u001b[39m AutoProcessor\u001b[38;5;241m.\u001b[39mfrom_bbpretrained(\u001b[38;5;124m\"\u001b[39m\u001b[38;5;124mQwen/Qwen2-VL-2B-Instruct\u001b[39m\u001b[38;5;124m\"\u001b[39m)\n\u001b[1;32m     15\u001b[0m \u001b[38;5;66;03m# Image\u001b[39;00m\n",
      "File \u001b[0;32m~/ssd/softwares/miniconda3/miniconda/envs/pythonAI/lib/python3.12/site-packages/transformers/modeling_utils.py:3974\u001b[0m, in \u001b[0;36mPreTrainedModel.from_pretrained\u001b[0;34m(cls, pretrained_model_name_or_path, config, cache_dir, ignore_mismatched_sizes, force_download, local_files_only, token, revision, use_safetensors, weights_only, *model_args, **kwargs)\u001b[0m\n\u001b[1;32m   3971\u001b[0m \u001b[38;5;66;03m# We'll need to download and cache each checkpoint shard if the checkpoint is sharded.\u001b[39;00m\n\u001b[1;32m   3972\u001b[0m \u001b[38;5;28;01mif\u001b[39;00m is_sharded:\n\u001b[1;32m   3973\u001b[0m     \u001b[38;5;66;03m# resolved_archive_file becomes a list of files that point to the different checkpoint shards in this case.\u001b[39;00m\n\u001b[0;32m-> 3974\u001b[0m     resolved_archive_file, sharded_metadata \u001b[38;5;241m=\u001b[39m \u001b[43mget_checkpoint_shard_files\u001b[49m\u001b[43m(\u001b[49m\n\u001b[1;32m   3975\u001b[0m \u001b[43m        \u001b[49m\u001b[43mpretrained_model_name_or_path\u001b[49m\u001b[43m,\u001b[49m\n\u001b[1;32m   3976\u001b[0m \u001b[43m        \u001b[49m\u001b[43mresolved_archive_file\u001b[49m\u001b[43m,\u001b[49m\n\u001b[1;32m   3977\u001b[0m \u001b[43m        \u001b[49m\u001b[43mcache_dir\u001b[49m\u001b[38;5;241;43m=\u001b[39;49m\u001b[43mcache_dir\u001b[49m\u001b[43m,\u001b[49m\n\u001b[1;32m   3978\u001b[0m \u001b[43m        \u001b[49m\u001b[43mforce_download\u001b[49m\u001b[38;5;241;43m=\u001b[39;49m\u001b[43mforce_download\u001b[49m\u001b[43m,\u001b[49m\n\u001b[1;32m   3979\u001b[0m \u001b[43m        \u001b[49m\u001b[43mproxies\u001b[49m\u001b[38;5;241;43m=\u001b[39;49m\u001b[43mproxies\u001b[49m\u001b[43m,\u001b[49m\n\u001b[1;32m   3980\u001b[0m \u001b[43m        \u001b[49m\u001b[43mresume_download\u001b[49m\u001b[38;5;241;43m=\u001b[39;49m\u001b[43mresume_download\u001b[49m\u001b[43m,\u001b[49m\n\u001b[1;32m   3981\u001b[0m \u001b[43m        \u001b[49m\u001b[43mlocal_files_only\u001b[49m\u001b[38;5;241;43m=\u001b[39;49m\u001b[43mlocal_files_only\u001b[49m\u001b[43m,\u001b[49m\n\u001b[1;32m   3982\u001b[0m \u001b[43m        \u001b[49m\u001b[43mtoken\u001b[49m\u001b[38;5;241;43m=\u001b[39;49m\u001b[43mtoken\u001b[49m\u001b[43m,\u001b[49m\n\u001b[1;32m   3983\u001b[0m \u001b[43m        \u001b[49m\u001b[43muser_agent\u001b[49m\u001b[38;5;241;43m=\u001b[39;49m\u001b[43muser_agent\u001b[49m\u001b[43m,\u001b[49m\n\u001b[1;32m   3984\u001b[0m \u001b[43m        \u001b[49m\u001b[43mrevision\u001b[49m\u001b[38;5;241;43m=\u001b[39;49m\u001b[43mrevision\u001b[49m\u001b[43m,\u001b[49m\n\u001b[1;32m   3985\u001b[0m \u001b[43m        \u001b[49m\u001b[43msubfolder\u001b[49m\u001b[38;5;241;43m=\u001b[39;49m\u001b[43msubfolder\u001b[49m\u001b[43m,\u001b[49m\n\u001b[1;32m   3986\u001b[0m \u001b[43m        \u001b[49m\u001b[43m_commit_hash\u001b[49m\u001b[38;5;241;43m=\u001b[39;49m\u001b[43mcommit_hash\u001b[49m\u001b[43m,\u001b[49m\n\u001b[1;32m   3987\u001b[0m \u001b[43m    \u001b[49m\u001b[43m)\u001b[49m\n\u001b[1;32m   3989\u001b[0m \u001b[38;5;28;01mif\u001b[39;00m (\n\u001b[1;32m   3990\u001b[0m     is_safetensors_available()\n\u001b[1;32m   3991\u001b[0m     \u001b[38;5;129;01mand\u001b[39;00m \u001b[38;5;28misinstance\u001b[39m(resolved_archive_file, \u001b[38;5;28mstr\u001b[39m)\n\u001b[1;32m   3992\u001b[0m     \u001b[38;5;129;01mand\u001b[39;00m resolved_archive_file\u001b[38;5;241m.\u001b[39mendswith(\u001b[38;5;124m\"\u001b[39m\u001b[38;5;124m.safetensors\u001b[39m\u001b[38;5;124m\"\u001b[39m)\n\u001b[1;32m   3993\u001b[0m ):\n\u001b[1;32m   3994\u001b[0m     \u001b[38;5;28;01mwith\u001b[39;00m safe_open(resolved_archive_file, framework\u001b[38;5;241m=\u001b[39m\u001b[38;5;124m\"\u001b[39m\u001b[38;5;124mpt\u001b[39m\u001b[38;5;124m\"\u001b[39m) \u001b[38;5;28;01mas\u001b[39;00m f:\n",
      "File \u001b[0;32m~/ssd/softwares/miniconda3/miniconda/envs/pythonAI/lib/python3.12/site-packages/transformers/utils/hub.py:1098\u001b[0m, in \u001b[0;36mget_checkpoint_shard_files\u001b[0;34m(pretrained_model_name_or_path, index_filename, cache_dir, force_download, proxies, resume_download, local_files_only, token, user_agent, revision, subfolder, _commit_hash, **deprecated_kwargs)\u001b[0m\n\u001b[1;32m   1095\u001b[0m \u001b[38;5;28;01mfor\u001b[39;00m shard_filename \u001b[38;5;129;01min\u001b[39;00m tqdm(shard_filenames, desc\u001b[38;5;241m=\u001b[39m\u001b[38;5;124m\"\u001b[39m\u001b[38;5;124mDownloading shards\u001b[39m\u001b[38;5;124m\"\u001b[39m, disable\u001b[38;5;241m=\u001b[39m\u001b[38;5;129;01mnot\u001b[39;00m show_progress_bar):\n\u001b[1;32m   1096\u001b[0m     \u001b[38;5;28;01mtry\u001b[39;00m:\n\u001b[1;32m   1097\u001b[0m         \u001b[38;5;66;03m# Load from URL\u001b[39;00m\n\u001b[0;32m-> 1098\u001b[0m         cached_filename \u001b[38;5;241m=\u001b[39m \u001b[43mcached_file\u001b[49m\u001b[43m(\u001b[49m\n\u001b[1;32m   1099\u001b[0m \u001b[43m            \u001b[49m\u001b[43mpretrained_model_name_or_path\u001b[49m\u001b[43m,\u001b[49m\n\u001b[1;32m   1100\u001b[0m \u001b[43m            \u001b[49m\u001b[43mshard_filename\u001b[49m\u001b[43m,\u001b[49m\n\u001b[1;32m   1101\u001b[0m \u001b[43m            \u001b[49m\u001b[43mcache_dir\u001b[49m\u001b[38;5;241;43m=\u001b[39;49m\u001b[43mcache_dir\u001b[49m\u001b[43m,\u001b[49m\n\u001b[1;32m   1102\u001b[0m \u001b[43m            \u001b[49m\u001b[43mforce_download\u001b[49m\u001b[38;5;241;43m=\u001b[39;49m\u001b[43mforce_download\u001b[49m\u001b[43m,\u001b[49m\n\u001b[1;32m   1103\u001b[0m \u001b[43m            \u001b[49m\u001b[43mproxies\u001b[49m\u001b[38;5;241;43m=\u001b[39;49m\u001b[43mproxies\u001b[49m\u001b[43m,\u001b[49m\n\u001b[1;32m   1104\u001b[0m \u001b[43m            \u001b[49m\u001b[43mresume_download\u001b[49m\u001b[38;5;241;43m=\u001b[39;49m\u001b[43mresume_download\u001b[49m\u001b[43m,\u001b[49m\n\u001b[1;32m   1105\u001b[0m \u001b[43m            \u001b[49m\u001b[43mlocal_files_only\u001b[49m\u001b[38;5;241;43m=\u001b[39;49m\u001b[43mlocal_files_only\u001b[49m\u001b[43m,\u001b[49m\n\u001b[1;32m   1106\u001b[0m \u001b[43m            \u001b[49m\u001b[43mtoken\u001b[49m\u001b[38;5;241;43m=\u001b[39;49m\u001b[43mtoken\u001b[49m\u001b[43m,\u001b[49m\n\u001b[1;32m   1107\u001b[0m \u001b[43m            \u001b[49m\u001b[43muser_agent\u001b[49m\u001b[38;5;241;43m=\u001b[39;49m\u001b[43muser_agent\u001b[49m\u001b[43m,\u001b[49m\n\u001b[1;32m   1108\u001b[0m \u001b[43m            \u001b[49m\u001b[43mrevision\u001b[49m\u001b[38;5;241;43m=\u001b[39;49m\u001b[43mrevision\u001b[49m\u001b[43m,\u001b[49m\n\u001b[1;32m   1109\u001b[0m \u001b[43m            \u001b[49m\u001b[43msubfolder\u001b[49m\u001b[38;5;241;43m=\u001b[39;49m\u001b[43msubfolder\u001b[49m\u001b[43m,\u001b[49m\n\u001b[1;32m   1110\u001b[0m \u001b[43m            \u001b[49m\u001b[43m_commit_hash\u001b[49m\u001b[38;5;241;43m=\u001b[39;49m\u001b[43m_commit_hash\u001b[49m\u001b[43m,\u001b[49m\n\u001b[1;32m   1111\u001b[0m \u001b[43m        \u001b[49m\u001b[43m)\u001b[49m\n\u001b[1;32m   1112\u001b[0m     \u001b[38;5;66;03m# We have already dealt with RepositoryNotFoundError and RevisionNotFoundError when getting the index, so\u001b[39;00m\n\u001b[1;32m   1113\u001b[0m     \u001b[38;5;66;03m# we don't have to catch them here.\u001b[39;00m\n\u001b[1;32m   1114\u001b[0m     \u001b[38;5;28;01mexcept\u001b[39;00m EntryNotFoundError:\n",
      "File \u001b[0;32m~/ssd/softwares/miniconda3/miniconda/envs/pythonAI/lib/python3.12/site-packages/transformers/utils/hub.py:403\u001b[0m, in \u001b[0;36mcached_file\u001b[0;34m(path_or_repo_id, filename, cache_dir, force_download, resume_download, proxies, token, revision, local_files_only, subfolder, repo_type, user_agent, _raise_exceptions_for_gated_repo, _raise_exceptions_for_missing_entries, _raise_exceptions_for_connection_errors, _commit_hash, **deprecated_kwargs)\u001b[0m\n\u001b[1;32m    400\u001b[0m user_agent \u001b[38;5;241m=\u001b[39m http_user_agent(user_agent)\n\u001b[1;32m    401\u001b[0m \u001b[38;5;28;01mtry\u001b[39;00m:\n\u001b[1;32m    402\u001b[0m     \u001b[38;5;66;03m# Load from URL or cache if already cached\u001b[39;00m\n\u001b[0;32m--> 403\u001b[0m     resolved_file \u001b[38;5;241m=\u001b[39m \u001b[43mhf_hub_download\u001b[49m\u001b[43m(\u001b[49m\n\u001b[1;32m    404\u001b[0m \u001b[43m        \u001b[49m\u001b[43mpath_or_repo_id\u001b[49m\u001b[43m,\u001b[49m\n\u001b[1;32m    405\u001b[0m \u001b[43m        \u001b[49m\u001b[43mfilename\u001b[49m\u001b[43m,\u001b[49m\n\u001b[1;32m    406\u001b[0m \u001b[43m        \u001b[49m\u001b[43msubfolder\u001b[49m\u001b[38;5;241;43m=\u001b[39;49m\u001b[38;5;28;43;01mNone\u001b[39;49;00m\u001b[43m \u001b[49m\u001b[38;5;28;43;01mif\u001b[39;49;00m\u001b[43m \u001b[49m\u001b[38;5;28;43mlen\u001b[39;49m\u001b[43m(\u001b[49m\u001b[43msubfolder\u001b[49m\u001b[43m)\u001b[49m\u001b[43m \u001b[49m\u001b[38;5;241;43m==\u001b[39;49m\u001b[43m \u001b[49m\u001b[38;5;241;43m0\u001b[39;49m\u001b[43m \u001b[49m\u001b[38;5;28;43;01melse\u001b[39;49;00m\u001b[43m \u001b[49m\u001b[43msubfolder\u001b[49m\u001b[43m,\u001b[49m\n\u001b[1;32m    407\u001b[0m \u001b[43m        \u001b[49m\u001b[43mrepo_type\u001b[49m\u001b[38;5;241;43m=\u001b[39;49m\u001b[43mrepo_type\u001b[49m\u001b[43m,\u001b[49m\n\u001b[1;32m    408\u001b[0m \u001b[43m        \u001b[49m\u001b[43mrevision\u001b[49m\u001b[38;5;241;43m=\u001b[39;49m\u001b[43mrevision\u001b[49m\u001b[43m,\u001b[49m\n\u001b[1;32m    409\u001b[0m \u001b[43m        \u001b[49m\u001b[43mcache_dir\u001b[49m\u001b[38;5;241;43m=\u001b[39;49m\u001b[43mcache_dir\u001b[49m\u001b[43m,\u001b[49m\n\u001b[1;32m    410\u001b[0m \u001b[43m        \u001b[49m\u001b[43muser_agent\u001b[49m\u001b[38;5;241;43m=\u001b[39;49m\u001b[43muser_agent\u001b[49m\u001b[43m,\u001b[49m\n\u001b[1;32m    411\u001b[0m \u001b[43m        \u001b[49m\u001b[43mforce_download\u001b[49m\u001b[38;5;241;43m=\u001b[39;49m\u001b[43mforce_download\u001b[49m\u001b[43m,\u001b[49m\n\u001b[1;32m    412\u001b[0m \u001b[43m        \u001b[49m\u001b[43mproxies\u001b[49m\u001b[38;5;241;43m=\u001b[39;49m\u001b[43mproxies\u001b[49m\u001b[43m,\u001b[49m\n\u001b[1;32m    413\u001b[0m \u001b[43m        \u001b[49m\u001b[43mresume_download\u001b[49m\u001b[38;5;241;43m=\u001b[39;49m\u001b[43mresume_download\u001b[49m\u001b[43m,\u001b[49m\n\u001b[1;32m    414\u001b[0m \u001b[43m        \u001b[49m\u001b[43mtoken\u001b[49m\u001b[38;5;241;43m=\u001b[39;49m\u001b[43mtoken\u001b[49m\u001b[43m,\u001b[49m\n\u001b[1;32m    415\u001b[0m \u001b[43m        \u001b[49m\u001b[43mlocal_files_only\u001b[49m\u001b[38;5;241;43m=\u001b[39;49m\u001b[43mlocal_files_only\u001b[49m\u001b[43m,\u001b[49m\n\u001b[1;32m    416\u001b[0m \u001b[43m    \u001b[49m\u001b[43m)\u001b[49m\n\u001b[1;32m    417\u001b[0m \u001b[38;5;28;01mexcept\u001b[39;00m GatedRepoError \u001b[38;5;28;01mas\u001b[39;00m e:\n\u001b[1;32m    418\u001b[0m     resolved_file \u001b[38;5;241m=\u001b[39m _get_cache_file_to_return(path_or_repo_id, full_filename, cache_dir, revision)\n",
      "File \u001b[0;32m~/ssd/softwares/miniconda3/miniconda/envs/pythonAI/lib/python3.12/site-packages/huggingface_hub/utils/_validators.py:114\u001b[0m, in \u001b[0;36mvalidate_hf_hub_args.<locals>._inner_fn\u001b[0;34m(*args, **kwargs)\u001b[0m\n\u001b[1;32m    111\u001b[0m \u001b[38;5;28;01mif\u001b[39;00m check_use_auth_token:\n\u001b[1;32m    112\u001b[0m     kwargs \u001b[38;5;241m=\u001b[39m smoothly_deprecate_use_auth_token(fn_name\u001b[38;5;241m=\u001b[39mfn\u001b[38;5;241m.\u001b[39m\u001b[38;5;18m__name__\u001b[39m, has_token\u001b[38;5;241m=\u001b[39mhas_token, kwargs\u001b[38;5;241m=\u001b[39mkwargs)\n\u001b[0;32m--> 114\u001b[0m \u001b[38;5;28;01mreturn\u001b[39;00m \u001b[43mfn\u001b[49m\u001b[43m(\u001b[49m\u001b[38;5;241;43m*\u001b[39;49m\u001b[43margs\u001b[49m\u001b[43m,\u001b[49m\u001b[43m \u001b[49m\u001b[38;5;241;43m*\u001b[39;49m\u001b[38;5;241;43m*\u001b[39;49m\u001b[43mkwargs\u001b[49m\u001b[43m)\u001b[49m\n",
      "File \u001b[0;32m~/ssd/softwares/miniconda3/miniconda/envs/pythonAI/lib/python3.12/site-packages/huggingface_hub/file_download.py:862\u001b[0m, in \u001b[0;36mhf_hub_download\u001b[0;34m(repo_id, filename, subfolder, repo_type, revision, library_name, library_version, cache_dir, local_dir, user_agent, force_download, proxies, etag_timeout, token, local_files_only, headers, endpoint, resume_download, force_filename, local_dir_use_symlinks)\u001b[0m\n\u001b[1;32m    842\u001b[0m     \u001b[38;5;28;01mreturn\u001b[39;00m _hf_hub_download_to_local_dir(\n\u001b[1;32m    843\u001b[0m         \u001b[38;5;66;03m# Destination\u001b[39;00m\n\u001b[1;32m    844\u001b[0m         local_dir\u001b[38;5;241m=\u001b[39mlocal_dir,\n\u001b[0;32m   (...)\u001b[0m\n\u001b[1;32m    859\u001b[0m         local_files_only\u001b[38;5;241m=\u001b[39mlocal_files_only,\n\u001b[1;32m    860\u001b[0m     )\n\u001b[1;32m    861\u001b[0m \u001b[38;5;28;01melse\u001b[39;00m:\n\u001b[0;32m--> 862\u001b[0m     \u001b[38;5;28;01mreturn\u001b[39;00m \u001b[43m_hf_hub_download_to_cache_dir\u001b[49m\u001b[43m(\u001b[49m\n\u001b[1;32m    863\u001b[0m \u001b[43m        \u001b[49m\u001b[38;5;66;43;03m# Destination\u001b[39;49;00m\n\u001b[1;32m    864\u001b[0m \u001b[43m        \u001b[49m\u001b[43mcache_dir\u001b[49m\u001b[38;5;241;43m=\u001b[39;49m\u001b[43mcache_dir\u001b[49m\u001b[43m,\u001b[49m\n\u001b[1;32m    865\u001b[0m \u001b[43m        \u001b[49m\u001b[38;5;66;43;03m# File info\u001b[39;49;00m\n\u001b[1;32m    866\u001b[0m \u001b[43m        \u001b[49m\u001b[43mrepo_id\u001b[49m\u001b[38;5;241;43m=\u001b[39;49m\u001b[43mrepo_id\u001b[49m\u001b[43m,\u001b[49m\n\u001b[1;32m    867\u001b[0m \u001b[43m        \u001b[49m\u001b[43mfilename\u001b[49m\u001b[38;5;241;43m=\u001b[39;49m\u001b[43mfilename\u001b[49m\u001b[43m,\u001b[49m\n\u001b[1;32m    868\u001b[0m \u001b[43m        \u001b[49m\u001b[43mrepo_type\u001b[49m\u001b[38;5;241;43m=\u001b[39;49m\u001b[43mrepo_type\u001b[49m\u001b[43m,\u001b[49m\n\u001b[1;32m    869\u001b[0m \u001b[43m        \u001b[49m\u001b[43mrevision\u001b[49m\u001b[38;5;241;43m=\u001b[39;49m\u001b[43mrevision\u001b[49m\u001b[43m,\u001b[49m\n\u001b[1;32m    870\u001b[0m \u001b[43m        \u001b[49m\u001b[38;5;66;43;03m# HTTP info\u001b[39;49;00m\n\u001b[1;32m    871\u001b[0m \u001b[43m        \u001b[49m\u001b[43mendpoint\u001b[49m\u001b[38;5;241;43m=\u001b[39;49m\u001b[43mendpoint\u001b[49m\u001b[43m,\u001b[49m\n\u001b[1;32m    872\u001b[0m \u001b[43m        \u001b[49m\u001b[43metag_timeout\u001b[49m\u001b[38;5;241;43m=\u001b[39;49m\u001b[43metag_timeout\u001b[49m\u001b[43m,\u001b[49m\n\u001b[1;32m    873\u001b[0m \u001b[43m        \u001b[49m\u001b[43mheaders\u001b[49m\u001b[38;5;241;43m=\u001b[39;49m\u001b[43mheaders\u001b[49m\u001b[43m,\u001b[49m\n\u001b[1;32m    874\u001b[0m \u001b[43m        \u001b[49m\u001b[43mproxies\u001b[49m\u001b[38;5;241;43m=\u001b[39;49m\u001b[43mproxies\u001b[49m\u001b[43m,\u001b[49m\n\u001b[1;32m    875\u001b[0m \u001b[43m        \u001b[49m\u001b[43mtoken\u001b[49m\u001b[38;5;241;43m=\u001b[39;49m\u001b[43mtoken\u001b[49m\u001b[43m,\u001b[49m\n\u001b[1;32m    876\u001b[0m \u001b[43m        \u001b[49m\u001b[38;5;66;43;03m# Additional options\u001b[39;49;00m\n\u001b[1;32m    877\u001b[0m \u001b[43m        \u001b[49m\u001b[43mlocal_files_only\u001b[49m\u001b[38;5;241;43m=\u001b[39;49m\u001b[43mlocal_files_only\u001b[49m\u001b[43m,\u001b[49m\n\u001b[1;32m    878\u001b[0m \u001b[43m        \u001b[49m\u001b[43mforce_download\u001b[49m\u001b[38;5;241;43m=\u001b[39;49m\u001b[43mforce_download\u001b[49m\u001b[43m,\u001b[49m\n\u001b[1;32m    879\u001b[0m \u001b[43m    \u001b[49m\u001b[43m)\u001b[49m\n",
      "File \u001b[0;32m~/ssd/softwares/miniconda3/miniconda/envs/pythonAI/lib/python3.12/site-packages/huggingface_hub/file_download.py:1011\u001b[0m, in \u001b[0;36m_hf_hub_download_to_cache_dir\u001b[0;34m(cache_dir, repo_id, filename, repo_type, revision, endpoint, etag_timeout, headers, proxies, token, local_files_only, force_download)\u001b[0m\n\u001b[1;32m   1009\u001b[0m Path(lock_path)\u001b[38;5;241m.\u001b[39mparent\u001b[38;5;241m.\u001b[39mmkdir(parents\u001b[38;5;241m=\u001b[39m\u001b[38;5;28;01mTrue\u001b[39;00m, exist_ok\u001b[38;5;241m=\u001b[39m\u001b[38;5;28;01mTrue\u001b[39;00m)\n\u001b[1;32m   1010\u001b[0m \u001b[38;5;28;01mwith\u001b[39;00m WeakFileLock(lock_path):\n\u001b[0;32m-> 1011\u001b[0m     \u001b[43m_download_to_tmp_and_move\u001b[49m\u001b[43m(\u001b[49m\n\u001b[1;32m   1012\u001b[0m \u001b[43m        \u001b[49m\u001b[43mincomplete_path\u001b[49m\u001b[38;5;241;43m=\u001b[39;49m\u001b[43mPath\u001b[49m\u001b[43m(\u001b[49m\u001b[43mblob_path\u001b[49m\u001b[43m \u001b[49m\u001b[38;5;241;43m+\u001b[39;49m\u001b[43m \u001b[49m\u001b[38;5;124;43m\"\u001b[39;49m\u001b[38;5;124;43m.incomplete\u001b[39;49m\u001b[38;5;124;43m\"\u001b[39;49m\u001b[43m)\u001b[49m\u001b[43m,\u001b[49m\n\u001b[1;32m   1013\u001b[0m \u001b[43m        \u001b[49m\u001b[43mdestination_path\u001b[49m\u001b[38;5;241;43m=\u001b[39;49m\u001b[43mPath\u001b[49m\u001b[43m(\u001b[49m\u001b[43mblob_path\u001b[49m\u001b[43m)\u001b[49m\u001b[43m,\u001b[49m\n\u001b[1;32m   1014\u001b[0m \u001b[43m        \u001b[49m\u001b[43murl_to_download\u001b[49m\u001b[38;5;241;43m=\u001b[39;49m\u001b[43murl_to_download\u001b[49m\u001b[43m,\u001b[49m\n\u001b[1;32m   1015\u001b[0m \u001b[43m        \u001b[49m\u001b[43mproxies\u001b[49m\u001b[38;5;241;43m=\u001b[39;49m\u001b[43mproxies\u001b[49m\u001b[43m,\u001b[49m\n\u001b[1;32m   1016\u001b[0m \u001b[43m        \u001b[49m\u001b[43mheaders\u001b[49m\u001b[38;5;241;43m=\u001b[39;49m\u001b[43mheaders\u001b[49m\u001b[43m,\u001b[49m\n\u001b[1;32m   1017\u001b[0m \u001b[43m        \u001b[49m\u001b[43mexpected_size\u001b[49m\u001b[38;5;241;43m=\u001b[39;49m\u001b[43mexpected_size\u001b[49m\u001b[43m,\u001b[49m\n\u001b[1;32m   1018\u001b[0m \u001b[43m        \u001b[49m\u001b[43mfilename\u001b[49m\u001b[38;5;241;43m=\u001b[39;49m\u001b[43mfilename\u001b[49m\u001b[43m,\u001b[49m\n\u001b[1;32m   1019\u001b[0m \u001b[43m        \u001b[49m\u001b[43mforce_download\u001b[49m\u001b[38;5;241;43m=\u001b[39;49m\u001b[43mforce_download\u001b[49m\u001b[43m,\u001b[49m\n\u001b[1;32m   1020\u001b[0m \u001b[43m    \u001b[49m\u001b[43m)\u001b[49m\n\u001b[1;32m   1021\u001b[0m     \u001b[38;5;28;01mif\u001b[39;00m \u001b[38;5;129;01mnot\u001b[39;00m os\u001b[38;5;241m.\u001b[39mpath\u001b[38;5;241m.\u001b[39mexists(pointer_path):\n\u001b[1;32m   1022\u001b[0m         _create_symlink(blob_path, pointer_path, new_blob\u001b[38;5;241m=\u001b[39m\u001b[38;5;28;01mTrue\u001b[39;00m)\n",
      "File \u001b[0;32m~/ssd/softwares/miniconda3/miniconda/envs/pythonAI/lib/python3.12/site-packages/huggingface_hub/file_download.py:1545\u001b[0m, in \u001b[0;36m_download_to_tmp_and_move\u001b[0;34m(incomplete_path, destination_path, url_to_download, proxies, headers, expected_size, filename, force_download)\u001b[0m\n\u001b[1;32m   1542\u001b[0m         _check_disk_space(expected_size, incomplete_path\u001b[38;5;241m.\u001b[39mparent)\n\u001b[1;32m   1543\u001b[0m         _check_disk_space(expected_size, destination_path\u001b[38;5;241m.\u001b[39mparent)\n\u001b[0;32m-> 1545\u001b[0m     \u001b[43mhttp_get\u001b[49m\u001b[43m(\u001b[49m\n\u001b[1;32m   1546\u001b[0m \u001b[43m        \u001b[49m\u001b[43murl_to_download\u001b[49m\u001b[43m,\u001b[49m\n\u001b[1;32m   1547\u001b[0m \u001b[43m        \u001b[49m\u001b[43mf\u001b[49m\u001b[43m,\u001b[49m\n\u001b[1;32m   1548\u001b[0m \u001b[43m        \u001b[49m\u001b[43mproxies\u001b[49m\u001b[38;5;241;43m=\u001b[39;49m\u001b[43mproxies\u001b[49m\u001b[43m,\u001b[49m\n\u001b[1;32m   1549\u001b[0m \u001b[43m        \u001b[49m\u001b[43mresume_size\u001b[49m\u001b[38;5;241;43m=\u001b[39;49m\u001b[43mresume_size\u001b[49m\u001b[43m,\u001b[49m\n\u001b[1;32m   1550\u001b[0m \u001b[43m        \u001b[49m\u001b[43mheaders\u001b[49m\u001b[38;5;241;43m=\u001b[39;49m\u001b[43mheaders\u001b[49m\u001b[43m,\u001b[49m\n\u001b[1;32m   1551\u001b[0m \u001b[43m        \u001b[49m\u001b[43mexpected_size\u001b[49m\u001b[38;5;241;43m=\u001b[39;49m\u001b[43mexpected_size\u001b[49m\u001b[43m,\u001b[49m\n\u001b[1;32m   1552\u001b[0m \u001b[43m    \u001b[49m\u001b[43m)\u001b[49m\n\u001b[1;32m   1554\u001b[0m logger\u001b[38;5;241m.\u001b[39minfo(\u001b[38;5;124mf\u001b[39m\u001b[38;5;124m\"\u001b[39m\u001b[38;5;124mDownload complete. Moving file to \u001b[39m\u001b[38;5;132;01m{\u001b[39;00mdestination_path\u001b[38;5;132;01m}\u001b[39;00m\u001b[38;5;124m\"\u001b[39m)\n\u001b[1;32m   1555\u001b[0m _chmod_and_move(incomplete_path, destination_path)\n",
      "File \u001b[0;32m~/ssd/softwares/miniconda3/miniconda/envs/pythonAI/lib/python3.12/site-packages/huggingface_hub/file_download.py:454\u001b[0m, in \u001b[0;36mhttp_get\u001b[0;34m(url, temp_file, proxies, resume_size, headers, expected_size, displayed_filename, _nb_retries, _tqdm_bar)\u001b[0m\n\u001b[1;32m    452\u001b[0m new_resume_size \u001b[38;5;241m=\u001b[39m resume_size\n\u001b[1;32m    453\u001b[0m \u001b[38;5;28;01mtry\u001b[39;00m:\n\u001b[0;32m--> 454\u001b[0m \u001b[43m    \u001b[49m\u001b[38;5;28;43;01mfor\u001b[39;49;00m\u001b[43m \u001b[49m\u001b[43mchunk\u001b[49m\u001b[43m \u001b[49m\u001b[38;5;129;43;01min\u001b[39;49;00m\u001b[43m \u001b[49m\u001b[43mr\u001b[49m\u001b[38;5;241;43m.\u001b[39;49m\u001b[43miter_content\u001b[49m\u001b[43m(\u001b[49m\u001b[43mchunk_size\u001b[49m\u001b[38;5;241;43m=\u001b[39;49m\u001b[43mconstants\u001b[49m\u001b[38;5;241;43m.\u001b[39;49m\u001b[43mDOWNLOAD_CHUNK_SIZE\u001b[49m\u001b[43m)\u001b[49m\u001b[43m:\u001b[49m\n\u001b[1;32m    455\u001b[0m \u001b[43m        \u001b[49m\u001b[38;5;28;43;01mif\u001b[39;49;00m\u001b[43m \u001b[49m\u001b[43mchunk\u001b[49m\u001b[43m:\u001b[49m\u001b[43m  \u001b[49m\u001b[38;5;66;43;03m# filter out keep-alive new chunks\u001b[39;49;00m\n\u001b[1;32m    456\u001b[0m \u001b[43m            \u001b[49m\u001b[43mprogress\u001b[49m\u001b[38;5;241;43m.\u001b[39;49m\u001b[43mupdate\u001b[49m\u001b[43m(\u001b[49m\u001b[38;5;28;43mlen\u001b[39;49m\u001b[43m(\u001b[49m\u001b[43mchunk\u001b[49m\u001b[43m)\u001b[49m\u001b[43m)\u001b[49m\n",
      "File \u001b[0;32m~/ssd/softwares/miniconda3/miniconda/envs/pythonAI/lib/python3.12/site-packages/requests/models.py:820\u001b[0m, in \u001b[0;36mResponse.iter_content.<locals>.generate\u001b[0;34m()\u001b[0m\n\u001b[1;32m    818\u001b[0m \u001b[38;5;28;01mif\u001b[39;00m \u001b[38;5;28mhasattr\u001b[39m(\u001b[38;5;28mself\u001b[39m\u001b[38;5;241m.\u001b[39mraw, \u001b[38;5;124m\"\u001b[39m\u001b[38;5;124mstream\u001b[39m\u001b[38;5;124m\"\u001b[39m):\n\u001b[1;32m    819\u001b[0m     \u001b[38;5;28;01mtry\u001b[39;00m:\n\u001b[0;32m--> 820\u001b[0m         \u001b[38;5;28;01myield from\u001b[39;00m \u001b[38;5;28mself\u001b[39m\u001b[38;5;241m.\u001b[39mraw\u001b[38;5;241m.\u001b[39mstream(chunk_size, decode_content\u001b[38;5;241m=\u001b[39m\u001b[38;5;28;01mTrue\u001b[39;00m)\n\u001b[1;32m    821\u001b[0m     \u001b[38;5;28;01mexcept\u001b[39;00m ProtocolError \u001b[38;5;28;01mas\u001b[39;00m e:\n\u001b[1;32m    822\u001b[0m         \u001b[38;5;28;01mraise\u001b[39;00m ChunkedEncodingError(e)\n",
      "File \u001b[0;32m~/ssd/softwares/miniconda3/miniconda/envs/pythonAI/lib/python3.12/site-packages/urllib3/response.py:1060\u001b[0m, in \u001b[0;36mHTTPResponse.stream\u001b[0;34m(self, amt, decode_content)\u001b[0m\n\u001b[1;32m   1058\u001b[0m \u001b[38;5;28;01melse\u001b[39;00m:\n\u001b[1;32m   1059\u001b[0m     \u001b[38;5;28;01mwhile\u001b[39;00m \u001b[38;5;129;01mnot\u001b[39;00m is_fp_closed(\u001b[38;5;28mself\u001b[39m\u001b[38;5;241m.\u001b[39m_fp) \u001b[38;5;129;01mor\u001b[39;00m \u001b[38;5;28mlen\u001b[39m(\u001b[38;5;28mself\u001b[39m\u001b[38;5;241m.\u001b[39m_decoded_buffer) \u001b[38;5;241m>\u001b[39m \u001b[38;5;241m0\u001b[39m:\n\u001b[0;32m-> 1060\u001b[0m         data \u001b[38;5;241m=\u001b[39m \u001b[38;5;28;43mself\u001b[39;49m\u001b[38;5;241;43m.\u001b[39;49m\u001b[43mread\u001b[49m\u001b[43m(\u001b[49m\u001b[43mamt\u001b[49m\u001b[38;5;241;43m=\u001b[39;49m\u001b[43mamt\u001b[49m\u001b[43m,\u001b[49m\u001b[43m \u001b[49m\u001b[43mdecode_content\u001b[49m\u001b[38;5;241;43m=\u001b[39;49m\u001b[43mdecode_content\u001b[49m\u001b[43m)\u001b[49m\n\u001b[1;32m   1062\u001b[0m         \u001b[38;5;28;01mif\u001b[39;00m data:\n\u001b[1;32m   1063\u001b[0m             \u001b[38;5;28;01myield\u001b[39;00m data\n",
      "File \u001b[0;32m~/ssd/softwares/miniconda3/miniconda/envs/pythonAI/lib/python3.12/site-packages/urllib3/response.py:949\u001b[0m, in \u001b[0;36mHTTPResponse.read\u001b[0;34m(self, amt, decode_content, cache_content)\u001b[0m\n\u001b[1;32m    946\u001b[0m     \u001b[38;5;28;01mif\u001b[39;00m \u001b[38;5;28mlen\u001b[39m(\u001b[38;5;28mself\u001b[39m\u001b[38;5;241m.\u001b[39m_decoded_buffer) \u001b[38;5;241m>\u001b[39m\u001b[38;5;241m=\u001b[39m amt:\n\u001b[1;32m    947\u001b[0m         \u001b[38;5;28;01mreturn\u001b[39;00m \u001b[38;5;28mself\u001b[39m\u001b[38;5;241m.\u001b[39m_decoded_buffer\u001b[38;5;241m.\u001b[39mget(amt)\n\u001b[0;32m--> 949\u001b[0m data \u001b[38;5;241m=\u001b[39m \u001b[38;5;28;43mself\u001b[39;49m\u001b[38;5;241;43m.\u001b[39;49m\u001b[43m_raw_read\u001b[49m\u001b[43m(\u001b[49m\u001b[43mamt\u001b[49m\u001b[43m)\u001b[49m\n\u001b[1;32m    951\u001b[0m flush_decoder \u001b[38;5;241m=\u001b[39m amt \u001b[38;5;129;01mis\u001b[39;00m \u001b[38;5;28;01mNone\u001b[39;00m \u001b[38;5;129;01mor\u001b[39;00m (amt \u001b[38;5;241m!=\u001b[39m \u001b[38;5;241m0\u001b[39m \u001b[38;5;129;01mand\u001b[39;00m \u001b[38;5;129;01mnot\u001b[39;00m data)\n\u001b[1;32m    953\u001b[0m \u001b[38;5;28;01mif\u001b[39;00m \u001b[38;5;129;01mnot\u001b[39;00m data \u001b[38;5;129;01mand\u001b[39;00m \u001b[38;5;28mlen\u001b[39m(\u001b[38;5;28mself\u001b[39m\u001b[38;5;241m.\u001b[39m_decoded_buffer) \u001b[38;5;241m==\u001b[39m \u001b[38;5;241m0\u001b[39m:\n",
      "File \u001b[0;32m~/ssd/softwares/miniconda3/miniconda/envs/pythonAI/lib/python3.12/site-packages/urllib3/response.py:873\u001b[0m, in \u001b[0;36mHTTPResponse._raw_read\u001b[0;34m(self, amt, read1)\u001b[0m\n\u001b[1;32m    870\u001b[0m fp_closed \u001b[38;5;241m=\u001b[39m \u001b[38;5;28mgetattr\u001b[39m(\u001b[38;5;28mself\u001b[39m\u001b[38;5;241m.\u001b[39m_fp, \u001b[38;5;124m\"\u001b[39m\u001b[38;5;124mclosed\u001b[39m\u001b[38;5;124m\"\u001b[39m, \u001b[38;5;28;01mFalse\u001b[39;00m)\n\u001b[1;32m    872\u001b[0m \u001b[38;5;28;01mwith\u001b[39;00m \u001b[38;5;28mself\u001b[39m\u001b[38;5;241m.\u001b[39m_error_catcher():\n\u001b[0;32m--> 873\u001b[0m     data \u001b[38;5;241m=\u001b[39m \u001b[38;5;28;43mself\u001b[39;49m\u001b[38;5;241;43m.\u001b[39;49m\u001b[43m_fp_read\u001b[49m\u001b[43m(\u001b[49m\u001b[43mamt\u001b[49m\u001b[43m,\u001b[49m\u001b[43m \u001b[49m\u001b[43mread1\u001b[49m\u001b[38;5;241;43m=\u001b[39;49m\u001b[43mread1\u001b[49m\u001b[43m)\u001b[49m \u001b[38;5;28;01mif\u001b[39;00m \u001b[38;5;129;01mnot\u001b[39;00m fp_closed \u001b[38;5;28;01melse\u001b[39;00m \u001b[38;5;124mb\u001b[39m\u001b[38;5;124m\"\u001b[39m\u001b[38;5;124m\"\u001b[39m\n\u001b[1;32m    874\u001b[0m     \u001b[38;5;28;01mif\u001b[39;00m amt \u001b[38;5;129;01mis\u001b[39;00m \u001b[38;5;129;01mnot\u001b[39;00m \u001b[38;5;28;01mNone\u001b[39;00m \u001b[38;5;129;01mand\u001b[39;00m amt \u001b[38;5;241m!=\u001b[39m \u001b[38;5;241m0\u001b[39m \u001b[38;5;129;01mand\u001b[39;00m \u001b[38;5;129;01mnot\u001b[39;00m data:\n\u001b[1;32m    875\u001b[0m         \u001b[38;5;66;03m# Platform-specific: Buggy versions of Python.\u001b[39;00m\n\u001b[1;32m    876\u001b[0m         \u001b[38;5;66;03m# Close the connection when no data is returned\u001b[39;00m\n\u001b[0;32m   (...)\u001b[0m\n\u001b[1;32m    881\u001b[0m         \u001b[38;5;66;03m# not properly close the connection in all cases. There is\u001b[39;00m\n\u001b[1;32m    882\u001b[0m         \u001b[38;5;66;03m# no harm in redundantly calling close.\u001b[39;00m\n\u001b[1;32m    883\u001b[0m         \u001b[38;5;28mself\u001b[39m\u001b[38;5;241m.\u001b[39m_fp\u001b[38;5;241m.\u001b[39mclose()\n",
      "File \u001b[0;32m~/ssd/softwares/miniconda3/miniconda/envs/pythonAI/lib/python3.12/site-packages/urllib3/response.py:856\u001b[0m, in \u001b[0;36mHTTPResponse._fp_read\u001b[0;34m(self, amt, read1)\u001b[0m\n\u001b[1;32m    853\u001b[0m     \u001b[38;5;28;01mreturn\u001b[39;00m \u001b[38;5;28mself\u001b[39m\u001b[38;5;241m.\u001b[39m_fp\u001b[38;5;241m.\u001b[39mread1(amt) \u001b[38;5;28;01mif\u001b[39;00m amt \u001b[38;5;129;01mis\u001b[39;00m \u001b[38;5;129;01mnot\u001b[39;00m \u001b[38;5;28;01mNone\u001b[39;00m \u001b[38;5;28;01melse\u001b[39;00m \u001b[38;5;28mself\u001b[39m\u001b[38;5;241m.\u001b[39m_fp\u001b[38;5;241m.\u001b[39mread1()\n\u001b[1;32m    854\u001b[0m \u001b[38;5;28;01melse\u001b[39;00m:\n\u001b[1;32m    855\u001b[0m     \u001b[38;5;66;03m# StringIO doesn't like amt=None\u001b[39;00m\n\u001b[0;32m--> 856\u001b[0m     \u001b[38;5;28;01mreturn\u001b[39;00m \u001b[38;5;28;43mself\u001b[39;49m\u001b[38;5;241;43m.\u001b[39;49m\u001b[43m_fp\u001b[49m\u001b[38;5;241;43m.\u001b[39;49m\u001b[43mread\u001b[49m\u001b[43m(\u001b[49m\u001b[43mamt\u001b[49m\u001b[43m)\u001b[49m \u001b[38;5;28;01mif\u001b[39;00m amt \u001b[38;5;129;01mis\u001b[39;00m \u001b[38;5;129;01mnot\u001b[39;00m \u001b[38;5;28;01mNone\u001b[39;00m \u001b[38;5;28;01melse\u001b[39;00m \u001b[38;5;28mself\u001b[39m\u001b[38;5;241m.\u001b[39m_fp\u001b[38;5;241m.\u001b[39mread()\n",
      "File \u001b[0;32m~/ssd/softwares/miniconda3/miniconda/envs/pythonAI/lib/python3.12/http/client.py:479\u001b[0m, in \u001b[0;36mHTTPResponse.read\u001b[0;34m(self, amt)\u001b[0m\n\u001b[1;32m    476\u001b[0m \u001b[38;5;28;01mif\u001b[39;00m \u001b[38;5;28mself\u001b[39m\u001b[38;5;241m.\u001b[39mlength \u001b[38;5;129;01mis\u001b[39;00m \u001b[38;5;129;01mnot\u001b[39;00m \u001b[38;5;28;01mNone\u001b[39;00m \u001b[38;5;129;01mand\u001b[39;00m amt \u001b[38;5;241m>\u001b[39m \u001b[38;5;28mself\u001b[39m\u001b[38;5;241m.\u001b[39mlength:\n\u001b[1;32m    477\u001b[0m     \u001b[38;5;66;03m# clip the read to the \"end of response\"\u001b[39;00m\n\u001b[1;32m    478\u001b[0m     amt \u001b[38;5;241m=\u001b[39m \u001b[38;5;28mself\u001b[39m\u001b[38;5;241m.\u001b[39mlength\n\u001b[0;32m--> 479\u001b[0m s \u001b[38;5;241m=\u001b[39m \u001b[38;5;28;43mself\u001b[39;49m\u001b[38;5;241;43m.\u001b[39;49m\u001b[43mfp\u001b[49m\u001b[38;5;241;43m.\u001b[39;49m\u001b[43mread\u001b[49m\u001b[43m(\u001b[49m\u001b[43mamt\u001b[49m\u001b[43m)\u001b[49m\n\u001b[1;32m    480\u001b[0m \u001b[38;5;28;01mif\u001b[39;00m \u001b[38;5;129;01mnot\u001b[39;00m s \u001b[38;5;129;01mand\u001b[39;00m amt:\n\u001b[1;32m    481\u001b[0m     \u001b[38;5;66;03m# Ideally, we would raise IncompleteRead if the content-length\u001b[39;00m\n\u001b[1;32m    482\u001b[0m     \u001b[38;5;66;03m# wasn't satisfied, but it might break compatibility.\u001b[39;00m\n\u001b[1;32m    483\u001b[0m     \u001b[38;5;28mself\u001b[39m\u001b[38;5;241m.\u001b[39m_close_conn()\n",
      "File \u001b[0;32m~/ssd/softwares/miniconda3/miniconda/envs/pythonAI/lib/python3.12/socket.py:707\u001b[0m, in \u001b[0;36mSocketIO.readinto\u001b[0;34m(self, b)\u001b[0m\n\u001b[1;32m    705\u001b[0m \u001b[38;5;28;01mwhile\u001b[39;00m \u001b[38;5;28;01mTrue\u001b[39;00m:\n\u001b[1;32m    706\u001b[0m     \u001b[38;5;28;01mtry\u001b[39;00m:\n\u001b[0;32m--> 707\u001b[0m         \u001b[38;5;28;01mreturn\u001b[39;00m \u001b[38;5;28;43mself\u001b[39;49m\u001b[38;5;241;43m.\u001b[39;49m\u001b[43m_sock\u001b[49m\u001b[38;5;241;43m.\u001b[39;49m\u001b[43mrecv_into\u001b[49m\u001b[43m(\u001b[49m\u001b[43mb\u001b[49m\u001b[43m)\u001b[49m\n\u001b[1;32m    708\u001b[0m     \u001b[38;5;28;01mexcept\u001b[39;00m timeout:\n\u001b[1;32m    709\u001b[0m         \u001b[38;5;28mself\u001b[39m\u001b[38;5;241m.\u001b[39m_timeout_occurred \u001b[38;5;241m=\u001b[39m \u001b[38;5;28;01mTrue\u001b[39;00m\n",
      "File \u001b[0;32m~/ssd/softwares/miniconda3/miniconda/envs/pythonAI/lib/python3.12/ssl.py:1252\u001b[0m, in \u001b[0;36mSSLSocket.recv_into\u001b[0;34m(self, buffer, nbytes, flags)\u001b[0m\n\u001b[1;32m   1248\u001b[0m     \u001b[38;5;28;01mif\u001b[39;00m flags \u001b[38;5;241m!=\u001b[39m \u001b[38;5;241m0\u001b[39m:\n\u001b[1;32m   1249\u001b[0m         \u001b[38;5;28;01mraise\u001b[39;00m \u001b[38;5;167;01mValueError\u001b[39;00m(\n\u001b[1;32m   1250\u001b[0m           \u001b[38;5;124m\"\u001b[39m\u001b[38;5;124mnon-zero flags not allowed in calls to recv_into() on \u001b[39m\u001b[38;5;132;01m%s\u001b[39;00m\u001b[38;5;124m\"\u001b[39m \u001b[38;5;241m%\u001b[39m\n\u001b[1;32m   1251\u001b[0m           \u001b[38;5;28mself\u001b[39m\u001b[38;5;241m.\u001b[39m\u001b[38;5;18m__class__\u001b[39m)\n\u001b[0;32m-> 1252\u001b[0m     \u001b[38;5;28;01mreturn\u001b[39;00m \u001b[38;5;28;43mself\u001b[39;49m\u001b[38;5;241;43m.\u001b[39;49m\u001b[43mread\u001b[49m\u001b[43m(\u001b[49m\u001b[43mnbytes\u001b[49m\u001b[43m,\u001b[49m\u001b[43m \u001b[49m\u001b[43mbuffer\u001b[49m\u001b[43m)\u001b[49m\n\u001b[1;32m   1253\u001b[0m \u001b[38;5;28;01melse\u001b[39;00m:\n\u001b[1;32m   1254\u001b[0m     \u001b[38;5;28;01mreturn\u001b[39;00m \u001b[38;5;28msuper\u001b[39m()\u001b[38;5;241m.\u001b[39mrecv_into(buffer, nbytes, flags)\n",
      "File \u001b[0;32m~/ssd/softwares/miniconda3/miniconda/envs/pythonAI/lib/python3.12/ssl.py:1104\u001b[0m, in \u001b[0;36mSSLSocket.read\u001b[0;34m(self, len, buffer)\u001b[0m\n\u001b[1;32m   1102\u001b[0m \u001b[38;5;28;01mtry\u001b[39;00m:\n\u001b[1;32m   1103\u001b[0m     \u001b[38;5;28;01mif\u001b[39;00m buffer \u001b[38;5;129;01mis\u001b[39;00m \u001b[38;5;129;01mnot\u001b[39;00m \u001b[38;5;28;01mNone\u001b[39;00m:\n\u001b[0;32m-> 1104\u001b[0m         \u001b[38;5;28;01mreturn\u001b[39;00m \u001b[38;5;28;43mself\u001b[39;49m\u001b[38;5;241;43m.\u001b[39;49m\u001b[43m_sslobj\u001b[49m\u001b[38;5;241;43m.\u001b[39;49m\u001b[43mread\u001b[49m\u001b[43m(\u001b[49m\u001b[38;5;28;43mlen\u001b[39;49m\u001b[43m,\u001b[49m\u001b[43m \u001b[49m\u001b[43mbuffer\u001b[49m\u001b[43m)\u001b[49m\n\u001b[1;32m   1105\u001b[0m     \u001b[38;5;28;01melse\u001b[39;00m:\n\u001b[1;32m   1106\u001b[0m         \u001b[38;5;28;01mreturn\u001b[39;00m \u001b[38;5;28mself\u001b[39m\u001b[38;5;241m.\u001b[39m_sslobj\u001b[38;5;241m.\u001b[39mread(\u001b[38;5;28mlen\u001b[39m)\n",
      "\u001b[0;31mKeyboardInterrupt\u001b[0m: "
     ]
    }
   ],
   "source": [
    "from PIL import Image\n",
    "import requests\n",
    "import torch\n",
    "from torchvision import io\n",
    "from typing import Dict\n",
    "import transformers.models.qwen2_vl.modeling_qwen2_vl.Qwen2VLCausalLMOutputWithPast\n",
    "from transformers import Qwen2VLForConditionalGeneration, AutoTokenizer, AutoProcessor,Qwen2VLModel,Qwen2VLProcessor,Qwen2VLImageProcessor,Qwen2Tokenizer\n",
    "torch.cuda.empty_cache()\n",
    "torch.masked_scatter\n",
    "# Load the model in half-precision on the available device(s)\n",
    "model = Qwen2VLForConditionalGeneration.from_pretrained(\n",
    "    \"Qwen/Qwen2-VL-2B-Instruct\", torch_dtype=\"auto\", device_map=\"auto\"\n",
    ")\n",
    "processor = AutoProcessor.from_bbpretrained(\"Qwen/Qwen2-VL-2B-Instruct\")\n",
    "\n",
    "# Image\n",
    "url = \"https://qianwen-res.oss-cn-beijing.aliyuncs.com/Qwen-VL/assets/demo.jpeg\"\n",
    "image = Image.open(requests.get(url, stream=True).raw)\n",
    "\n",
    "conversation = [\n",
    "    {\n",
    "        \"role\": \"user\",\n",
    "        \"content\": [\n",
    "            {\n",
    "                \"type\": \"image\",\n",
    "            },\n",
    "            {\"type\": \"text\", \"text\": \"Describe this image.\"},\n",
    "        ],\n",
    "    }\n",
    "]\n",
    "\n",
    "\n",
    "# Preprocess the inputs\n",
    "text_prompt = processor.apply_chat_template(conversation, add_generation_prompt=True)\n",
    "print(f\"the text prompt is {text_prompt}\")\n",
    "# Excepted output: '<|im_start|>system\\nYou are a helpful assistant.<|im_end|>\\n<|im_start|>user\\n<|vision_start|><|image_pad|><|vision_end|>Describe this image.<|im_end|>\\n<|im_start|>assistant\\n'\n",
    "\n",
    "inputs = processor(\n",
    "    text=[text_prompt], images=[image], padding=True, return_tensors=\"pt\"\n",
    ")\n",
    "inputs = inputs.to(\"cuda\")\n",
    "\n",
    "# Inference: Generation of the output\n",
    "output_ids = model.generate(**inputs, max_new_tokens=128)\n",
    "generated_ids = [\n",
    "    output_ids[len(input_ids) :]\n",
    "    for input_ids, output_ids in zip(inputs.input_ids, output_ids)\n",
    "]\n",
    "output_text = processor.batch_decode(\n",
    "    generated_ids, skip_special_tokens=True, clean_up_tokenization_spaces=True\n",
    ")\n",
    "print(output_text)"
   ]
  },
  {
   "cell_type": "code",
   "execution_count": 16,
   "metadata": {},
   "outputs": [
    {
     "name": "stdout",
     "output_type": "stream",
     "text": [
      "the type of processor:<class 'transformers.models.qwen2_vl.processing_qwen2_vl.Qwen2VLProcessor'>\n",
      "<|im_start|>system\n",
      "You are a helpful assistant.<|im_end|>\n",
      "<|im_start|>\n",
      "<|im_end|>\n",
      "<|im_start|>\n",
      "<|im_end|>\n",
      "<|im_start|>\n",
      "<|im_end|>\n",
      "<|im_start|>\n",
      "<|im_end|>\n",
      "<|im_start|>\n",
      "<|im_end|>\n",
      "<|im_start|>\n",
      "<|im_end|>\n",
      "\n",
      "1699\n",
      "None\n",
      "[[3848, 3848, 69, 1699]]\n",
      "tensor([[False, False, False,  True]])\n",
      "torch.Size([2, 3, 3])\n"
     ]
    }
   ],
   "source": [
    "from PIL import Image\n",
    "import requests\n",
    "import torch\n",
    "from torchvision import io\n",
    "from typing import Dict\n",
    "from transformers import (\n",
    "    Qwen2VLForConditionalGeneration,\n",
    "    AutoTokenizer,\n",
    "    AutoProcessor,\n",
    "    Qwen2VLModel,\n",
    "    Qwen2VLProcessor,\n",
    "    Qwen2VLImageProcessor,\n",
    ")\n",
    "\n",
    "torch.cuda.empty_cache()\n",
    "processor = AutoProcessor.from_pretrained(\"Qwen/Qwen2-VL-2B-Instruct\")\n",
    "print(f\"the type of processor:{type(processor)}\")\n",
    "index=processor.tokenizer.convert_tokens_to_ids('\\\\n')\n",
    "\n",
    "print(temp)\n",
    "print(index)\n",
    "print(processor.tokenizer.sep_token_id)\n",
    "tokens=processor.tokenizer.encode('fsfsf\\\\n',return_tensors='pt')\n",
    "print(tokens.tolist())\n",
    "print(1699==tokens)\n",
    "\n",
    "\n",
    "x=torch.ones((3,3))\n",
    "y=torch.zeros((3,3))\n",
    "z=torch.stack([x,y],dim=0)\n",
    "print(z.shape)"
   ]
  },
  {
   "cell_type": "code",
   "execution_count": 15,
   "metadata": {},
   "outputs": [
    {
     "ename": "TypeError",
     "evalue": "'list' object cannot be interpreted as an integer",
     "output_type": "error",
     "traceback": [
      "\u001b[0;31m---------------------------------------------------------------------------\u001b[0m",
      "\u001b[0;31mTypeError\u001b[0m                                 Traceback (most recent call last)",
      "Cell \u001b[0;32mIn[15], line 3\u001b[0m\n\u001b[1;32m      1\u001b[0m \u001b[38;5;28;01mimport\u001b[39;00m \u001b[38;5;21;01mtorch\u001b[39;00m\n\u001b[1;32m      2\u001b[0m x\u001b[38;5;241m=\u001b[39mtorch\u001b[38;5;241m.\u001b[39mByteTensor([\u001b[38;5;124m'\u001b[39m\u001b[38;5;124mfsaf\u001b[39m\u001b[38;5;124m'\u001b[39m\u001b[38;5;241m.\u001b[39mencode(\u001b[38;5;124m'\u001b[39m\u001b[38;5;124mutf-8\u001b[39m\u001b[38;5;124m'\u001b[39m)])\n\u001b[0;32m----> 3\u001b[0m \u001b[38;5;28mprint\u001b[39m(\u001b[38;5;28;43mbytearray\u001b[39;49m\u001b[43m(\u001b[49m\u001b[43mx\u001b[49m\u001b[38;5;241;43m.\u001b[39;49m\u001b[43mtolist\u001b[49m\u001b[43m(\u001b[49m\u001b[43m)\u001b[49m\u001b[43m)\u001b[49m\u001b[38;5;241m.\u001b[39mdecode(\u001b[38;5;124m'\u001b[39m\u001b[38;5;124mutf-8\u001b[39m\u001b[38;5;124m'\u001b[39m))\n",
      "\u001b[0;31mTypeError\u001b[0m: 'list' object cannot be interpreted as an integer"
     ]
    }
   ],
   "source": [
    "import torch\n",
    "x=torch.ByteTensor(['fsaf'.encode('utf-8')])\n",
    "print(bytearray(x.tolist()).decode('utf-8'))\n"
   ]
  },
  {
   "cell_type": "code",
   "execution_count": 17,
   "metadata": {},
   "outputs": [],
   "source": [
    "from optuna.integration.pytorch_distributed import TorchDistributedTrial"
   ]
  },
  {
   "cell_type": "code",
   "execution_count": null,
   "metadata": {},
   "outputs": [],
   "source": []
  },
  {
   "cell_type": "code",
   "execution_count": 11,
   "metadata": {},
   "outputs": [
    {
     "name": "stdout",
     "output_type": "stream",
     "text": [
      "The last position of 1699 is at index: 6\n"
     ]
    }
   ],
   "source": [
    "lst = [1, 2, 3, 1699, 5, 7, 1699, 765, 63457]\n",
    "\n",
    "# reversed() 返回一个反转的迭代器，enumerate() 用来获取索引\n",
    "for index, value in enumerate(reversed(lst)):\n",
    "    if value == 1699:\n",
    "        # len(lst) - 1 - index 是为了计算原始列表中的索引位置\n",
    "        last_index = len(lst) - 1 - index\n",
    "        break\n",
    "else:\n",
    "    last_index = None  # 如果没有找到，则设置为 None 或其他默认值\n",
    "\n",
    "print(f\"The last position of 1699 is at index: {last_index}\")"
   ]
  },
  {
   "cell_type": "code",
   "execution_count": null,
   "metadata": {},
   "outputs": [],
   "source": [
    "class Qwen2VLProcessor(ProcessorMixin):\n",
    "    r\"\"\"\n",
    "    Constructs a Qwen2-VL processor which wraps a Qwen2-VL image processor and a Qwen2 tokenizer into a single processor.\n",
    "    [`Qwen2VLProcessor`] offers all the functionalities of [`Qwen2VLImageProcessor`] and [`Qwen2TokenizerFast`]. See the\n",
    "    [`~Qwen2VLProcessor.__call__`] and [`~Qwen2VLProcessor.decode`] for more information.\n",
    "    Args:\n",
    "        image_processor ([`Qwen2VLImageProcessor`], *optional*):\n",
    "            The image processor is a required input.\n",
    "        tokenizer ([`Qwen2TokenizerFast`], *optional*):\n",
    "            The tokenizer is a required input.\n",
    "        chat_template (`str`, *optional*): A Jinja template which will be used to convert lists of messages\n",
    "            in a chat into a tokenizable string.\n",
    "    \"\"\"\n",
    "\n",
    "    attributes = [\"image_processor\", \"tokenizer\"]\n",
    "    valid_kwargs = [\"chat_template\"]\n",
    "    image_processor_class = \"Qwen2VLImageProcessor\"\n",
    "    tokenizer_class = (\"Qwen2Tokenizer\", \"Qwen2TokenizerFast\")\n",
    "\n",
    "    def __init__(\n",
    "        self, image_processor=None, tokenizer=None, chat_template=None, **kwargs\n",
    "    ):\n",
    "        super().__init__(image_processor, tokenizer, chat_template=chat_template)\n",
    "\n",
    "    def __call__(\n",
    "        self,\n",
    "        images: ImageInput = None,\n",
    "        text: Union[\n",
    "            TextInput, PreTokenizedInput, List[TextInput], List[PreTokenizedInput]\n",
    "        ] = None,\n",
    "        videos: VideoInput = None,\n",
    "        **kwargs: Unpack[Qwen2VLProcessorKwargs],\n",
    "    ) -> BatchFeature:\n",
    "        \"\"\"\n",
    "        Main method to prepare for the model one or several sequences(s) and image(s). This method forwards the `text`\n",
    "        and `kwargs` arguments to Qwen2TokenizerFast's [`~Qwen2TokenizerFast.__call__`] if `text` is not `None` to encode\n",
    "        the text. To prepare the vision inputs, this method forwards the `vision_infos` and `kwrags` arguments to\n",
    "        Qwen2VLImageProcessor's [`~Qwen2VLImageProcessor.__call__`] if `vision_infos` is not `None`.\n",
    "\n",
    "        Args:\n",
    "            images (`PIL.Image.Image`, `np.ndarray`, `torch.Tensor`, `List[PIL.Image.Image]`, `List[np.ndarray]`, `List[torch.Tensor]`):\n",
    "                The image or batch of images to be prepared. Each image can be a PIL image, NumPy array or PyTorch\n",
    "                tensor. Both channels-first and channels-last formats are supported.\n",
    "            text (`str`, `List[str]`, `List[List[str]]`):\n",
    "                The sequence or batch of sequences to be encoded. Each sequence can be a string or a list of strings\n",
    "                (pretokenized string). If the sequences are provided as list of strings (pretokenized), you must set\n",
    "                `is_split_into_words=True` (to lift the ambiguity with a batch of sequences).\n",
    "            videos (`np.ndarray`, `torch.Tensor`, `List[np.ndarray]`, `List[torch.Tensor]`):\n",
    "                The image or batch of videos to be prepared. Each video can be a 4D NumPy array or PyTorch\n",
    "                tensor, or a nested list of 3D frames. Both channels-first and channels-last formats are supported.\n",
    "            return_tensors (`str` or [`~utils.TensorType`], *optional*):\n",
    "                If set, will return tensors of a particular framework. Acceptable values are:\n",
    "                - `'tf'`: Return TensorFlow `tf.constant` objects.\n",
    "                - `'pt'`: Return PyTorch `torch.Tensor` objects.\n",
    "                - `'np'`: Return NumPy `np.ndarray` objects.\n",
    "                - `'jax'`: Return JAX `jnp.ndarray` objects.\n",
    "\n",
    "        Returns:\n",
    "            [`BatchFeature`]: A [`BatchFeature`] with the following fields:\n",
    "\n",
    "            - **input_ids** -- List of token ids to be fed to a model. Returned when `text` is not `None`.\n",
    "            - **attention_mask** -- List of indices specifying which tokens should be attended to by the model (when\n",
    "              `return_attention_mask=True` or if *\"attention_mask\"* is in `self.model_input_names` and if `text` is not\n",
    "              `None`).\n",
    "            - **pixel_values** -- Pixel values to be fed to a model. Returned when `images` is not `None`.\n",
    "            - **pixel_values_videos** -- Pixel values of videos to be fed to a model. Returned when `videos` is not `None`.\n",
    "            - **image_grid_thw** -- List of image 3D grid in LLM. Returned when `images` is not `None`.\n",
    "            - **video_grid_thw** -- List of video 3D grid in LLM. Returned when `videos` is not `None`.\n",
    "        \"\"\"\n",
    "        pass"
   ]
  },
  {
   "cell_type": "code",
   "execution_count": 21,
   "metadata": {},
   "outputs": [
    {
     "ename": "SyntaxError",
     "evalue": "invalid syntax (3466497153.py, line 3)",
     "output_type": "error",
     "traceback": [
      "\u001b[0;36m  Cell \u001b[0;32mIn[21], line 3\u001b[0;36m\u001b[0m\n\u001b[0;31m    from ray.tune.integration\u001b[0m\n\u001b[0m                              ^\u001b[0m\n\u001b[0;31mSyntaxError\u001b[0m\u001b[0;31m:\u001b[0m invalid syntax\n"
     ]
    }
   ],
   "source": [
    "from ray import tune\n",
    "import ray\n",
    "\n",
    "\n",
    "ray.train.report"
   ]
  },
  {
   "cell_type": "code",
   "execution_count": 1,
   "metadata": {},
   "outputs": [
    {
     "data": {
      "text/plain": [
       "1000.0"
      ]
     },
     "execution_count": 1,
     "metadata": {},
     "output_type": "execute_result"
    }
   ],
   "source": [
    "1e3"
   ]
  },
  {
   "cell_type": "code",
   "execution_count": 1,
   "metadata": {},
   "outputs": [],
   "source": [
    "import json\n",
    "import os\n",
    "import numpy as np\n",
    "import time\n"
   ]
  },
  {
   "cell_type": "code",
   "execution_count": 12,
   "metadata": {},
   "outputs": [
    {
     "name": "stdout",
     "output_type": "stream",
     "text": [
      "/home/zkl/others/master/pycodes/project/competitions/tianchi/mllm/src/utils\n"
     ]
    }
   ],
   "source": [
    "!pwd"
   ]
  },
  {
   "cell_type": "code",
   "execution_count": 8,
   "metadata": {},
   "outputs": [
    {
     "name": "stdout",
     "output_type": "stream",
     "text": [
      "[8, 5, 3, 10, 9, 7, 1, 1, 7, 4, 2, 6, 6, 5, {'b': 3}, 9, 8, 23, 4]\n"
     ]
    }
   ],
   "source": [
    "import random\n",
    "x=[1,23,4,5,6,7,8,9,10,{'b':3}]\n",
    "y=[1,2,3,4,5,6,7,8,9]\n",
    "z=x+y\n",
    "random.shuffle(z)\n",
    "print(z)"
   ]
  },
  {
   "cell_type": "code",
   "execution_count": 2,
   "metadata": {},
   "outputs": [
    {
     "name": "stdout",
     "output_type": "stream",
     "text": [
      "/home/zkl/others/master/pycodes/project/competitions/tianchi/mllm/src\n"
     ]
    }
   ],
   "source": [
    "!pwd"
   ]
  },
  {
   "cell_type": "code",
   "execution_count": 3,
   "metadata": {},
   "outputs": [
    {
     "name": "stdout",
     "output_type": "stream",
     "text": [
      "the invalid datas:[]\n",
      "Time cost: 0.12s\n"
     ]
    }
   ],
   "source": [
    "import json,os\n",
    "def check_data_valid(data_path):\n",
    "    file_path=os.path.join(data_path,'test1','data.json')\n",
    "    invalid=[]\n",
    "    with open(file=file_path,mode='r') as fp:\n",
    "        datas_json=json.load(fp)\n",
    "    for index in range(len(datas_json)):\n",
    "        place_holder=datas_json[index]['instruction'].count('<image>')\n",
    "        num_img=len(datas_json[index]['image'])\n",
    "    if num_img!=place_holder or num_img==0 or place_holder==0:\n",
    "        invalid.append(index)\n",
    "    print(f\"the invalid datas:{invalid}\")\n",
    "        \n",
    "\n",
    "check_data_valid('../../datas') \n",
    "\n",
    "\n",
    "import random\n",
    "import time\n",
    "import numpy as np\n",
    "# import os \n",
    "# os.chdir()\n",
    "\n",
    "\n",
    "def count_substring(main_string, substring):\n",
    "    return main_string.count(substring)\n",
    "\n",
    "# # 示例用法\n",
    "# main_string = \"hello world, hello universe\"\n",
    "# substring = \"hello\"\n",
    "# count = count_substring(main_string, substring)\n",
    "# print(f\"'{substring}' appears {count} times in the string.\")\n",
    "def split_dataset(data_path, train_ratio=0.8, val_ratio=0.1, test_ratio=0.1,saving=True,seed=567):\n",
    "    # 用来产生训练集、验证集、测试集的函数，输入的data_path 是一个文件夹，下面需要有一个data.json文件，里面是json格式的数据，\n",
    "    # 该函数会将之后的结果保存到和data.json同级的train.json、val.json、test.json文件中。\n",
    "    \n",
    "    np.random.seed(seed)\n",
    "    data_json_path=os.path.join(data_path, 'data.json')\n",
    "    with open(data_json_path, 'r') as f:\n",
    "        data_json=json.load(f)\n",
    "    index=np.arange(len(data_json))\n",
    "    shullfed_index=np.random.permutation(index)\n",
    "    train_index=shullfed_index[:int(len(data_json)*train_ratio)]\n",
    "    val_index=shullfed_index[int(len(data_json)*train_ratio):int(len(data_json)*(train_ratio+val_ratio))]\n",
    "    test_index=shullfed_index[int(len(data_json)*(train_ratio+val_ratio)):]\n",
    "    \n",
    "    def _check_index(train_json,index):\n",
    "        num_img=len(train_json[index]['image'])\n",
    "        place_holder=train_json[index]['instruction'].count('<image>')\n",
    "        if num_img!=place_holder or num_img==0 or place_holder==0:\n",
    "            return False\n",
    "        else:\n",
    "            return True\n",
    "        \n",
    "    def split_task(data_json,index):\n",
    "        task_0_index=[]\n",
    "        task_1_index=[]\n",
    "        for i in index:\n",
    "            if data_json[i]['instruction'].startswith('Picture') :\n",
    "                if _check_index(data_json,i):\n",
    "                    task_0_index.append(i)\n",
    "            else:\n",
    "                if _check_index(data_json,i):\n",
    "                    task_1_index.append(i)\n",
    "        return task_0_index,task_1_index\n",
    "    train_0_index,train_1_index=split_task(data_json,train_index)\n",
    "    val_0_index,val_1_index=split_task(data_json,val_index)\n",
    "    test_0_index,test_1_index=split_task(data_json,test_index)\n",
    "    \n",
    "    train_0_json=[data_json[i] for i in train_0_index]\n",
    "    train_1_json=[data_json[i] for i in train_1_index]\n",
    "    val_0_json=[data_json[i] for i in val_0_index]\n",
    "    val_1_json=[data_json[i] for i in val_1_index]\n",
    "    test_0_json=[data_json[i] for i in test_0_index]\n",
    "    test_1_json=[data_json[i] for i in test_1_index]\n",
    "    \n",
    "    train_json=(train_0_json+train_1_json)\n",
    "    val_json=(val_0_json+val_1_json)\n",
    "    test_json=(test_0_json+test_1_json)\n",
    "    \n",
    "    random.shuffle(train_json)\n",
    "    random.shuffle(val_json)\n",
    "    random.shuffle(test_json)\n",
    "    \n",
    "    train_dict={'stats':{'0':{'type':'图片分类','number':len(train_0_json)},'1':{'type':'意图分类','number':len(train_1_json)}},'0':train_0_json,'1':train_1_json,'all':train_json}\n",
    "    val_dict={'stats':{'0':{'type':'图片分类','number':len(val_0_json)},'1':{'type':'意图分类','number':len(val_1_json)}},'0':val_0_json,'1':val_1_json,'all':val_json}\n",
    "    test_dict={'stats':{'0':{'type':'图片分类','number':len(test_0_json)},'1':{'type':'意图分类','number':len(test_1_json)}},'0':test_0_json,'1':test_1_json,'all':test_json}\n",
    "    \n",
    "    \n",
    "    if saving:\n",
    "        for json_name,json_data in zip([ 'test'], [test_dict]):\n",
    "            with open(os.path.join(data_path, f'{json_name}.json'), 'w') as f:\n",
    "                json.dump(obj=json_data, fp=f,ensure_ascii=False)\n",
    "    return train_json, val_json, test_json\n",
    "    \n",
    "start_time=time.time()\n",
    "train_json, val_json, test_json=split_dataset(data_path='../../datas/test1',train_ratio=0.9,val_ratio=0.05,test_ratio=0.05,saving=True,seed=123)\n",
    "print(f'Time cost: {time.time()-start_time:.2f}s')"
   ]
  },
  {
   "cell_type": "code",
   "execution_count": 14,
   "metadata": {},
   "outputs": [
    {
     "name": "stdout",
     "output_type": "stream",
     "text": [
      "Time cost: 0.03s\n"
     ]
    }
   ],
   "source": [
    "import random\n",
    "import time\n",
    "# import os \n",
    "# os.chdir()\n",
    "\n",
    "\n",
    "def count_substring(main_string, substring):\n",
    "    return main_string.count(substring)\n",
    "\n",
    "# # 示例用法\n",
    "# main_string = \"hello world, hello universe\"\n",
    "# substring = \"hello\"\n",
    "# count = count_substring(main_string, substring)\n",
    "# print(f\"'{substring}' appears {count} times in the string.\")\n",
    "def split_dataset(data_path, train_ratio=0.8, val_ratio=0.1, test_ratio=0.1,saving=True,seed=567):\n",
    "    # 用来产生训练集、验证集、测试集的函数，输入的data_path 是一个文件夹，下面需要有一个data.json文件，里面是json格式的数据，\n",
    "    # 该函数会将之后的结果保存到和data.json同级的train.json、val.json、test.json文件中。\n",
    "    \n",
    "    np.random.seed(seed)\n",
    "    data_json_path=os.path.join(data_path, 'data.json')\n",
    "    with open(data_json_path, 'r') as f:\n",
    "        data_json=json.load(f)\n",
    "    index=np.arange(len(data_json))\n",
    "    shullfed_index=np.random.permutation(index)\n",
    "    train_index=shullfed_index[:int(len(data_json)*train_ratio)]\n",
    "    val_index=shullfed_index[int(len(data_json)*train_ratio):int(len(data_json)*(train_ratio+val_ratio))]\n",
    "    test_index=shullfed_index[int(len(data_json)*(train_ratio+val_ratio)):]\n",
    "    \n",
    "    def _check_index(train_json,index):\n",
    "        num_img=len(train_json[index]['image'])\n",
    "        place_holder=train_json[index]['instruction'].count('<image>')\n",
    "        if num_img!=place_holder or num_img==0 or place_holder==0:\n",
    "            return False\n",
    "        else:\n",
    "            return True\n",
    "        \n",
    "    def split_task(data_json,index):\n",
    "        task_0_index=[]\n",
    "        task_1_index=[]\n",
    "        for i in index:\n",
    "            if data_json[i]['instruction'].startswith('Picture') :\n",
    "                if _check_index(data_json,i):\n",
    "                    task_0_index.append(i)\n",
    "            else:\n",
    "                if _check_index(data_json,i):\n",
    "                    task_1_index.append(i)\n",
    "        return task_0_index,task_1_index\n",
    "    train_0_index,train_1_index=split_task(data_json,train_index)\n",
    "    val_0_index,val_1_index=split_task(data_json,val_index)\n",
    "    test_0_index,test_1_index=split_task(data_json,test_index)\n",
    "    \n",
    "    train_0_json=[data_json[i] for i in train_0_index]\n",
    "    train_1_json=[data_json[i] for i in train_1_index]\n",
    "    val_0_json=[data_json[i] for i in val_0_index]\n",
    "    val_1_json=[data_json[i] for i in val_1_index]\n",
    "    test_0_json=[data_json[i] for i in test_0_index]\n",
    "    test_1_json=[data_json[i] for i in test_1_index]\n",
    "    \n",
    "    train_json=(train_0_json+train_1_json)\n",
    "    val_json=(val_0_json+val_1_json)\n",
    "    test_json=(test_0_json+test_1_json)\n",
    "    \n",
    "    random.shuffle(train_json)\n",
    "    random.shuffle(val_json)\n",
    "    random.shuffle(test_json)\n",
    "    \n",
    "    train_dict={'stats':{'0':{'type':'图片分类','number':len(train_0_json)},'1':{'type':'意图分类','number':len(train_1_json)}},'0':train_0_json,'1':train_1_json,'all':train_json}\n",
    "    val_dict={'stats':{'0':{'type':'图片分类','number':len(val_0_json)},'1':{'type':'意图分类','number':len(val_1_json)}},'0':val_0_json,'1':val_1_json,'all':val_json}\n",
    "    test_dict={'stats':{'0':{'type':'图片分类','number':len(test_0_json)},'1':{'type':'意图分类','number':len(test_1_json)}},'0':test_0_json,'1':test_1_json,'all':test_json}\n",
    "    \n",
    "    \n",
    "    if saving:\n",
    "        for json_name,json_data in zip(['train', 'val', 'test'], [train_dict, val_dict,test_dict]):\n",
    "            with open(os.path.join(data_path, f'{json_name}.json'), 'w') as f:\n",
    "                json.dump(obj=json_data, fp=f,ensure_ascii=False)\n",
    "    return train_json, val_json, test_json\n",
    "    \n",
    "start_time=time.time()\n",
    "train_json, val_json, test_json=split_dataset(data_path='../datas/train',train_ratio=0.8,val_ratio=0.1,test_ratio=0.1,saving=True,seed=123)\n",
    "print(f'Time cost: {time.time()-start_time:.2f}s')"
   ]
  },
  {
   "cell_type": "markdown",
   "metadata": {},
   "source": [
    "加载训练或者测试的数据的 dataset\n"
   ]
  },
  {
   "cell_type": "code",
   "execution_count": 4,
   "metadata": {},
   "outputs": [
    {
     "data": {
      "text/html": [
       "<pre style=\"white-space:pre;overflow-x:auto;line-height:normal;font-family:Menlo,'DejaVu Sans Mono',consolas,'Courier New',monospace\"><span style=\"font-weight: bold\">[</span>\n",
       "    <span style=\"color: #008000; text-decoration-color: #008000\">'/home/zkl/ssd/softwares/miniconda3/miniconda/envs/pythonAI/lib/python312.zip'</span>,\n",
       "    <span style=\"color: #008000; text-decoration-color: #008000\">'/home/zkl/ssd/softwares/miniconda3/miniconda/envs/pythonAI/lib/python3.12'</span>,\n",
       "    <span style=\"color: #008000; text-decoration-color: #008000\">'/home/zkl/ssd/softwares/miniconda3/miniconda/envs/pythonAI/lib/python3.12/lib-dynload'</span>,\n",
       "    <span style=\"color: #008000; text-decoration-color: #008000\">''</span>,\n",
       "    <span style=\"color: #008000; text-decoration-color: #008000\">'/home/zkl/ssd/softwares/miniconda3/miniconda/envs/pythonAI/lib/python3.12/site-packages'</span>\n",
       "<span style=\"font-weight: bold\">]</span>\n",
       "</pre>\n"
      ],
      "text/plain": [
       "\u001b[1m[\u001b[0m\n",
       "    \u001b[32m'/home/zkl/ssd/softwares/miniconda3/miniconda/envs/pythonAI/lib/python312.zip'\u001b[0m,\n",
       "    \u001b[32m'/home/zkl/ssd/softwares/miniconda3/miniconda/envs/pythonAI/lib/python3.12'\u001b[0m,\n",
       "    \u001b[32m'/home/zkl/ssd/softwares/miniconda3/miniconda/envs/pythonAI/lib/python3.12/lib-dynload'\u001b[0m,\n",
       "    \u001b[32m''\u001b[0m,\n",
       "    \u001b[32m'/home/zkl/ssd/softwares/miniconda3/miniconda/envs/pythonAI/lib/python3.12/site-packages'\u001b[0m\n",
       "\u001b[1m]\u001b[0m\n"
      ]
     },
     "metadata": {},
     "output_type": "display_data"
    }
   ],
   "source": [
    "import sys\n",
    "from rich import print\n",
    "print(sys.path)\n",
    "sys.path.append('/home/zkl/others/master/pycodes/project/competitions/tianchi/mllm')"
   ]
  },
  {
   "cell_type": "code",
   "execution_count": 5,
   "metadata": {},
   "outputs": [
    {
     "data": {
      "image/png": "[encoded data removed]",
      "text/plain": [
       "<Figure size 1500x500 with 2 Axes>"
      ]
     },
     "metadata": {},
     "output_type": "display_data"
    },
    {
     "data": {
      "text/plain": [
       "[{'role': 'system',\n",
       "  'content': [{'type': 'text',\n",
       "    'text': '你是一个电商客服专家，请根据用户与客服的多轮对话判断用户的意图分类标签。'}]},\n",
       " {'role': 'user', 'content': [{'type': 'image'}]},\n",
       " {'role': 'assistant',\n",
       "  'content': [{'type': 'text', 'text': '小明尚未掌握图片识别技巧，麻烦您简要描述一下，以便更好地帮助您~'}]},\n",
       " {'role': 'user', 'content': [{'type': 'image'}]},\n",
       " {'role': 'assistant',\n",
       "  'content': [{'type': 'text', 'text': '能否告知您的订单遇到了什么麻烦？请您简单描述一下情况。'}]},\n",
       " {'role': 'user', 'content': [{'type': 'text', 'text': '这件服装适合哪个季节穿着？'}]},\n",
       " {'role': 'assistant', 'content': [{'type': 'text', 'text': '此商品适合在【秋天】穿着。'}]},\n",
       " {'role': 'user', 'content': [{'type': 'text', 'text': '正是这一款'}]},\n",
       " {'role': 'assistant',\n",
       "  'content': [{'type': 'text',\n",
       "    'text': '当前系统还不能全面识别各种情况，麻烦您尝试用不同的方式重新说明您的问题。'}]},\n",
       " {'role': 'user', 'content': [{'type': 'text', 'text': '<http>'}]},\n",
       " {'role': 'assistant',\n",
       "  'content': [{'type': 'text',\n",
       "    'text': '店铺参与国庆节狂欢促销，使用优惠券购买更加实惠，快来抢购（区间价格表示不同颜色的折扣不同，具体折扣请查看结算页面）   ⏰促销时间：9月26日20:00至10月7日23:59  这款经典的运动外套，设计灵感源自往日风尚，采用标志性的光泽特里科面料结合立领设计，呈现出复古风格。配有全开拉链和环保再生聚酯材料，专为训练间隙设计。'}]},\n",
       " {'role': 'user', 'content': [{'type': 'text', 'text': '想了解一下这件衣服适合哪个季节穿？'}]},\n",
       " {'role': 'assistant', 'content': [{'type': 'text', 'text': '此商品适合在【秋天】穿着。'}]},\n",
       " {'role': 'user',\n",
       "  'content': [{'type': 'text',\n",
       "    'text': '请直接只输出分类标签结果，不需要其他多余的话。以下是可以参考的分类标签为：[\"反馈密封性不好\",\"是否好用\",\"是否会生锈\",\"排水方式\",\"包装区别\",\"发货数量\",\"反馈用后症状\",\"商品材质\",\"功效功能\",\"是否易褪色\",\"适用季节\",\"能否调光\",\"版本款型区别\",\"单品推荐\",\"用法用量\",\"控制方式\",\"上市时间\",\"商品规格\",\"信号情况\",\"养护方法\",\"套装推荐\",\"何时上货\",\"气泡\"]'}]}]"
      ]
     },
     "execution_count": 5,
     "metadata": {},
     "output_type": "execute_result"
    }
   ],
   "source": [
    "from utils.data_utils import CustomDataset,Conversions\n",
    "import matplotlib.pyplot as plt\n",
    "\n",
    "data_set=CustomDataset(data_path='../datas/train',data_type='train')\n",
    "data_dict=data_set[12]\n",
    "# print(data_dict)\n",
    "images=data_dict['image']\n",
    "\n",
    "\n",
    "# 确定行数和列数以创建网格布局，这里假设最多 4 列\n",
    "num_images = len(images)\n",
    "cols = min(num_images, 4)  # 最多4列\n",
    "rows = (num_images + cols - 1) // cols  # 计算需要多少行\n",
    "\n",
    "# 创建一个子图网格\n",
    "fig, axes = plt.subplots(rows, cols, figsize=(15, 5 * rows))\n",
    "axes = axes.flatten()  # 将 axes 展平为一维数组，方便迭代\n",
    "\n",
    "# 显示每个图像\n",
    "for ax, img in zip(axes, images):\n",
    "    ax.imshow(img)\n",
    "    ax.axis('off')  # 关闭坐标轴\n",
    "\n",
    "# 如果图像数量不足填满整个网格，关闭多余的子图\n",
    "for idx in range(num_images, len(axes)):\n",
    "    axes[idx].axis('off')\n",
    "\n",
    "plt.tight_layout()\n",
    "plt.show()\n",
    "\n",
    "conversations=Conversions()\n",
    "conversations.parse_conversation(data_dict['instruction'])\n"
   ]
  },
  {
   "cell_type": "code",
   "execution_count": null,
   "metadata": {},
   "outputs": [],
   "source": [
    "# Qwen/Qwen2-VL-2B-Instruct\n",
    "from transformers import Qwen2VLModel, Qwen2VLTokenizer,Qwen2VLPreTrainedModel"
   ]
  },
  {
   "cell_type": "code",
   "execution_count": 5,
   "metadata": {},
   "outputs": [
    {
     "data": {
      "text/html": [
       "<pre style=\"white-space:pre;overflow-x:auto;line-height:normal;font-family:Menlo,'DejaVu Sans Mono',consolas,'Courier New',monospace\">\n",
       "<span style=\"font-weight: bold\">&lt;</span><span style=\"color: #000000; text-decoration-color: #000000\">!DOCTYPE html&gt;</span>\n",
       "<span style=\"color: #000000; text-decoration-color: #000000\">&lt;html&gt;</span>\n",
       "<span style=\"color: #000000; text-decoration-color: #000000\">&lt;head&gt;</span>\n",
       "<span style=\"color: #000000; text-decoration-color: #000000\">    &lt;title&gt;Welcome Page&lt;</span><span style=\"color: #800080; text-decoration-color: #800080\">/</span><span style=\"color: #ff00ff; text-decoration-color: #ff00ff\">title</span><span style=\"color: #000000; text-decoration-color: #000000\">&gt;</span>\n",
       "<span style=\"color: #000000; text-decoration-color: #000000\">&lt;</span><span style=\"color: #800080; text-decoration-color: #800080\">/</span><span style=\"color: #ff00ff; text-decoration-color: #ff00ff\">head</span><span style=\"color: #000000; text-decoration-color: #000000\">&gt;</span>\n",
       "<span style=\"color: #000000; text-decoration-color: #000000\">&lt;body&gt;</span>\n",
       "<span style=\"color: #000000; text-decoration-color: #000000\">    &lt;h1&gt;Hello, Alice!&lt;</span><span style=\"color: #800080; text-decoration-color: #800080\">/</span><span style=\"color: #ff00ff; text-decoration-color: #ff00ff\">h1</span><span style=\"color: #000000; text-decoration-color: #000000\">&gt;</span>\n",
       "<span style=\"color: #000000; text-decoration-color: #000000\">&lt;</span><span style=\"color: #800080; text-decoration-color: #800080\">/</span><span style=\"color: #ff00ff; text-decoration-color: #ff00ff\">body</span><span style=\"color: #000000; text-decoration-color: #000000\">&gt;</span>\n",
       "<span style=\"color: #000000; text-decoration-color: #000000\">&lt;</span><span style=\"color: #800080; text-decoration-color: #800080\">/</span><span style=\"color: #ff00ff; text-decoration-color: #ff00ff\">html</span><span style=\"font-weight: bold\">&gt;</span>\n",
       "</pre>\n"
      ],
      "text/plain": [
       "\n",
       "\u001b[1m<\u001b[0m\u001b[39m!DOCTYPE html>\u001b[0m\n",
       "\u001b[39m<html>\u001b[0m\n",
       "\u001b[39m<head>\u001b[0m\n",
       "\u001b[39m    <title>Welcome Page<\u001b[0m\u001b[35m/\u001b[0m\u001b[95mtitle\u001b[0m\u001b[39m>\u001b[0m\n",
       "\u001b[39m<\u001b[0m\u001b[35m/\u001b[0m\u001b[95mhead\u001b[0m\u001b[39m>\u001b[0m\n",
       "\u001b[39m<body>\u001b[0m\n",
       "\u001b[39m    <h1>Hello, Alice!<\u001b[0m\u001b[35m/\u001b[0m\u001b[95mh1\u001b[0m\u001b[39m>\u001b[0m\n",
       "\u001b[39m<\u001b[0m\u001b[35m/\u001b[0m\u001b[95mbody\u001b[0m\u001b[39m>\u001b[0m\n",
       "\u001b[39m<\u001b[0m\u001b[35m/\u001b[0m\u001b[95mhtml\u001b[0m\u001b[1m>\u001b[0m\n"
      ]
     },
     "metadata": {},
     "output_type": "display_data"
    }
   ],
   "source": [
    "from jinja2 import Template\n",
    "# 定义模板字符串\n",
    "template_str = \"\"\"\n",
    "<!DOCTYPE html>\n",
    "<html>\n",
    "<head>\n",
    "    <title>Welcome Page</title>\n",
    "</head>\n",
    "<body>\n",
    "    <h1>Hello, {{ name }}!</h1>\n",
    "</body>\n",
    "</html>\n",
    "\"\"\"\n",
    "\n",
    "# 创建模板对象\n",
    "template = Template(template_str)\n",
    "\n",
    "# 渲染模板，传入上下文数据\n",
    "rendered_html = template.render(name='Alice')\n",
    "\n",
    "print(rendered_html)"
   ]
  },
  {
   "cell_type": "code",
   "execution_count": 7,
   "metadata": {},
   "outputs": [
    {
     "data": {
      "text/html": [
       "<pre style=\"white-space:pre;overflow-x:auto;line-height:normal;font-family:Menlo,'DejaVu Sans Mono',consolas,'Courier New',monospace\"><span style=\"font-weight: bold\">&lt;</span><span style=\"color: #ff00ff; text-decoration-color: #ff00ff; font-weight: bold\">Template</span><span style=\"color: #000000; text-decoration-color: #000000\"> memory:77118f53c4a0</span><span style=\"font-weight: bold\">&gt;</span>\n",
       "</pre>\n"
      ],
      "text/plain": [
       "\u001b[1m<\u001b[0m\u001b[1;95mTemplate\u001b[0m\u001b[39m memory:77118f53c4a0\u001b[0m\u001b[1m>\u001b[0m\n"
      ]
     },
     "metadata": {},
     "output_type": "display_data"
    }
   ],
   "source": [
    "\n",
    "a={\n",
    "    \"chat_template\": \"{% set image_count = namespace(value=0) %}{% set video_count = namespace(value=0) %}\\\n",
    "        {% for message in messages %}\\\n",
    "            {% if loop.first and message['role'] != 'system' %}\\\n",
    "                <|im_start|>system\\nYou are a helpful assistant.<|im_end|>\\n\\\n",
    "            {% endif %}\\\n",
    "            <|im_start|>{{ message['role'] }}\\n\\\n",
    "            {% if message['content'] is string %}\\\n",
    "                {{ message['content'] }}<|im_end|>\\n\\\n",
    "            {% else %}\\\n",
    "                {% for content in message['content'] %}\\\n",
    "                    {% if content['type'] == 'image' or 'image' in content or 'image_url' in content %}\\\n",
    "                        {% set image_count.value = image_count.value + 1 %}\\\n",
    "                        {% if add_vision_id %}\\\n",
    "                            Picture {{ image_count.value }}: \\\n",
    "                        {% endif %}\\\n",
    "                        <|vision_start|><|image_pad|><|vision_end|>\\\n",
    "                        {% elif content['type'] == 'video' or 'video' in content %}\\\n",
    "                            {% set video_count.value = video_count.value + 1 %}\\\n",
    "                            {% if add_vision_id %}Video {{ video_count.value }}: \\\n",
    "                        {% endif %}\\\n",
    "                        <|vision_start|><|video_pad|><|vision_end|>\\\n",
    "                        {% elif 'text' in content %}\\\n",
    "                            {{ content['text'] }}\\\n",
    "                        {% endif %}\\\n",
    "                    {% endfor %}<|im_end|>\\n\\\n",
    "            {% endif %}\\\n",
    "        {% endfor %}\\\n",
    "        {% if add_generation_prompt %}\\\n",
    "            <|im_start|>assistant\\n\\\n",
    "        {% endif %}\"\n",
    "}\n",
    "template = Template(a['chat_template']) \n",
    "print(template)\n",
    "\n",
    "\n",
    "\n",
    "\n",
    "\n"
   ]
  },
  {
   "cell_type": "code",
   "execution_count": 8,
   "metadata": {},
   "outputs": [
    {
     "data": {
      "text/html": [
       "<pre style=\"white-space:pre;overflow-x:auto;line-height:normal;font-family:Menlo,'DejaVu Sans Mono',consolas,'Courier New',monospace\">你是一个电商客服专家，请根据用户与客服的多轮对话判断用户的意图分类标签。\n",
       "<span style=\"font-weight: bold\">&lt;</span><span style=\"color: #ff00ff; text-decoration-color: #ff00ff; font-weight: bold\">用户与客服的对话</span><span style=\"color: #000000; text-decoration-color: #000000\"> START&gt;</span>\n",
       "<span style=\"color: #000000; text-decoration-color: #000000\">用户: 于</span>\n",
       "<span style=\"color: #000000; text-decoration-color: #000000\">客服: 十里春风不及您，欢迎来到我们的店铺😊。我是您的小助手【客服精灵】，有什么事情是【客服精灵】能帮到您的吗？</span>\n",
       "<span style=\"color: #000000; text-decoration-color: #000000\">用户: &lt;image&gt;</span>\n",
       "<span style=\"color: #000000; text-decoration-color: #000000\">客服: </span>\n",
       "<span style=\"color: #000000; text-decoration-color: #000000\">亲爱的，我在这里哦，只是一张图片还不能解答您的疑问呢，麻烦您用文字具体说明一下，比如“发货时间”、“店铺促销”等。</span>\n",
       "<span style=\"color: #000000; text-decoration-color: #000000\">用户: 颜色变淡了吗？</span>\n",
       "<span style=\"color: #000000; text-decoration-color: #000000\">客服: 这款皮带扣采用实心锌合金并经过真空电镀处理，颜色持久不褪，质量上乘。</span>\n",
       "<span style=\"color: #000000; text-decoration-color: #000000\">&lt;用户与客服的对话 END</span><span style=\"font-weight: bold\">&gt;</span>\n",
       "请直接只输出分类标签结果，不需要其他多余的话。以下是可以参考的分类标签为：<span style=\"font-weight: bold\">[</span><span style=\"color: #008000; text-decoration-color: #008000\">\"反馈密封性不好\"</span>,<span style=\"color: #008000; text-decoration-color: #008000\">\"是否好用\"</span>,<span style=\"color: #008000; text-decoration-color: #008000\">\"是否会生锈\"</span>\n",
       ",<span style=\"color: #008000; text-decoration-color: #008000\">\"排水方式\"</span>,<span style=\"color: #008000; text-decoration-color: #008000\">\"包装区别\"</span>,<span style=\"color: #008000; text-decoration-color: #008000\">\"发货数量\"</span>,<span style=\"color: #008000; text-decoration-color: #008000\">\"反馈用后症状\"</span>,<span style=\"color: #008000; text-decoration-color: #008000\">\"商品材质\"</span>,<span style=\"color: #008000; text-decoration-color: #008000\">\"功效功能\"</span>,<span style=\"color: #008000; text-decoration-color: #008000\">\"是否易褪色\"</span>,<span style=\"color: #008000; text-decoration-color: #008000\">\"适用季节\"</span>,<span style=\"color: #008000; text-decoration-color: #008000\">\"能否调光\"</span>,<span style=\"color: #008000; text-decoration-color: #008000\">\"版本款型</span>\n",
       "<span style=\"color: #008000; text-decoration-color: #008000\">区别\"</span>,<span style=\"color: #008000; text-decoration-color: #008000\">\"单品推荐\"</span>,<span style=\"color: #008000; text-decoration-color: #008000\">\"用法用量\"</span>,<span style=\"color: #008000; text-decoration-color: #008000\">\"控制方式\"</span>,<span style=\"color: #008000; text-decoration-color: #008000\">\"上市时间\"</span>,<span style=\"color: #008000; text-decoration-color: #008000\">\"商品规格\"</span>,<span style=\"color: #008000; text-decoration-color: #008000\">\"信号情况\"</span>,<span style=\"color: #008000; text-decoration-color: #008000\">\"养护方法\"</span>,<span style=\"color: #008000; text-decoration-color: #008000\">\"套装推荐\"</span>,<span style=\"color: #008000; text-decoration-color: #008000\">\"何时上货\"</span>,<span style=\"color: #008000; text-decoration-color: #008000\">\"气泡\"</span><span style=\"font-weight: bold\">]</span>\n",
       "\n",
       "</pre>\n"
      ],
      "text/plain": [
       "你是一个电商客服专家，请根据用户与客服的多轮对话判断用户的意图分类标签。\n",
       "\u001b[1m<\u001b[0m\u001b[1;95m用户与客服的对话\u001b[0m\u001b[39m START>\u001b[0m\n",
       "\u001b[39m用户: 于\u001b[0m\n",
       "\u001b[39m客服: 十里春风不及您，欢迎来到我们的店铺😊。我是您的小助手【客服精灵】，有什么事情是【客服精灵】能帮到您的吗？\u001b[0m\n",
       "\u001b[39m用户: <image>\u001b[0m\n",
       "\u001b[39m客服: \u001b[0m\n",
       "\u001b[39m亲爱的，我在这里哦，只是一张图片还不能解答您的疑问呢，麻烦您用文字具体说明一下，比如“发货时间”、“店铺促销”等。\u001b[0m\n",
       "\u001b[39m用户: 颜色变淡了吗？\u001b[0m\n",
       "\u001b[39m客服: 这款皮带扣采用实心锌合金并经过真空电镀处理，颜色持久不褪，质量上乘。\u001b[0m\n",
       "\u001b[39m<用户与客服的对话 END\u001b[0m\u001b[1m>\u001b[0m\n",
       "请直接只输出分类标签结果，不需要其他多余的话。以下是可以参考的分类标签为：\u001b[1m[\u001b[0m\u001b[32m\"反馈密封性不好\"\u001b[0m,\u001b[32m\"是否好用\"\u001b[0m,\u001b[32m\"是否会生锈\"\u001b[0m\n",
       ",\u001b[32m\"排水方式\"\u001b[0m,\u001b[32m\"包装区别\"\u001b[0m,\u001b[32m\"发货数量\"\u001b[0m,\u001b[32m\"反馈用后症状\"\u001b[0m,\u001b[32m\"商品材质\"\u001b[0m,\u001b[32m\"功效功能\"\u001b[0m,\u001b[32m\"是否易褪色\"\u001b[0m,\u001b[32m\"适用季节\"\u001b[0m,\u001b[32m\"能否调光\"\u001b[0m,\u001b[32m\"版本款型\u001b[0m\n",
       "\u001b[32m区别\"\u001b[0m,\u001b[32m\"单品推荐\"\u001b[0m,\u001b[32m\"用法用量\"\u001b[0m,\u001b[32m\"控制方式\"\u001b[0m,\u001b[32m\"上市时间\"\u001b[0m,\u001b[32m\"商品规格\"\u001b[0m,\u001b[32m\"信号情况\"\u001b[0m,\u001b[32m\"养护方法\"\u001b[0m,\u001b[32m\"套装推荐\"\u001b[0m,\u001b[32m\"何时上货\"\u001b[0m,\u001b[32m\"气泡\"\u001b[0m\u001b[1m]\u001b[0m\n",
       "\n"
      ]
     },
     "metadata": {},
     "output_type": "display_data"
    }
   ],
   "source": [
    "x=\"你是一个电商客服专家，请根据用户与客服的多轮对话判断用户的意图分类标签。\\n<用户与客服的对话 START>\\n用户: 于\\n客服: 十里春风不及您，欢迎来到我们的店铺😊。我是您的小助手【客服精灵】，有什么事情是【客服精灵】能帮到您的吗？\\n用户: <image>\\n客服: 亲爱的，我在这里哦，只是一张图片还不能解答您的疑问呢，麻烦您用文字具体说明一下，比如“发货时间”、“店铺促销”等。\\n用户: 颜色变淡了吗？\\n客服: 这款皮带扣采用实心锌合金并经过真空电镀处理，颜色持久不褪，质量上乘。\\n<用户与客服的对话 END>\\n请直接只输出分类标签结果，不需要其他多余的话。以下是可以参考的分类标签为：[\\\"反馈密封性不好\\\",\\\"是否好用\\\",\\\"是否会生锈\\\",\\\"排水方式\\\",\\\"包装区别\\\",\\\"发货数量\\\",\\\"反馈用后症状\\\",\\\"商品材质\\\",\\\"功效功能\\\",\\\"是否易褪色\\\",\\\"适用季节\\\",\\\"能否调光\\\",\\\"版本款型区别\\\",\\\"单品推荐\\\",\\\"用法用量\\\",\\\"控制方式\\\",\\\"上市时间\\\",\\\"商品规格\\\",\\\"信号情况\\\",\\\"养护方法\\\",\\\"套装推荐\\\",\\\"何时上货\\\",\\\"气泡\\\"]\\n\"\n",
    "\n",
    "\n",
    "\n",
    "print(x)"
   ]
  },
  {
   "cell_type": "code",
   "execution_count": null,
   "metadata": {},
   "outputs": [],
   "source": [
    "from PIL import Image\n",
    "import requests\n",
    "import torch\n",
    "from torchvision import io\n",
    "from typing import Dict\n",
    "import os\n",
    "os.environ['HF_HOME']='huggingface'\n",
    "from transformers import Qwen2VLForConditionalGeneration, AutoTokenizer, AutoProcessor\n",
    "from utils.data_utils import CustomDataset,Conversions\n",
    "from torch.utils.data import DataLoader\n",
    "\n",
    "def main():\n",
    "    # Load the model in half-precision on the available device(s)\n",
    "    model = Qwen2VLForConditionalGeneration.from_pretrained(\n",
    "        \"Qwen/Qwen2-VL-2B-Instruct\", torch_dtype=\"auto\", device_map=\"auto\"\n",
    "    )\n",
    "    processor = AutoProcessor.from_pretrained(\"Qwen/Qwen2-VL-2B-Instruct\")\n",
    "    \n",
    "    data_set=CustomDataset(data_path='datas/train',data_type='train')\n",
    "    i=0\n",
    "    datas={'instruction':[],'image':[]}\n",
    "    while i<=100:\n",
    "        if len(data_set[i]['image'])==1:\n",
    "            datas['instruction'].append(data_set[i]['instruction'])\n",
    "            datas['image'].append(data_set[i]['image'][0])\n",
    "            i+=1\n",
    "            continue\n",
    "    conversation_helper=Conversions()\n",
    "    def resize_image(image):\n",
    "        origin_w,origin_h = image.size\n",
    "        new_w,new_h = origin_h//2,origin_w//2\n",
    "        image=image.resize((new_w,new_h))\n",
    "        return image\n",
    "    datas['image']=[resize_image(Image.open(image)) for image in datas['image']]\n",
    "    \n",
    "    conversation=[conversation_helper.parse_conversation(instruction) for instruction in datas['instruction']]\n",
    "\n",
    "    # Preprocess the inputs\n",
    "    text_prompt = processor.apply_chat_template(conversation, add_generation_prompt=True)\n",
    "    # Excepted output: '<|im_start|>system\\nYou are a helpful assistant.<|im_end|>\\n<|im_start|>user\\n<|vision_start|><|image_pad|><|vision_end|>Describe this image.<|im_end|>\\n<|im_start|>assistant\\n'\n",
    "\n",
    "    inputs = processor(\n",
    "        text=[text_prompt], images=[datas['image']], padding=True, return_tensors=\"pt\"\n",
    "    )\n",
    "    for input in inputs:\n",
    "        input = input.to(\"cuda\")\n",
    "\n",
    "    # Inference: Generation of the output\n",
    "    output_ids = model.generate(**input, max_new_tokens=128)\n",
    "    generated_ids = [\n",
    "        output_ids[len(input_ids) :]\n",
    "        for input_ids, output_ids in zip(inputs.input_ids, output_ids)\n",
    "    ]\n",
    "    output_text = processor.batch_decode(\n",
    "        generated_ids, skip_special_tokens=True, clean_up_tokenization_spaces=True\n",
    "    )\n",
    "    print(output_text)\n",
    "\n",
    "\n",
    "if __name__=='__main__':\n",
    "    main()"
   ]
  },
  {
   "cell_type": "code",
   "execution_count": null,
   "metadata": {},
   "outputs": [],
   "source": [
    "from PIL import Image\n",
    "import requests\n",
    "import torch\n",
    "from torchvision import io\n",
    "from typing import Dict\n",
    "import os\n",
    "os.environ['HF_HOME']='huggingface'\n",
    "from transformers import Qwen2VLForConditionalGeneration, AutoTokenizer, AutoProcessor\n",
    "from utils.data_utils import CustomDataset,Conversions\n",
    "from torch.utils.data import DataLoader\n",
    "\n",
    "def main():\n",
    "    # Load the model in half-precision on the available device(s)\n",
    "    model = Qwen2VLForConditionalGeneration.from_pretrained(\n",
    "        \"Qwen/Qwen2-VL-2B-Instruct\", torch_dtype=\"auto\", device_map=\"auto\"\n",
    "    )\n",
    "    processor = AutoProcessor.from_pretrained(\"Qwen/Qwen2-VL-2B-Instruct\")\n",
    "    \n",
    "    data_set=CustomDataset(data_path='datas/train',data_type='train')\n",
    "    i=0\n",
    "    j=0\n",
    "    datas={'instruction':[],'image':[],'output':[]}\n",
    "    print('starting the data process')\n",
    "    while i<=100:\n",
    "        if len(data_set[j]['image'])==1:\n",
    "            datas['instruction'].append(data_set[i]['instruction'])\n",
    "            datas['image'].append(data_set[i]['image'][0])\n",
    "            datas['output'].append(data_set[i]['output'])\n",
    "            i+=1\n",
    "            j+=1\n",
    "            # print(i)\n",
    "        j+=1\n",
    "        continue\n",
    "    print('data process finished')\n",
    "    conversation_helper=Conversions()\n",
    "    def resize_image(image):\n",
    "        origin_w,origin_h = image.size\n",
    "        new_w,new_h = origin_h//2,origin_w//2\n",
    "        image=image.resize((new_w,new_h))\n",
    "        return image\n",
    "    print('image process started')\n",
    "    datas['image']=[resize_image(image) for image in datas['image']]\n",
    "    print('image process finished')\n",
    "    conversation=[conversation_helper.parse_conversation(instruction) for instruction in datas['instruction']]\n",
    "    print(f\"starting the chat template process\")\n",
    "    # Preprocess the inputs\n",
    "    text_prompt = processor.apply_chat_template(conversation, add_generation_prompt=True)\n",
    "    # Excepted output: '<|im_start|>system\\nYou are a helpful assistant.<|im_end|>\\n<|im_start|>user\\n<|vision_start|><|image_pad|><|vision_end|>Describe this image.<|im_end|>\\n<|im_start|>assistant\\n'\n",
    "    print(f\"chat template process finished\")\n",
    "    inputs = processor(\n",
    "        text=text_prompt, images=[datas['image']], padding=True, return_tensors=\"pt\"\n",
    "    )\n",
    "    print(f\"inputs process finished\")\n",
    "    print(inputs)\n",
    "    print(type(inputs))\n",
    "    for input in inputs:\n",
    "        input = input.to(\"cuda\")\n",
    "        # Inference: Generation of the output\n",
    "        output_ids = model.generate(**input, max_new_tokens=128)\n",
    "        generated_ids = [\n",
    "            output_ids[len(input_ids) :]\n",
    "            for input_ids, output_ids in zip(inputs.input_ids, output_ids)\n",
    "        ]\n",
    "        output_text = processor.batch_decode(\n",
    "            generated_ids, skip_special_tokens=True, clean_up_tokenization_spaces=True\n",
    "        )\n",
    "        print(output_text)\n",
    "\n",
    "\n",
    "if __name__=='__main__':\n",
    "    main()"
   ]
  },
  {
   "cell_type": "code",
   "execution_count": 2,
   "metadata": {},
   "outputs": [
    {
     "name": "stdout",
     "output_type": "stream",
     "text": [
      "False\n"
     ]
    }
   ],
   "source": [
    "x=\"Picture 1: <image>\\n你是一个电商领域识图专家,可以理解消费者上传的软件截图或实物拍摄图。现在,请你对消费者上传的图片进行分类。你只需要回答图片分类结果,不需要其他多余的话。以下是可以参考的分类标签,分类标签:[\\\"实物拍摄(含售后)\\\",\\\"商品分类选项\\\",\\\"商品头图\\\",\\\"商品详情页截图\\\",\\\"下单过程中出现异常（显示购买失败浮窗）\\\",\\\"订单详情页面\\\",\\\"支付页面\\\",\\\"消费者与客服聊天页面\\\",\\\"评论区截图页面\\\",\\\"物流页面-物流列表页面\\\",\\\"物流页面-物流跟踪页面\\\",\\\"物流页面-物流异常页面\\\",\\\"退款页面\\\",\\\"退货页面\\\",\\\"换货页面\\\",\\\"购物车页面\\\",\\\"店铺页面\\\",\\\"活动页面\\\",\\\"优惠券领取页面\\\",\\\"账单/账户页面\\\",\\\"个人信息页面\\\",\\\"投诉举报页面\\\",\\\"平台介入页面\\\",\\\"外部APP截图\\\",\\\"其他类别图片\\\"]。\"\n",
    "print(not x.startswith(\"Picture\"))\n",
    "\n"
   ]
  },
  {
   "cell_type": "code",
   "execution_count": 11,
   "metadata": {},
   "outputs": [
    {
     "data": {
      "text/html": [
       "<pre style=\"white-space:pre;overflow-x:auto;line-height:normal;font-family:Menlo,'DejaVu Sans Mono',consolas,'Courier New',monospace\">starting the data process\n",
       "</pre>\n"
      ],
      "text/plain": [
       "starting the data process\n"
      ]
     },
     "metadata": {},
     "output_type": "display_data"
    },
    {
     "data": {
      "text/html": [
       "<pre style=\"white-space:pre;overflow-x:auto;line-height:normal;font-family:Menlo,'DejaVu Sans Mono',consolas,'Courier New',monospace\">你是一个电商客服专家，请根据用户与客服的多轮对话判断用户的意图分类标签。\n",
       "<span style=\"font-weight: bold\">&lt;</span><span style=\"color: #ff00ff; text-decoration-color: #ff00ff; font-weight: bold\">用户与客服的对话</span><span style=\"color: #000000; text-decoration-color: #000000\"> START&gt;</span>\n",
       "<span style=\"color: #000000; text-decoration-color: #000000\">用户: &lt;image&gt;</span>\n",
       "<span style=\"color: #000000; text-decoration-color: #000000\">客服: 您在使用这款商品时遇到了哪些困扰呢？请您提供商品的链接，并向我说明具体情况~ </span>\n",
       "<span style=\"color: #000000; text-decoration-color: #000000\">如果需要进一步的帮助，可以【回复“转人工”（服务时间</span><span style=\"color: #00ff00; text-decoration-color: #00ff00; font-weight: bold\">8:00</span><span style=\"color: #000000; text-decoration-color: #000000\">-</span><span style=\"color: #00ff00; text-decoration-color: #00ff00; font-weight: bold\">23:59</span><span style=\"color: #000000; text-decoration-color: #000000\">）】，我们的在线客服会竭诚为您服务。</span>\n",
       "<span style=\"color: #000000; text-decoration-color: #000000\">用户: 使用空调时出现漏水情况</span>\n",
       "<span style=\"color: #000000; text-decoration-color: #000000\">客服: 若您在使用产品时遇到难题，可回复“客服”（服务时间</span><span style=\"color: #00ff00; text-decoration-color: #00ff00; font-weight: bold\">8:00</span><span style=\"color: #000000; text-decoration-color: #000000\">-</span><span style=\"color: #00ff00; text-decoration-color: #00ff00; font-weight: bold\">23:59</span><span style=\"color: #000000; text-decoration-color: #000000\">），我们将为您转接到在线客服进行处理哦~</span>\n",
       "<span style=\"color: #000000; text-decoration-color: #000000\">&lt;用户与客服的对话 END</span><span style=\"font-weight: bold\">&gt;</span>\n",
       "请直接只输出分类标签结果，不需要其他多余的话。以下是可以参考的分类标签为：<span style=\"font-weight: bold\">[</span><span style=\"color: #008000; text-decoration-color: #008000\">\"反馈密封性不好\"</span>,<span style=\"color: #008000; text-decoration-color: #008000\">\"是否好用\"</span>,<span style=\"color: #008000; text-decoration-color: #008000\">\"是否会生锈\"</span>\n",
       ",<span style=\"color: #008000; text-decoration-color: #008000\">\"排水方式\"</span>,<span style=\"color: #008000; text-decoration-color: #008000\">\"包装区别\"</span>,<span style=\"color: #008000; text-decoration-color: #008000\">\"发货数量\"</span>,<span style=\"color: #008000; text-decoration-color: #008000\">\"反馈用后症状\"</span>,<span style=\"color: #008000; text-decoration-color: #008000\">\"商品材质\"</span>,<span style=\"color: #008000; text-decoration-color: #008000\">\"功效功能\"</span>,<span style=\"color: #008000; text-decoration-color: #008000\">\"是否易褪色\"</span>,<span style=\"color: #008000; text-decoration-color: #008000\">\"适用季节\"</span>,<span style=\"color: #008000; text-decoration-color: #008000\">\"能否调光\"</span>,<span style=\"color: #008000; text-decoration-color: #008000\">\"版本款型</span>\n",
       "<span style=\"color: #008000; text-decoration-color: #008000\">区别\"</span>,<span style=\"color: #008000; text-decoration-color: #008000\">\"单品推荐\"</span>,<span style=\"color: #008000; text-decoration-color: #008000\">\"用法用量\"</span>,<span style=\"color: #008000; text-decoration-color: #008000\">\"控制方式\"</span>,<span style=\"color: #008000; text-decoration-color: #008000\">\"上市时间\"</span>,<span style=\"color: #008000; text-decoration-color: #008000\">\"商品规格\"</span>,<span style=\"color: #008000; text-decoration-color: #008000\">\"信号情况\"</span>,<span style=\"color: #008000; text-decoration-color: #008000\">\"养护方法\"</span>,<span style=\"color: #008000; text-decoration-color: #008000\">\"套装推荐\"</span>,<span style=\"color: #008000; text-decoration-color: #008000\">\"何时上货\"</span>,<span style=\"color: #008000; text-decoration-color: #008000\">\"气泡\"</span><span style=\"font-weight: bold\">]</span>\n",
       "\n",
       "</pre>\n"
      ],
      "text/plain": [
       "你是一个电商客服专家，请根据用户与客服的多轮对话判断用户的意图分类标签。\n",
       "\u001b[1m<\u001b[0m\u001b[1;95m用户与客服的对话\u001b[0m\u001b[39m START>\u001b[0m\n",
       "\u001b[39m用户: <image>\u001b[0m\n",
       "\u001b[39m客服: 您在使用这款商品时遇到了哪些困扰呢？请您提供商品的链接，并向我说明具体情况~ \u001b[0m\n",
       "\u001b[39m如果需要进一步的帮助，可以【回复“转人工”（服务时间\u001b[0m\u001b[1;92m8:00\u001b[0m\u001b[39m-\u001b[0m\u001b[1;92m23:59\u001b[0m\u001b[39m）】，我们的在线客服会竭诚为您服务。\u001b[0m\n",
       "\u001b[39m用户: 使用空调时出现漏水情况\u001b[0m\n",
       "\u001b[39m客服: 若您在使用产品时遇到难题，可回复“客服”（服务时间\u001b[0m\u001b[1;92m8:00\u001b[0m\u001b[39m-\u001b[0m\u001b[1;92m23:59\u001b[0m\u001b[39m），我们将为您转接到在线客服进行处理哦~\u001b[0m\n",
       "\u001b[39m<用户与客服的对话 END\u001b[0m\u001b[1m>\u001b[0m\n",
       "请直接只输出分类标签结果，不需要其他多余的话。以下是可以参考的分类标签为：\u001b[1m[\u001b[0m\u001b[32m\"反馈密封性不好\"\u001b[0m,\u001b[32m\"是否好用\"\u001b[0m,\u001b[32m\"是否会生锈\"\u001b[0m\n",
       ",\u001b[32m\"排水方式\"\u001b[0m,\u001b[32m\"包装区别\"\u001b[0m,\u001b[32m\"发货数量\"\u001b[0m,\u001b[32m\"反馈用后症状\"\u001b[0m,\u001b[32m\"商品材质\"\u001b[0m,\u001b[32m\"功效功能\"\u001b[0m,\u001b[32m\"是否易褪色\"\u001b[0m,\u001b[32m\"适用季节\"\u001b[0m,\u001b[32m\"能否调光\"\u001b[0m,\u001b[32m\"版本款型\u001b[0m\n",
       "\u001b[32m区别\"\u001b[0m,\u001b[32m\"单品推荐\"\u001b[0m,\u001b[32m\"用法用量\"\u001b[0m,\u001b[32m\"控制方式\"\u001b[0m,\u001b[32m\"上市时间\"\u001b[0m,\u001b[32m\"商品规格\"\u001b[0m,\u001b[32m\"信号情况\"\u001b[0m,\u001b[32m\"养护方法\"\u001b[0m,\u001b[32m\"套装推荐\"\u001b[0m,\u001b[32m\"何时上货\"\u001b[0m,\u001b[32m\"气泡\"\u001b[0m\u001b[1m]\u001b[0m\n",
       "\n"
      ]
     },
     "metadata": {},
     "output_type": "display_data"
    },
    {
     "data": {
      "text/html": [
       "<pre style=\"white-space:pre;overflow-x:auto;line-height:normal;font-family:Menlo,'DejaVu Sans Mono',consolas,'Courier New',monospace\">反馈密封性不好\n",
       "</pre>\n"
      ],
      "text/plain": [
       "反馈密封性不好\n"
      ]
     },
     "metadata": {},
     "output_type": "display_data"
    },
    {
     "data": {
      "text/html": [
       "<pre style=\"white-space:pre;overflow-x:auto;line-height:normal;font-family:Menlo,'DejaVu Sans Mono',consolas,'Courier New',monospace\">你是一个电商客服专家，请根据用户与客服的多轮对话判断用户的意图分类标签。\n",
       "<span style=\"font-weight: bold\">&lt;</span><span style=\"color: #ff00ff; text-decoration-color: #ff00ff; font-weight: bold\">用户与客服的对话</span><span style=\"color: #000000; text-decoration-color: #000000\"> START&gt;</span>\n",
       "<span style=\"color: #000000; text-decoration-color: #000000\">用户: &lt;image&gt;</span>\n",
       "<span style=\"color: #000000; text-decoration-color: #000000\">客服: 麻烦您简要说明一下遇到的问题哦。</span>\n",
       "<span style=\"color: #000000; text-decoration-color: #000000\">用户: 编号470与编号473有何不同？</span>\n",
       "<span style=\"color: #000000; text-decoration-color: #000000\">客服: </span>\n",
       "<span style=\"color: #000000; text-decoration-color: #000000\">&lt;用户与客服的对话 END</span><span style=\"font-weight: bold\">&gt;</span>\n",
       "请直接只输出分类标签结果，不需要其他多余的话。以下是可以参考的分类标签为：<span style=\"font-weight: bold\">[</span><span style=\"color: #008000; text-decoration-color: #008000\">\"反馈密封性不好\"</span>,<span style=\"color: #008000; text-decoration-color: #008000\">\"是否好用\"</span>,<span style=\"color: #008000; text-decoration-color: #008000\">\"是否会生锈\"</span>\n",
       ",<span style=\"color: #008000; text-decoration-color: #008000\">\"排水方式\"</span>,<span style=\"color: #008000; text-decoration-color: #008000\">\"包装区别\"</span>,<span style=\"color: #008000; text-decoration-color: #008000\">\"发货数量\"</span>,<span style=\"color: #008000; text-decoration-color: #008000\">\"反馈用后症状\"</span>,<span style=\"color: #008000; text-decoration-color: #008000\">\"商品材质\"</span>,<span style=\"color: #008000; text-decoration-color: #008000\">\"功效功能\"</span>,<span style=\"color: #008000; text-decoration-color: #008000\">\"是否易褪色\"</span>,<span style=\"color: #008000; text-decoration-color: #008000\">\"适用季节\"</span>,<span style=\"color: #008000; text-decoration-color: #008000\">\"能否调光\"</span>,<span style=\"color: #008000; text-decoration-color: #008000\">\"版本款型</span>\n",
       "<span style=\"color: #008000; text-decoration-color: #008000\">区别\"</span>,<span style=\"color: #008000; text-decoration-color: #008000\">\"单品推荐\"</span>,<span style=\"color: #008000; text-decoration-color: #008000\">\"用法用量\"</span>,<span style=\"color: #008000; text-decoration-color: #008000\">\"控制方式\"</span>,<span style=\"color: #008000; text-decoration-color: #008000\">\"上市时间\"</span>,<span style=\"color: #008000; text-decoration-color: #008000\">\"商品规格\"</span>,<span style=\"color: #008000; text-decoration-color: #008000\">\"信号情况\"</span>,<span style=\"color: #008000; text-decoration-color: #008000\">\"养护方法\"</span>,<span style=\"color: #008000; text-decoration-color: #008000\">\"套装推荐\"</span>,<span style=\"color: #008000; text-decoration-color: #008000\">\"何时上货\"</span>,<span style=\"color: #008000; text-decoration-color: #008000\">\"气泡\"</span><span style=\"font-weight: bold\">]</span>\n",
       "\n",
       "</pre>\n"
      ],
      "text/plain": [
       "你是一个电商客服专家，请根据用户与客服的多轮对话判断用户的意图分类标签。\n",
       "\u001b[1m<\u001b[0m\u001b[1;95m用户与客服的对话\u001b[0m\u001b[39m START>\u001b[0m\n",
       "\u001b[39m用户: <image>\u001b[0m\n",
       "\u001b[39m客服: 麻烦您简要说明一下遇到的问题哦。\u001b[0m\n",
       "\u001b[39m用户: 编号470与编号473有何不同？\u001b[0m\n",
       "\u001b[39m客服: \u001b[0m\n",
       "\u001b[39m<用户与客服的对话 END\u001b[0m\u001b[1m>\u001b[0m\n",
       "请直接只输出分类标签结果，不需要其他多余的话。以下是可以参考的分类标签为：\u001b[1m[\u001b[0m\u001b[32m\"反馈密封性不好\"\u001b[0m,\u001b[32m\"是否好用\"\u001b[0m,\u001b[32m\"是否会生锈\"\u001b[0m\n",
       ",\u001b[32m\"排水方式\"\u001b[0m,\u001b[32m\"包装区别\"\u001b[0m,\u001b[32m\"发货数量\"\u001b[0m,\u001b[32m\"反馈用后症状\"\u001b[0m,\u001b[32m\"商品材质\"\u001b[0m,\u001b[32m\"功效功能\"\u001b[0m,\u001b[32m\"是否易褪色\"\u001b[0m,\u001b[32m\"适用季节\"\u001b[0m,\u001b[32m\"能否调光\"\u001b[0m,\u001b[32m\"版本款型\u001b[0m\n",
       "\u001b[32m区别\"\u001b[0m,\u001b[32m\"单品推荐\"\u001b[0m,\u001b[32m\"用法用量\"\u001b[0m,\u001b[32m\"控制方式\"\u001b[0m,\u001b[32m\"上市时间\"\u001b[0m,\u001b[32m\"商品规格\"\u001b[0m,\u001b[32m\"信号情况\"\u001b[0m,\u001b[32m\"养护方法\"\u001b[0m,\u001b[32m\"套装推荐\"\u001b[0m,\u001b[32m\"何时上货\"\u001b[0m,\u001b[32m\"气泡\"\u001b[0m\u001b[1m]\u001b[0m\n",
       "\n"
      ]
     },
     "metadata": {},
     "output_type": "display_data"
    },
    {
     "data": {
      "text/html": [
       "<pre style=\"white-space:pre;overflow-x:auto;line-height:normal;font-family:Menlo,'DejaVu Sans Mono',consolas,'Courier New',monospace\">版本款型区别\n",
       "</pre>\n"
      ],
      "text/plain": [
       "版本款型区别\n"
      ]
     },
     "metadata": {},
     "output_type": "display_data"
    },
    {
     "data": {
      "text/html": [
       "<pre style=\"white-space:pre;overflow-x:auto;line-height:normal;font-family:Menlo,'DejaVu Sans Mono',consolas,'Courier New',monospace\">你是一个电商客服专家，请根据用户与客服的多轮对话判断用户的意图分类标签。\n",
       "<span style=\"font-weight: bold\">&lt;</span><span style=\"color: #ff00ff; text-decoration-color: #ff00ff; font-weight: bold\">用户与客服的对话</span><span style=\"color: #000000; text-decoration-color: #000000\"> START&gt;</span>\n",
       "<span style=\"color: #000000; text-decoration-color: #000000\">用户: &lt;image&gt;</span>\n",
       "<span style=\"color: #000000; text-decoration-color: #000000\">客服: </span>\n",
       "<span style=\"color: #000000; text-decoration-color: #000000\">亲爱的，我在这里哦，只是一张图片还不能解答您的疑问呢，麻烦您用文字具体说明一下，比如“发货时间”、“店铺促销”等。</span>\n",
       "<span style=\"color: #000000; text-decoration-color: #000000\">用户: 是买三赠一吗？</span>\n",
       "<span style=\"color: #000000; text-decoration-color: #000000\">客服: 尊敬的顾客可以浏览一下我们的店铺主页，如果有活动会详细告知，我们会定期推出多种优惠活动哦~ 非常感谢您的支持~</span>\n",
       "<span style=\"color: #000000; text-decoration-color: #000000\">用户: 价值399的套餐组合</span>\n",
       "<span style=\"color: #000000; text-decoration-color: #000000\">客服: 尊敬的顾客可以浏览一下我们的店铺主页~如果有活动，我们会进行详细介绍~</span>\n",
       "<span style=\"color: #000000; text-decoration-color: #000000\">用户: 一共收到了几瓶</span>\n",
       "<span style=\"color: #000000; text-decoration-color: #000000\">客服: </span>\n",
       "<span style=\"color: #000000; text-decoration-color: #000000\">&lt;用户与客服的对话 END</span><span style=\"font-weight: bold\">&gt;</span>\n",
       "请直接只输出分类标签结果，不需要其他多余的话。以下是可以参考的分类标签为：<span style=\"font-weight: bold\">[</span><span style=\"color: #008000; text-decoration-color: #008000\">\"反馈密封性不好\"</span>,<span style=\"color: #008000; text-decoration-color: #008000\">\"是否好用\"</span>,<span style=\"color: #008000; text-decoration-color: #008000\">\"是否会生锈\"</span>\n",
       ",<span style=\"color: #008000; text-decoration-color: #008000\">\"排水方式\"</span>,<span style=\"color: #008000; text-decoration-color: #008000\">\"包装区别\"</span>,<span style=\"color: #008000; text-decoration-color: #008000\">\"发货数量\"</span>,<span style=\"color: #008000; text-decoration-color: #008000\">\"反馈用后症状\"</span>,<span style=\"color: #008000; text-decoration-color: #008000\">\"商品材质\"</span>,<span style=\"color: #008000; text-decoration-color: #008000\">\"功效功能\"</span>,<span style=\"color: #008000; text-decoration-color: #008000\">\"是否易褪色\"</span>,<span style=\"color: #008000; text-decoration-color: #008000\">\"适用季节\"</span>,<span style=\"color: #008000; text-decoration-color: #008000\">\"能否调光\"</span>,<span style=\"color: #008000; text-decoration-color: #008000\">\"版本款型</span>\n",
       "<span style=\"color: #008000; text-decoration-color: #008000\">区别\"</span>,<span style=\"color: #008000; text-decoration-color: #008000\">\"单品推荐\"</span>,<span style=\"color: #008000; text-decoration-color: #008000\">\"用法用量\"</span>,<span style=\"color: #008000; text-decoration-color: #008000\">\"控制方式\"</span>,<span style=\"color: #008000; text-decoration-color: #008000\">\"上市时间\"</span>,<span style=\"color: #008000; text-decoration-color: #008000\">\"商品规格\"</span>,<span style=\"color: #008000; text-decoration-color: #008000\">\"信号情况\"</span>,<span style=\"color: #008000; text-decoration-color: #008000\">\"养护方法\"</span>,<span style=\"color: #008000; text-decoration-color: #008000\">\"套装推荐\"</span>,<span style=\"color: #008000; text-decoration-color: #008000\">\"何时上货\"</span>,<span style=\"color: #008000; text-decoration-color: #008000\">\"气泡\"</span><span style=\"font-weight: bold\">]</span>\n",
       "\n",
       "</pre>\n"
      ],
      "text/plain": [
       "你是一个电商客服专家，请根据用户与客服的多轮对话判断用户的意图分类标签。\n",
       "\u001b[1m<\u001b[0m\u001b[1;95m用户与客服的对话\u001b[0m\u001b[39m START>\u001b[0m\n",
       "\u001b[39m用户: <image>\u001b[0m\n",
       "\u001b[39m客服: \u001b[0m\n",
       "\u001b[39m亲爱的，我在这里哦，只是一张图片还不能解答您的疑问呢，麻烦您用文字具体说明一下，比如“发货时间”、“店铺促销”等。\u001b[0m\n",
       "\u001b[39m用户: 是买三赠一吗？\u001b[0m\n",
       "\u001b[39m客服: 尊敬的顾客可以浏览一下我们的店铺主页，如果有活动会详细告知，我们会定期推出多种优惠活动哦~ 非常感谢您的支持~\u001b[0m\n",
       "\u001b[39m用户: 价值399的套餐组合\u001b[0m\n",
       "\u001b[39m客服: 尊敬的顾客可以浏览一下我们的店铺主页~如果有活动，我们会进行详细介绍~\u001b[0m\n",
       "\u001b[39m用户: 一共收到了几瓶\u001b[0m\n",
       "\u001b[39m客服: \u001b[0m\n",
       "\u001b[39m<用户与客服的对话 END\u001b[0m\u001b[1m>\u001b[0m\n",
       "请直接只输出分类标签结果，不需要其他多余的话。以下是可以参考的分类标签为：\u001b[1m[\u001b[0m\u001b[32m\"反馈密封性不好\"\u001b[0m,\u001b[32m\"是否好用\"\u001b[0m,\u001b[32m\"是否会生锈\"\u001b[0m\n",
       ",\u001b[32m\"排水方式\"\u001b[0m,\u001b[32m\"包装区别\"\u001b[0m,\u001b[32m\"发货数量\"\u001b[0m,\u001b[32m\"反馈用后症状\"\u001b[0m,\u001b[32m\"商品材质\"\u001b[0m,\u001b[32m\"功效功能\"\u001b[0m,\u001b[32m\"是否易褪色\"\u001b[0m,\u001b[32m\"适用季节\"\u001b[0m,\u001b[32m\"能否调光\"\u001b[0m,\u001b[32m\"版本款型\u001b[0m\n",
       "\u001b[32m区别\"\u001b[0m,\u001b[32m\"单品推荐\"\u001b[0m,\u001b[32m\"用法用量\"\u001b[0m,\u001b[32m\"控制方式\"\u001b[0m,\u001b[32m\"上市时间\"\u001b[0m,\u001b[32m\"商品规格\"\u001b[0m,\u001b[32m\"信号情况\"\u001b[0m,\u001b[32m\"养护方法\"\u001b[0m,\u001b[32m\"套装推荐\"\u001b[0m,\u001b[32m\"何时上货\"\u001b[0m,\u001b[32m\"气泡\"\u001b[0m\u001b[1m]\u001b[0m\n",
       "\n"
      ]
     },
     "metadata": {},
     "output_type": "display_data"
    },
    {
     "data": {
      "text/html": [
       "<pre style=\"white-space:pre;overflow-x:auto;line-height:normal;font-family:Menlo,'DejaVu Sans Mono',consolas,'Courier New',monospace\">发货数量\n",
       "</pre>\n"
      ],
      "text/plain": [
       "发货数量\n"
      ]
     },
     "metadata": {},
     "output_type": "display_data"
    },
    {
     "data": {
      "text/html": [
       "<pre style=\"white-space:pre;overflow-x:auto;line-height:normal;font-family:Menlo,'DejaVu Sans Mono',consolas,'Courier New',monospace\">你是一个电商客服专家，请根据用户与客服的多轮对话判断用户的意图分类标签。\n",
       "<span style=\"font-weight: bold\">&lt;</span><span style=\"color: #ff00ff; text-decoration-color: #ff00ff; font-weight: bold\">用户与客服的对话</span><span style=\"color: #000000; text-decoration-color: #000000\"> START&gt;</span>\n",
       "<span style=\"color: #000000; text-decoration-color: #000000\">用户: &lt;http&gt;</span>\n",
       "<span style=\"color: #000000; text-decoration-color: #000000\">客服: 亲爱的，您有什么疑问可以直接告诉我哦~ 比如说关于【物流时间】或者【店铺促销】等方面的问题。</span>\n",
       "<span style=\"color: #000000; text-decoration-color: #000000\">用户: &lt;image&gt;</span>\n",
       "<span style=\"color: #000000; text-decoration-color: #000000\">客服: </span>\n",
       "<span style=\"color: #000000; text-decoration-color: #000000\">亲爱的，我在这儿，不过只有一个图片信息，不太明白您的问题，能否用文字具体说明一下，比如“发货日期”、“店铺促销”等。</span>\n",
       "<span style=\"color: #000000; text-decoration-color: #000000\">用户: 标记的这两款，是不是只是包装不一样，里面的花生内容相同？</span>\n",
       "<span style=\"color: #000000; text-decoration-color: #000000\">客服: </span>\n",
       "<span style=\"color: #000000; text-decoration-color: #000000\">我们这里有三种类型的花生：带壳生花生、带壳熟花生和无壳花生米。生花生是直接晒干的，没有进一步加工，吃起来软糯且甜；</span>\n",
       "<span style=\"color: #000000; text-decoration-color: #000000\">熟花生则是用小火慢慢炒制的，口感香脆；花生米也是直接晒干后去壳的，您可以根据个人喜好来挑选哦~</span>\n",
       "<span style=\"color: #000000; text-decoration-color: #000000\">&lt;用户与客服的对话 END</span><span style=\"font-weight: bold\">&gt;</span>\n",
       "请直接只输出分类标签结果，不需要其他多余的话。以下是可以参考的分类标签为：<span style=\"font-weight: bold\">[</span><span style=\"color: #008000; text-decoration-color: #008000\">\"反馈密封性不好\"</span>,<span style=\"color: #008000; text-decoration-color: #008000\">\"是否好用\"</span>,<span style=\"color: #008000; text-decoration-color: #008000\">\"是否会生锈\"</span>\n",
       ",<span style=\"color: #008000; text-decoration-color: #008000\">\"排水方式\"</span>,<span style=\"color: #008000; text-decoration-color: #008000\">\"包装区别\"</span>,<span style=\"color: #008000; text-decoration-color: #008000\">\"发货数量\"</span>,<span style=\"color: #008000; text-decoration-color: #008000\">\"反馈用后症状\"</span>,<span style=\"color: #008000; text-decoration-color: #008000\">\"商品材质\"</span>,<span style=\"color: #008000; text-decoration-color: #008000\">\"功效功能\"</span>,<span style=\"color: #008000; text-decoration-color: #008000\">\"是否易褪色\"</span>,<span style=\"color: #008000; text-decoration-color: #008000\">\"适用季节\"</span>,<span style=\"color: #008000; text-decoration-color: #008000\">\"能否调光\"</span>,<span style=\"color: #008000; text-decoration-color: #008000\">\"版本款型</span>\n",
       "<span style=\"color: #008000; text-decoration-color: #008000\">区别\"</span>,<span style=\"color: #008000; text-decoration-color: #008000\">\"单品推荐\"</span>,<span style=\"color: #008000; text-decoration-color: #008000\">\"用法用量\"</span>,<span style=\"color: #008000; text-decoration-color: #008000\">\"控制方式\"</span>,<span style=\"color: #008000; text-decoration-color: #008000\">\"上市时间\"</span>,<span style=\"color: #008000; text-decoration-color: #008000\">\"商品规格\"</span>,<span style=\"color: #008000; text-decoration-color: #008000\">\"信号情况\"</span>,<span style=\"color: #008000; text-decoration-color: #008000\">\"养护方法\"</span>,<span style=\"color: #008000; text-decoration-color: #008000\">\"套装推荐\"</span>,<span style=\"color: #008000; text-decoration-color: #008000\">\"何时上货\"</span>,<span style=\"color: #008000; text-decoration-color: #008000\">\"气泡\"</span><span style=\"font-weight: bold\">]</span>\n",
       "\n",
       "</pre>\n"
      ],
      "text/plain": [
       "你是一个电商客服专家，请根据用户与客服的多轮对话判断用户的意图分类标签。\n",
       "\u001b[1m<\u001b[0m\u001b[1;95m用户与客服的对话\u001b[0m\u001b[39m START>\u001b[0m\n",
       "\u001b[39m用户: <http>\u001b[0m\n",
       "\u001b[39m客服: 亲爱的，您有什么疑问可以直接告诉我哦~ 比如说关于【物流时间】或者【店铺促销】等方面的问题。\u001b[0m\n",
       "\u001b[39m用户: <image>\u001b[0m\n",
       "\u001b[39m客服: \u001b[0m\n",
       "\u001b[39m亲爱的，我在这儿，不过只有一个图片信息，不太明白您的问题，能否用文字具体说明一下，比如“发货日期”、“店铺促销”等。\u001b[0m\n",
       "\u001b[39m用户: 标记的这两款，是不是只是包装不一样，里面的花生内容相同？\u001b[0m\n",
       "\u001b[39m客服: \u001b[0m\n",
       "\u001b[39m我们这里有三种类型的花生：带壳生花生、带壳熟花生和无壳花生米。生花生是直接晒干的，没有进一步加工，吃起来软糯且甜；\u001b[0m\n",
       "\u001b[39m熟花生则是用小火慢慢炒制的，口感香脆；花生米也是直接晒干后去壳的，您可以根据个人喜好来挑选哦~\u001b[0m\n",
       "\u001b[39m<用户与客服的对话 END\u001b[0m\u001b[1m>\u001b[0m\n",
       "请直接只输出分类标签结果，不需要其他多余的话。以下是可以参考的分类标签为：\u001b[1m[\u001b[0m\u001b[32m\"反馈密封性不好\"\u001b[0m,\u001b[32m\"是否好用\"\u001b[0m,\u001b[32m\"是否会生锈\"\u001b[0m\n",
       ",\u001b[32m\"排水方式\"\u001b[0m,\u001b[32m\"包装区别\"\u001b[0m,\u001b[32m\"发货数量\"\u001b[0m,\u001b[32m\"反馈用后症状\"\u001b[0m,\u001b[32m\"商品材质\"\u001b[0m,\u001b[32m\"功效功能\"\u001b[0m,\u001b[32m\"是否易褪色\"\u001b[0m,\u001b[32m\"适用季节\"\u001b[0m,\u001b[32m\"能否调光\"\u001b[0m,\u001b[32m\"版本款型\u001b[0m\n",
       "\u001b[32m区别\"\u001b[0m,\u001b[32m\"单品推荐\"\u001b[0m,\u001b[32m\"用法用量\"\u001b[0m,\u001b[32m\"控制方式\"\u001b[0m,\u001b[32m\"上市时间\"\u001b[0m,\u001b[32m\"商品规格\"\u001b[0m,\u001b[32m\"信号情况\"\u001b[0m,\u001b[32m\"养护方法\"\u001b[0m,\u001b[32m\"套装推荐\"\u001b[0m,\u001b[32m\"何时上货\"\u001b[0m,\u001b[32m\"气泡\"\u001b[0m\u001b[1m]\u001b[0m\n",
       "\n"
      ]
     },
     "metadata": {},
     "output_type": "display_data"
    },
    {
     "data": {
      "text/html": [
       "<pre style=\"white-space:pre;overflow-x:auto;line-height:normal;font-family:Menlo,'DejaVu Sans Mono',consolas,'Courier New',monospace\">包装区别\n",
       "</pre>\n"
      ],
      "text/plain": [
       "包装区别\n"
      ]
     },
     "metadata": {},
     "output_type": "display_data"
    },
    {
     "data": {
      "text/html": [
       "<pre style=\"white-space:pre;overflow-x:auto;line-height:normal;font-family:Menlo,'DejaVu Sans Mono',consolas,'Courier New',monospace\">你是一个电商客服专家，请根据用户与客服的多轮对话判断用户的意图分类标签。\n",
       "<span style=\"font-weight: bold\">&lt;</span><span style=\"color: #ff00ff; text-decoration-color: #ff00ff; font-weight: bold\">用户与客服的对话</span><span style=\"color: #000000; text-decoration-color: #000000\"> START&gt;</span>\n",
       "<span style=\"color: #000000; text-decoration-color: #000000\">用户: &lt;http&gt;</span>\n",
       "<span style=\"color: #000000; text-decoration-color: #000000\">客服: </span>\n",
       "<span style=\"color: #000000; text-decoration-color: #000000\">用户: &lt;image&gt;</span>\n",
       "<span style=\"color: #000000; text-decoration-color: #000000\">客服: 亲爱的，您对图片里的这款商品有什么想要了解的吗~ 提醒一下，对于其他店铺的商品，我们无法通过图片来查找哦~ </span>\n",
       "<span style=\"color: #000000; text-decoration-color: #000000\">您可以尝试在店铺里用【识图】功能搜索一下呢~</span>\n",
       "<span style=\"color: #000000; text-decoration-color: #000000\">用户: 这款鞋子适合秋冬季穿吗？</span>\n",
       "<span style=\"color: #000000; text-decoration-color: #000000\">客服: 亲爱的，这款运动鞋适合全年穿着，无论哪个季节都合适~ </span>\n",
       "<span style=\"color: #000000; text-decoration-color: #000000\">推荐您依据季节的不同，灵活改变袜子的厚度，从而享受最舒适的穿戴感受。</span>\n",
       "<span style=\"color: #000000; text-decoration-color: #000000\">&lt;用户与客服的对话 END</span><span style=\"font-weight: bold\">&gt;</span>\n",
       "请直接只输出分类标签结果，不需要其他多余的话。以下是可以参考的分类标签为：<span style=\"font-weight: bold\">[</span><span style=\"color: #008000; text-decoration-color: #008000\">\"反馈密封性不好\"</span>,<span style=\"color: #008000; text-decoration-color: #008000\">\"是否好用\"</span>,<span style=\"color: #008000; text-decoration-color: #008000\">\"是否会生锈\"</span>\n",
       ",<span style=\"color: #008000; text-decoration-color: #008000\">\"排水方式\"</span>,<span style=\"color: #008000; text-decoration-color: #008000\">\"包装区别\"</span>,<span style=\"color: #008000; text-decoration-color: #008000\">\"发货数量\"</span>,<span style=\"color: #008000; text-decoration-color: #008000\">\"反馈用后症状\"</span>,<span style=\"color: #008000; text-decoration-color: #008000\">\"商品材质\"</span>,<span style=\"color: #008000; text-decoration-color: #008000\">\"功效功能\"</span>,<span style=\"color: #008000; text-decoration-color: #008000\">\"是否易褪色\"</span>,<span style=\"color: #008000; text-decoration-color: #008000\">\"适用季节\"</span>,<span style=\"color: #008000; text-decoration-color: #008000\">\"能否调光\"</span>,<span style=\"color: #008000; text-decoration-color: #008000\">\"版本款型</span>\n",
       "<span style=\"color: #008000; text-decoration-color: #008000\">区别\"</span>,<span style=\"color: #008000; text-decoration-color: #008000\">\"单品推荐\"</span>,<span style=\"color: #008000; text-decoration-color: #008000\">\"用法用量\"</span>,<span style=\"color: #008000; text-decoration-color: #008000\">\"控制方式\"</span>,<span style=\"color: #008000; text-decoration-color: #008000\">\"上市时间\"</span>,<span style=\"color: #008000; text-decoration-color: #008000\">\"商品规格\"</span>,<span style=\"color: #008000; text-decoration-color: #008000\">\"信号情况\"</span>,<span style=\"color: #008000; text-decoration-color: #008000\">\"养护方法\"</span>,<span style=\"color: #008000; text-decoration-color: #008000\">\"套装推荐\"</span>,<span style=\"color: #008000; text-decoration-color: #008000\">\"何时上货\"</span>,<span style=\"color: #008000; text-decoration-color: #008000\">\"气泡\"</span><span style=\"font-weight: bold\">]</span>\n",
       "\n",
       "</pre>\n"
      ],
      "text/plain": [
       "你是一个电商客服专家，请根据用户与客服的多轮对话判断用户的意图分类标签。\n",
       "\u001b[1m<\u001b[0m\u001b[1;95m用户与客服的对话\u001b[0m\u001b[39m START>\u001b[0m\n",
       "\u001b[39m用户: <http>\u001b[0m\n",
       "\u001b[39m客服: \u001b[0m\n",
       "\u001b[39m用户: <image>\u001b[0m\n",
       "\u001b[39m客服: 亲爱的，您对图片里的这款商品有什么想要了解的吗~ 提醒一下，对于其他店铺的商品，我们无法通过图片来查找哦~ \u001b[0m\n",
       "\u001b[39m您可以尝试在店铺里用【识图】功能搜索一下呢~\u001b[0m\n",
       "\u001b[39m用户: 这款鞋子适合秋冬季穿吗？\u001b[0m\n",
       "\u001b[39m客服: 亲爱的，这款运动鞋适合全年穿着，无论哪个季节都合适~ \u001b[0m\n",
       "\u001b[39m推荐您依据季节的不同，灵活改变袜子的厚度，从而享受最舒适的穿戴感受。\u001b[0m\n",
       "\u001b[39m<用户与客服的对话 END\u001b[0m\u001b[1m>\u001b[0m\n",
       "请直接只输出分类标签结果，不需要其他多余的话。以下是可以参考的分类标签为：\u001b[1m[\u001b[0m\u001b[32m\"反馈密封性不好\"\u001b[0m,\u001b[32m\"是否好用\"\u001b[0m,\u001b[32m\"是否会生锈\"\u001b[0m\n",
       ",\u001b[32m\"排水方式\"\u001b[0m,\u001b[32m\"包装区别\"\u001b[0m,\u001b[32m\"发货数量\"\u001b[0m,\u001b[32m\"反馈用后症状\"\u001b[0m,\u001b[32m\"商品材质\"\u001b[0m,\u001b[32m\"功效功能\"\u001b[0m,\u001b[32m\"是否易褪色\"\u001b[0m,\u001b[32m\"适用季节\"\u001b[0m,\u001b[32m\"能否调光\"\u001b[0m,\u001b[32m\"版本款型\u001b[0m\n",
       "\u001b[32m区别\"\u001b[0m,\u001b[32m\"单品推荐\"\u001b[0m,\u001b[32m\"用法用量\"\u001b[0m,\u001b[32m\"控制方式\"\u001b[0m,\u001b[32m\"上市时间\"\u001b[0m,\u001b[32m\"商品规格\"\u001b[0m,\u001b[32m\"信号情况\"\u001b[0m,\u001b[32m\"养护方法\"\u001b[0m,\u001b[32m\"套装推荐\"\u001b[0m,\u001b[32m\"何时上货\"\u001b[0m,\u001b[32m\"气泡\"\u001b[0m\u001b[1m]\u001b[0m\n",
       "\n"
      ]
     },
     "metadata": {},
     "output_type": "display_data"
    },
    {
     "data": {
      "text/html": [
       "<pre style=\"white-space:pre;overflow-x:auto;line-height:normal;font-family:Menlo,'DejaVu Sans Mono',consolas,'Courier New',monospace\">适用季节\n",
       "</pre>\n"
      ],
      "text/plain": [
       "适用季节\n"
      ]
     },
     "metadata": {},
     "output_type": "display_data"
    },
    {
     "data": {
      "text/html": [
       "<pre style=\"white-space:pre;overflow-x:auto;line-height:normal;font-family:Menlo,'DejaVu Sans Mono',consolas,'Courier New',monospace\">你是一个电商客服专家，请根据用户与客服的多轮对话判断用户的意图分类标签。\n",
       "<span style=\"font-weight: bold\">&lt;</span><span style=\"color: #ff00ff; text-decoration-color: #ff00ff; font-weight: bold\">用户与客服的对话</span><span style=\"color: #000000; text-decoration-color: #000000\"> START&gt;</span>\n",
       "<span style=\"color: #000000; text-decoration-color: #000000\">用户: &lt;image&gt;</span>\n",
       "<span style=\"color: #000000; text-decoration-color: #000000\">客服: 您好，这是您的商品列表截图，如果您有任何疑问，欢迎向我咨询。</span>\n",
       "<span style=\"color: #000000; text-decoration-color: #000000\">用户: 这些款式的区别在哪里？</span>\n",
       "<span style=\"color: #000000; text-decoration-color: #000000\">客服: 亲爱的，HUAWEI Pura </span>\n",
       "<span style=\"color: #000000; text-decoration-color: #000000\">70系列的每一款都非常出色，主要取决于哪一款更符合您的需求。如果您对外观设计和摄影有更高的要求，可以考虑HUAWEI Pura </span>\n",
       "<span style=\"color: #008080; text-decoration-color: #008080; font-weight: bold\">70</span><span style=\"color: #000000; text-decoration-color: #000000\"> Ultra；如果您更看重充电续航能力，希望拥有更耐磨的屏幕和天通卫星通信功能，可以选择HUAWEI Pura </span><span style=\"color: #008080; text-decoration-color: #008080; font-weight: bold\">70</span><span style=\"color: #000000; text-decoration-color: #000000\"> </span>\n",
       "<span style=\"color: #000000; text-decoration-color: #000000\">Pro+；如果您偏爱曲面屏并且对拍照有较高要求，可以看看HUAWEI Pura </span><span style=\"color: #008080; text-decoration-color: #008080; font-weight: bold\">70</span><span style=\"color: #000000; text-decoration-color: #000000\"> Pro；如果您更倾向于直面屏，那么HUAWEI Pura </span>\n",
       "<span style=\"color: #000000; text-decoration-color: #000000\">70将是不错的选择。无论您选择哪一款，我相信都会带来满意的使用体验。</span>\n",
       "<span style=\"color: #000000; text-decoration-color: #000000\">用户: 哪款手机更好一些，mate60pro还是p70pro？</span>\n",
       "<span style=\"color: #000000; text-decoration-color: #000000\">客服: 亲爱的，HUAWEI Mate </span>\n",
       "<span style=\"color: #000000; text-decoration-color: #000000\">60系列采用了中轴对称的设计风格，显得稳重而大气，若您偏爱经典设计且追求更宽广视野的手机，这款会是不错的选择。</span><span style=\"color: #800080; text-decoration-color: #800080\">/</span><span style=\"color: #000000; text-decoration-color: #000000\">:</span><span style=\"color: #008080; text-decoration-color: #008080; font-weight: bold\">012</span><span style=\"color: #000000; text-decoration-color: #000000\"> </span>\n",
       "<span style=\"color: #000000; text-decoration-color: #000000\">另外，HUAWEI Pura </span>\n",
       "<span style=\"color: #000000; text-decoration-color: #000000\">70系列则以其创新的超级符号设计脱颖而出，不仅辨识度高，而且单手操作更为舒适，若您倾向于创新设计和更佳的单手握持体验</span>\n",
       "<span style=\"color: #000000; text-decoration-color: #000000\">，不妨考虑HUAWEI Pura 70系列。</span><span style=\"color: #800080; text-decoration-color: #800080\">/</span><span style=\"color: #000000; text-decoration-color: #000000\">:</span><span style=\"color: #008080; text-decoration-color: #008080; font-weight: bold\">066</span><span style=\"color: #000000; text-decoration-color: #000000\"> 这两个系列都是我们的旗舰产品，亲爱的，您可以根据个人喜好来挑选。</span>\n",
       "<span style=\"color: #000000; text-decoration-color: #000000\">&lt;用户与客服的对话 END</span><span style=\"font-weight: bold\">&gt;</span>\n",
       "请直接只输出分类标签结果，不需要其他多余的话。以下是可以参考的分类标签为：<span style=\"font-weight: bold\">[</span><span style=\"color: #008000; text-decoration-color: #008000\">\"反馈密封性不好\"</span>,<span style=\"color: #008000; text-decoration-color: #008000\">\"是否好用\"</span>,<span style=\"color: #008000; text-decoration-color: #008000\">\"是否会生锈\"</span>\n",
       ",<span style=\"color: #008000; text-decoration-color: #008000\">\"排水方式\"</span>,<span style=\"color: #008000; text-decoration-color: #008000\">\"包装区别\"</span>,<span style=\"color: #008000; text-decoration-color: #008000\">\"发货数量\"</span>,<span style=\"color: #008000; text-decoration-color: #008000\">\"反馈用后症状\"</span>,<span style=\"color: #008000; text-decoration-color: #008000\">\"商品材质\"</span>,<span style=\"color: #008000; text-decoration-color: #008000\">\"功效功能\"</span>,<span style=\"color: #008000; text-decoration-color: #008000\">\"是否易褪色\"</span>,<span style=\"color: #008000; text-decoration-color: #008000\">\"适用季节\"</span>,<span style=\"color: #008000; text-decoration-color: #008000\">\"能否调光\"</span>,<span style=\"color: #008000; text-decoration-color: #008000\">\"版本款型</span>\n",
       "<span style=\"color: #008000; text-decoration-color: #008000\">区别\"</span>,<span style=\"color: #008000; text-decoration-color: #008000\">\"单品推荐\"</span>,<span style=\"color: #008000; text-decoration-color: #008000\">\"用法用量\"</span>,<span style=\"color: #008000; text-decoration-color: #008000\">\"控制方式\"</span>,<span style=\"color: #008000; text-decoration-color: #008000\">\"上市时间\"</span>,<span style=\"color: #008000; text-decoration-color: #008000\">\"商品规格\"</span>,<span style=\"color: #008000; text-decoration-color: #008000\">\"信号情况\"</span>,<span style=\"color: #008000; text-decoration-color: #008000\">\"养护方法\"</span>,<span style=\"color: #008000; text-decoration-color: #008000\">\"套装推荐\"</span>,<span style=\"color: #008000; text-decoration-color: #008000\">\"何时上货\"</span>,<span style=\"color: #008000; text-decoration-color: #008000\">\"气泡\"</span><span style=\"font-weight: bold\">]</span>\n",
       "\n",
       "</pre>\n"
      ],
      "text/plain": [
       "你是一个电商客服专家，请根据用户与客服的多轮对话判断用户的意图分类标签。\n",
       "\u001b[1m<\u001b[0m\u001b[1;95m用户与客服的对话\u001b[0m\u001b[39m START>\u001b[0m\n",
       "\u001b[39m用户: <image>\u001b[0m\n",
       "\u001b[39m客服: 您好，这是您的商品列表截图，如果您有任何疑问，欢迎向我咨询。\u001b[0m\n",
       "\u001b[39m用户: 这些款式的区别在哪里？\u001b[0m\n",
       "\u001b[39m客服: 亲爱的，HUAWEI Pura \u001b[0m\n",
       "\u001b[39m70系列的每一款都非常出色，主要取决于哪一款更符合您的需求。如果您对外观设计和摄影有更高的要求，可以考虑HUAWEI Pura \u001b[0m\n",
       "\u001b[1;36m70\u001b[0m\u001b[39m Ultra；如果您更看重充电续航能力，希望拥有更耐磨的屏幕和天通卫星通信功能，可以选择HUAWEI Pura \u001b[0m\u001b[1;36m70\u001b[0m\u001b[39m \u001b[0m\n",
       "\u001b[39mPro+；如果您偏爱曲面屏并且对拍照有较高要求，可以看看HUAWEI Pura \u001b[0m\u001b[1;36m70\u001b[0m\u001b[39m Pro；如果您更倾向于直面屏，那么HUAWEI Pura \u001b[0m\n",
       "\u001b[39m70将是不错的选择。无论您选择哪一款，我相信都会带来满意的使用体验。\u001b[0m\n",
       "\u001b[39m用户: 哪款手机更好一些，mate60pro还是p70pro？\u001b[0m\n",
       "\u001b[39m客服: 亲爱的，HUAWEI Mate \u001b[0m\n",
       "\u001b[39m60系列采用了中轴对称的设计风格，显得稳重而大气，若您偏爱经典设计且追求更宽广视野的手机，这款会是不错的选择。\u001b[0m\u001b[35m/\u001b[0m\u001b[39m:\u001b[0m\u001b[1;36m012\u001b[0m\u001b[39m \u001b[0m\n",
       "\u001b[39m另外，HUAWEI Pura \u001b[0m\n",
       "\u001b[39m70系列则以其创新的超级符号设计脱颖而出，不仅辨识度高，而且单手操作更为舒适，若您倾向于创新设计和更佳的单手握持体验\u001b[0m\n",
       "\u001b[39m，不妨考虑HUAWEI Pura 70系列。\u001b[0m\u001b[35m/\u001b[0m\u001b[39m:\u001b[0m\u001b[1;36m066\u001b[0m\u001b[39m 这两个系列都是我们的旗舰产品，亲爱的，您可以根据个人喜好来挑选。\u001b[0m\n",
       "\u001b[39m<用户与客服的对话 END\u001b[0m\u001b[1m>\u001b[0m\n",
       "请直接只输出分类标签结果，不需要其他多余的话。以下是可以参考的分类标签为：\u001b[1m[\u001b[0m\u001b[32m\"反馈密封性不好\"\u001b[0m,\u001b[32m\"是否好用\"\u001b[0m,\u001b[32m\"是否会生锈\"\u001b[0m\n",
       ",\u001b[32m\"排水方式\"\u001b[0m,\u001b[32m\"包装区别\"\u001b[0m,\u001b[32m\"发货数量\"\u001b[0m,\u001b[32m\"反馈用后症状\"\u001b[0m,\u001b[32m\"商品材质\"\u001b[0m,\u001b[32m\"功效功能\"\u001b[0m,\u001b[32m\"是否易褪色\"\u001b[0m,\u001b[32m\"适用季节\"\u001b[0m,\u001b[32m\"能否调光\"\u001b[0m,\u001b[32m\"版本款型\u001b[0m\n",
       "\u001b[32m区别\"\u001b[0m,\u001b[32m\"单品推荐\"\u001b[0m,\u001b[32m\"用法用量\"\u001b[0m,\u001b[32m\"控制方式\"\u001b[0m,\u001b[32m\"上市时间\"\u001b[0m,\u001b[32m\"商品规格\"\u001b[0m,\u001b[32m\"信号情况\"\u001b[0m,\u001b[32m\"养护方法\"\u001b[0m,\u001b[32m\"套装推荐\"\u001b[0m,\u001b[32m\"何时上货\"\u001b[0m,\u001b[32m\"气泡\"\u001b[0m\u001b[1m]\u001b[0m\n",
       "\n"
      ]
     },
     "metadata": {},
     "output_type": "display_data"
    },
    {
     "data": {
      "text/html": [
       "<pre style=\"white-space:pre;overflow-x:auto;line-height:normal;font-family:Menlo,'DejaVu Sans Mono',consolas,'Courier New',monospace\">版本款型区别\n",
       "</pre>\n"
      ],
      "text/plain": [
       "版本款型区别\n"
      ]
     },
     "metadata": {},
     "output_type": "display_data"
    },
    {
     "data": {
      "text/html": [
       "<pre style=\"white-space:pre;overflow-x:auto;line-height:normal;font-family:Menlo,'DejaVu Sans Mono',consolas,'Courier New',monospace\">你是一个电商客服专家，请根据用户与客服的多轮对话判断用户的意图分类标签。\n",
       "<span style=\"font-weight: bold\">&lt;</span><span style=\"color: #ff00ff; text-decoration-color: #ff00ff; font-weight: bold\">用户与客服的对话</span><span style=\"color: #000000; text-decoration-color: #000000\"> START&gt;</span>\n",
       "<span style=\"color: #000000; text-decoration-color: #000000\">用户: 您好</span>\n",
       "<span style=\"color: #000000; text-decoration-color: #000000\">客服: 亲爱的，我在这里，请问有什么能为您效劳的吗？😊</span>\n",
       "<span style=\"color: #000000; text-decoration-color: #000000\">用户: 这是真品吗？</span>\n",
       "<span style=\"color: #000000; text-decoration-color: #000000\">客服: 我们提供正品代购服务，请您放心购买，若不满意可退货并享有运费保险。</span>\n",
       "<span style=\"color: #000000; text-decoration-color: #000000\">用户: &lt;image&gt;</span>\n",
       "<span style=\"color: #000000; text-decoration-color: #000000\">客服: 我们提供正品代购服务，请您放心购买，若不满意可退货并享有运费保险。</span>\n",
       "<span style=\"color: #000000; text-decoration-color: #000000\">用户: 这是哪款呢？</span>\n",
       "<span style=\"color: #000000; text-decoration-color: #000000\">客服: 点击☛【发货时间详情】|点击☛【商品真伪查询】|点击☛【快递方式说明】|以上都不是？请咨询客服</span>\n",
       "<span style=\"color: #000000; text-decoration-color: #000000\">用户: 秋季和夏季的款式哪个更适合</span>\n",
       "<span style=\"color: #000000; text-decoration-color: #000000\">客服: 亲爱的，这款适合全年穿着，透气性非常好，四季皆宜哦。</span>\n",
       "<span style=\"color: #000000; text-decoration-color: #000000\">&lt;用户与客服的对话 END</span><span style=\"font-weight: bold\">&gt;</span>\n",
       "请直接只输出分类标签结果，不需要其他多余的话。以下是可以参考的分类标签为：<span style=\"font-weight: bold\">[</span><span style=\"color: #008000; text-decoration-color: #008000\">\"反馈密封性不好\"</span>,<span style=\"color: #008000; text-decoration-color: #008000\">\"是否好用\"</span>,<span style=\"color: #008000; text-decoration-color: #008000\">\"是否会生锈\"</span>\n",
       ",<span style=\"color: #008000; text-decoration-color: #008000\">\"排水方式\"</span>,<span style=\"color: #008000; text-decoration-color: #008000\">\"包装区别\"</span>,<span style=\"color: #008000; text-decoration-color: #008000\">\"发货数量\"</span>,<span style=\"color: #008000; text-decoration-color: #008000\">\"反馈用后症状\"</span>,<span style=\"color: #008000; text-decoration-color: #008000\">\"商品材质\"</span>,<span style=\"color: #008000; text-decoration-color: #008000\">\"功效功能\"</span>,<span style=\"color: #008000; text-decoration-color: #008000\">\"是否易褪色\"</span>,<span style=\"color: #008000; text-decoration-color: #008000\">\"适用季节\"</span>,<span style=\"color: #008000; text-decoration-color: #008000\">\"能否调光\"</span>,<span style=\"color: #008000; text-decoration-color: #008000\">\"版本款型</span>\n",
       "<span style=\"color: #008000; text-decoration-color: #008000\">区别\"</span>,<span style=\"color: #008000; text-decoration-color: #008000\">\"单品推荐\"</span>,<span style=\"color: #008000; text-decoration-color: #008000\">\"用法用量\"</span>,<span style=\"color: #008000; text-decoration-color: #008000\">\"控制方式\"</span>,<span style=\"color: #008000; text-decoration-color: #008000\">\"上市时间\"</span>,<span style=\"color: #008000; text-decoration-color: #008000\">\"商品规格\"</span>,<span style=\"color: #008000; text-decoration-color: #008000\">\"信号情况\"</span>,<span style=\"color: #008000; text-decoration-color: #008000\">\"养护方法\"</span>,<span style=\"color: #008000; text-decoration-color: #008000\">\"套装推荐\"</span>,<span style=\"color: #008000; text-decoration-color: #008000\">\"何时上货\"</span>,<span style=\"color: #008000; text-decoration-color: #008000\">\"气泡\"</span><span style=\"font-weight: bold\">]</span>\n",
       "\n",
       "</pre>\n"
      ],
      "text/plain": [
       "你是一个电商客服专家，请根据用户与客服的多轮对话判断用户的意图分类标签。\n",
       "\u001b[1m<\u001b[0m\u001b[1;95m用户与客服的对话\u001b[0m\u001b[39m START>\u001b[0m\n",
       "\u001b[39m用户: 您好\u001b[0m\n",
       "\u001b[39m客服: 亲爱的，我在这里，请问有什么能为您效劳的吗？😊\u001b[0m\n",
       "\u001b[39m用户: 这是真品吗？\u001b[0m\n",
       "\u001b[39m客服: 我们提供正品代购服务，请您放心购买，若不满意可退货并享有运费保险。\u001b[0m\n",
       "\u001b[39m用户: <image>\u001b[0m\n",
       "\u001b[39m客服: 我们提供正品代购服务，请您放心购买，若不满意可退货并享有运费保险。\u001b[0m\n",
       "\u001b[39m用户: 这是哪款呢？\u001b[0m\n",
       "\u001b[39m客服: 点击☛【发货时间详情】|点击☛【商品真伪查询】|点击☛【快递方式说明】|以上都不是？请咨询客服\u001b[0m\n",
       "\u001b[39m用户: 秋季和夏季的款式哪个更适合\u001b[0m\n",
       "\u001b[39m客服: 亲爱的，这款适合全年穿着，透气性非常好，四季皆宜哦。\u001b[0m\n",
       "\u001b[39m<用户与客服的对话 END\u001b[0m\u001b[1m>\u001b[0m\n",
       "请直接只输出分类标签结果，不需要其他多余的话。以下是可以参考的分类标签为：\u001b[1m[\u001b[0m\u001b[32m\"反馈密封性不好\"\u001b[0m,\u001b[32m\"是否好用\"\u001b[0m,\u001b[32m\"是否会生锈\"\u001b[0m\n",
       ",\u001b[32m\"排水方式\"\u001b[0m,\u001b[32m\"包装区别\"\u001b[0m,\u001b[32m\"发货数量\"\u001b[0m,\u001b[32m\"反馈用后症状\"\u001b[0m,\u001b[32m\"商品材质\"\u001b[0m,\u001b[32m\"功效功能\"\u001b[0m,\u001b[32m\"是否易褪色\"\u001b[0m,\u001b[32m\"适用季节\"\u001b[0m,\u001b[32m\"能否调光\"\u001b[0m,\u001b[32m\"版本款型\u001b[0m\n",
       "\u001b[32m区别\"\u001b[0m,\u001b[32m\"单品推荐\"\u001b[0m,\u001b[32m\"用法用量\"\u001b[0m,\u001b[32m\"控制方式\"\u001b[0m,\u001b[32m\"上市时间\"\u001b[0m,\u001b[32m\"商品规格\"\u001b[0m,\u001b[32m\"信号情况\"\u001b[0m,\u001b[32m\"养护方法\"\u001b[0m,\u001b[32m\"套装推荐\"\u001b[0m,\u001b[32m\"何时上货\"\u001b[0m,\u001b[32m\"气泡\"\u001b[0m\u001b[1m]\u001b[0m\n",
       "\n"
      ]
     },
     "metadata": {},
     "output_type": "display_data"
    },
    {
     "data": {
      "text/html": [
       "<pre style=\"white-space:pre;overflow-x:auto;line-height:normal;font-family:Menlo,'DejaVu Sans Mono',consolas,'Courier New',monospace\">适用季节\n",
       "</pre>\n"
      ],
      "text/plain": [
       "适用季节\n"
      ]
     },
     "metadata": {},
     "output_type": "display_data"
    },
    {
     "data": {
      "text/html": [
       "<pre style=\"white-space:pre;overflow-x:auto;line-height:normal;font-family:Menlo,'DejaVu Sans Mono',consolas,'Courier New',monospace\">你是一个电商客服专家，请根据用户与客服的多轮对话判断用户的意图分类标签。\n",
       "<span style=\"font-weight: bold\">&lt;</span><span style=\"color: #ff00ff; text-decoration-color: #ff00ff; font-weight: bold\">用户与客服的对话</span><span style=\"color: #000000; text-decoration-color: #000000\"> START&gt;</span>\n",
       "<span style=\"color: #000000; text-decoration-color: #000000\">用户: &lt;image&gt;</span>\n",
       "<span style=\"color: #000000; text-decoration-color: #000000\">客服: </span>\n",
       "<span style=\"color: #000000; text-decoration-color: #000000\">用户: 这种类型的缺失可以补充吗？</span>\n",
       "<span style=\"color: #000000; text-decoration-color: #000000\">客服: 亲爱的，这个还不太确定呢，如果喜欢的话建议先加个收藏，也可以看看其他款式有没有中意的哦~</span>\n",
       "<span style=\"color: #000000; text-decoration-color: #000000\">&lt;用户与客服的对话 END</span><span style=\"font-weight: bold\">&gt;</span>\n",
       "请直接只输出分类标签结果，不需要其他多余的话。以下是可以参考的分类标签为：<span style=\"font-weight: bold\">[</span><span style=\"color: #008000; text-decoration-color: #008000\">\"反馈密封性不好\"</span>,<span style=\"color: #008000; text-decoration-color: #008000\">\"是否好用\"</span>,<span style=\"color: #008000; text-decoration-color: #008000\">\"是否会生锈\"</span>\n",
       ",<span style=\"color: #008000; text-decoration-color: #008000\">\"排水方式\"</span>,<span style=\"color: #008000; text-decoration-color: #008000\">\"包装区别\"</span>,<span style=\"color: #008000; text-decoration-color: #008000\">\"发货数量\"</span>,<span style=\"color: #008000; text-decoration-color: #008000\">\"反馈用后症状\"</span>,<span style=\"color: #008000; text-decoration-color: #008000\">\"商品材质\"</span>,<span style=\"color: #008000; text-decoration-color: #008000\">\"功效功能\"</span>,<span style=\"color: #008000; text-decoration-color: #008000\">\"是否易褪色\"</span>,<span style=\"color: #008000; text-decoration-color: #008000\">\"适用季节\"</span>,<span style=\"color: #008000; text-decoration-color: #008000\">\"能否调光\"</span>,<span style=\"color: #008000; text-decoration-color: #008000\">\"版本款型</span>\n",
       "<span style=\"color: #008000; text-decoration-color: #008000\">区别\"</span>,<span style=\"color: #008000; text-decoration-color: #008000\">\"单品推荐\"</span>,<span style=\"color: #008000; text-decoration-color: #008000\">\"用法用量\"</span>,<span style=\"color: #008000; text-decoration-color: #008000\">\"控制方式\"</span>,<span style=\"color: #008000; text-decoration-color: #008000\">\"上市时间\"</span>,<span style=\"color: #008000; text-decoration-color: #008000\">\"商品规格\"</span>,<span style=\"color: #008000; text-decoration-color: #008000\">\"信号情况\"</span>,<span style=\"color: #008000; text-decoration-color: #008000\">\"养护方法\"</span>,<span style=\"color: #008000; text-decoration-color: #008000\">\"套装推荐\"</span>,<span style=\"color: #008000; text-decoration-color: #008000\">\"何时上货\"</span>,<span style=\"color: #008000; text-decoration-color: #008000\">\"气泡\"</span><span style=\"font-weight: bold\">]</span>\n",
       "\n",
       "</pre>\n"
      ],
      "text/plain": [
       "你是一个电商客服专家，请根据用户与客服的多轮对话判断用户的意图分类标签。\n",
       "\u001b[1m<\u001b[0m\u001b[1;95m用户与客服的对话\u001b[0m\u001b[39m START>\u001b[0m\n",
       "\u001b[39m用户: <image>\u001b[0m\n",
       "\u001b[39m客服: \u001b[0m\n",
       "\u001b[39m用户: 这种类型的缺失可以补充吗？\u001b[0m\n",
       "\u001b[39m客服: 亲爱的，这个还不太确定呢，如果喜欢的话建议先加个收藏，也可以看看其他款式有没有中意的哦~\u001b[0m\n",
       "\u001b[39m<用户与客服的对话 END\u001b[0m\u001b[1m>\u001b[0m\n",
       "请直接只输出分类标签结果，不需要其他多余的话。以下是可以参考的分类标签为：\u001b[1m[\u001b[0m\u001b[32m\"反馈密封性不好\"\u001b[0m,\u001b[32m\"是否好用\"\u001b[0m,\u001b[32m\"是否会生锈\"\u001b[0m\n",
       ",\u001b[32m\"排水方式\"\u001b[0m,\u001b[32m\"包装区别\"\u001b[0m,\u001b[32m\"发货数量\"\u001b[0m,\u001b[32m\"反馈用后症状\"\u001b[0m,\u001b[32m\"商品材质\"\u001b[0m,\u001b[32m\"功效功能\"\u001b[0m,\u001b[32m\"是否易褪色\"\u001b[0m,\u001b[32m\"适用季节\"\u001b[0m,\u001b[32m\"能否调光\"\u001b[0m,\u001b[32m\"版本款型\u001b[0m\n",
       "\u001b[32m区别\"\u001b[0m,\u001b[32m\"单品推荐\"\u001b[0m,\u001b[32m\"用法用量\"\u001b[0m,\u001b[32m\"控制方式\"\u001b[0m,\u001b[32m\"上市时间\"\u001b[0m,\u001b[32m\"商品规格\"\u001b[0m,\u001b[32m\"信号情况\"\u001b[0m,\u001b[32m\"养护方法\"\u001b[0m,\u001b[32m\"套装推荐\"\u001b[0m,\u001b[32m\"何时上货\"\u001b[0m,\u001b[32m\"气泡\"\u001b[0m\u001b[1m]\u001b[0m\n",
       "\n"
      ]
     },
     "metadata": {},
     "output_type": "display_data"
    },
    {
     "data": {
      "text/html": [
       "<pre style=\"white-space:pre;overflow-x:auto;line-height:normal;font-family:Menlo,'DejaVu Sans Mono',consolas,'Courier New',monospace\">何时上货\n",
       "</pre>\n"
      ],
      "text/plain": [
       "何时上货\n"
      ]
     },
     "metadata": {},
     "output_type": "display_data"
    },
    {
     "data": {
      "text/html": [
       "<pre style=\"white-space:pre;overflow-x:auto;line-height:normal;font-family:Menlo,'DejaVu Sans Mono',consolas,'Courier New',monospace\">你是一个电商客服专家，请根据用户与客服的多轮对话判断用户的意图分类标签。\n",
       "<span style=\"font-weight: bold\">&lt;</span><span style=\"color: #ff00ff; text-decoration-color: #ff00ff; font-weight: bold\">用户与客服的对话</span><span style=\"color: #000000; text-decoration-color: #000000\"> START&gt;</span>\n",
       "<span style=\"color: #000000; text-decoration-color: #000000\">用户: &lt;image&gt;</span>\n",
       "<span style=\"color: #000000; text-decoration-color: #000000\">客服: 亲爱的，有什么能为您效劳的吗？请尽管吩咐。</span>\n",
       "<span style=\"color: #000000; text-decoration-color: #000000\">用户: 你们店铺里哪一款合适呢？</span>\n",
       "<span style=\"color: #000000; text-decoration-color: #000000\">客服: 很抱歉，我们店铺暂时没有这款商品，您可以看看我们店里的相似款式。</span>\n",
       "<span style=\"color: #000000; text-decoration-color: #000000\">&lt;用户与客服的对话 END</span><span style=\"font-weight: bold\">&gt;</span>\n",
       "请直接只输出分类标签结果，不需要其他多余的话。以下是可以参考的分类标签为：<span style=\"font-weight: bold\">[</span><span style=\"color: #008000; text-decoration-color: #008000\">\"反馈密封性不好\"</span>,<span style=\"color: #008000; text-decoration-color: #008000\">\"是否好用\"</span>,<span style=\"color: #008000; text-decoration-color: #008000\">\"是否会生锈\"</span>\n",
       ",<span style=\"color: #008000; text-decoration-color: #008000\">\"排水方式\"</span>,<span style=\"color: #008000; text-decoration-color: #008000\">\"包装区别\"</span>,<span style=\"color: #008000; text-decoration-color: #008000\">\"发货数量\"</span>,<span style=\"color: #008000; text-decoration-color: #008000\">\"反馈用后症状\"</span>,<span style=\"color: #008000; text-decoration-color: #008000\">\"商品材质\"</span>,<span style=\"color: #008000; text-decoration-color: #008000\">\"功效功能\"</span>,<span style=\"color: #008000; text-decoration-color: #008000\">\"是否易褪色\"</span>,<span style=\"color: #008000; text-decoration-color: #008000\">\"适用季节\"</span>,<span style=\"color: #008000; text-decoration-color: #008000\">\"能否调光\"</span>,<span style=\"color: #008000; text-decoration-color: #008000\">\"版本款型</span>\n",
       "<span style=\"color: #008000; text-decoration-color: #008000\">区别\"</span>,<span style=\"color: #008000; text-decoration-color: #008000\">\"单品推荐\"</span>,<span style=\"color: #008000; text-decoration-color: #008000\">\"用法用量\"</span>,<span style=\"color: #008000; text-decoration-color: #008000\">\"控制方式\"</span>,<span style=\"color: #008000; text-decoration-color: #008000\">\"上市时间\"</span>,<span style=\"color: #008000; text-decoration-color: #008000\">\"商品规格\"</span>,<span style=\"color: #008000; text-decoration-color: #008000\">\"信号情况\"</span>,<span style=\"color: #008000; text-decoration-color: #008000\">\"养护方法\"</span>,<span style=\"color: #008000; text-decoration-color: #008000\">\"套装推荐\"</span>,<span style=\"color: #008000; text-decoration-color: #008000\">\"何时上货\"</span>,<span style=\"color: #008000; text-decoration-color: #008000\">\"气泡\"</span><span style=\"font-weight: bold\">]</span>\n",
       "\n",
       "</pre>\n"
      ],
      "text/plain": [
       "你是一个电商客服专家，请根据用户与客服的多轮对话判断用户的意图分类标签。\n",
       "\u001b[1m<\u001b[0m\u001b[1;95m用户与客服的对话\u001b[0m\u001b[39m START>\u001b[0m\n",
       "\u001b[39m用户: <image>\u001b[0m\n",
       "\u001b[39m客服: 亲爱的，有什么能为您效劳的吗？请尽管吩咐。\u001b[0m\n",
       "\u001b[39m用户: 你们店铺里哪一款合适呢？\u001b[0m\n",
       "\u001b[39m客服: 很抱歉，我们店铺暂时没有这款商品，您可以看看我们店里的相似款式。\u001b[0m\n",
       "\u001b[39m<用户与客服的对话 END\u001b[0m\u001b[1m>\u001b[0m\n",
       "请直接只输出分类标签结果，不需要其他多余的话。以下是可以参考的分类标签为：\u001b[1m[\u001b[0m\u001b[32m\"反馈密封性不好\"\u001b[0m,\u001b[32m\"是否好用\"\u001b[0m,\u001b[32m\"是否会生锈\"\u001b[0m\n",
       ",\u001b[32m\"排水方式\"\u001b[0m,\u001b[32m\"包装区别\"\u001b[0m,\u001b[32m\"发货数量\"\u001b[0m,\u001b[32m\"反馈用后症状\"\u001b[0m,\u001b[32m\"商品材质\"\u001b[0m,\u001b[32m\"功效功能\"\u001b[0m,\u001b[32m\"是否易褪色\"\u001b[0m,\u001b[32m\"适用季节\"\u001b[0m,\u001b[32m\"能否调光\"\u001b[0m,\u001b[32m\"版本款型\u001b[0m\n",
       "\u001b[32m区别\"\u001b[0m,\u001b[32m\"单品推荐\"\u001b[0m,\u001b[32m\"用法用量\"\u001b[0m,\u001b[32m\"控制方式\"\u001b[0m,\u001b[32m\"上市时间\"\u001b[0m,\u001b[32m\"商品规格\"\u001b[0m,\u001b[32m\"信号情况\"\u001b[0m,\u001b[32m\"养护方法\"\u001b[0m,\u001b[32m\"套装推荐\"\u001b[0m,\u001b[32m\"何时上货\"\u001b[0m,\u001b[32m\"气泡\"\u001b[0m\u001b[1m]\u001b[0m\n",
       "\n"
      ]
     },
     "metadata": {},
     "output_type": "display_data"
    },
    {
     "data": {
      "text/html": [
       "<pre style=\"white-space:pre;overflow-x:auto;line-height:normal;font-family:Menlo,'DejaVu Sans Mono',consolas,'Courier New',monospace\">单品推荐\n",
       "</pre>\n"
      ],
      "text/plain": [
       "单品推荐\n"
      ]
     },
     "metadata": {},
     "output_type": "display_data"
    },
    {
     "data": {
      "text/html": [
       "<pre style=\"white-space:pre;overflow-x:auto;line-height:normal;font-family:Menlo,'DejaVu Sans Mono',consolas,'Courier New',monospace\">你是一个电商客服专家，请根据用户与客服的多轮对话判断用户的意图分类标签。\n",
       "<span style=\"font-weight: bold\">&lt;</span><span style=\"color: #ff00ff; text-decoration-color: #ff00ff; font-weight: bold\">用户与客服的对话</span><span style=\"color: #000000; text-decoration-color: #000000\"> START&gt;</span>\n",
       "<span style=\"color: #000000; text-decoration-color: #000000\">用户: &lt;http&gt;</span>\n",
       "<span style=\"color: #000000; text-decoration-color: #000000\">客服: </span>\n",
       "<span style=\"color: #000000; text-decoration-color: #000000\">用户: 冬天适合穿吗</span>\n",
       "<span style=\"color: #000000; text-decoration-color: #000000\">客服: </span>\n",
       "<span style=\"color: #000000; text-decoration-color: #000000\">用户: &lt;image&gt;</span>\n",
       "<span style=\"color: #000000; text-decoration-color: #000000\">客服: 亲爱的，您挑选的这款商品特别适合在【炎热的季节】穿着哦~ 除了加厚款的，大多数款式一年四季都适宜穿着~ --- </span>\n",
       "<span style=\"color: #000000; text-decoration-color: #000000\">如果您喜欢，可以考虑下单尝试，我们店铺的商品通常都包含【免费运费保险】，如果试穿后觉得不合适，也提供【七天无理由退</span>\n",
       "<span style=\"color: #000000; text-decoration-color: #000000\">换服务】哟~</span>\n",
       "<span style=\"color: #000000; text-decoration-color: #000000\">用户: 标签上不是标明适合秋季和冬季穿的吗？</span>\n",
       "<span style=\"color: #000000; text-decoration-color: #000000\">客服: 亲爱的，您挑选的这款商品特别适合在【夏天】穿着呢~ </span>\n",
       "<span style=\"color: #000000; text-decoration-color: #000000\">不同地区的气温有所差异，您可以根据当地的气温和天气情况来决定如何搭配哦~</span>\n",
       "<span style=\"color: #000000; text-decoration-color: #000000\">&lt;用户与客服的对话 END</span><span style=\"font-weight: bold\">&gt;</span>\n",
       "请直接只输出分类标签结果，不需要其他多余的话。以下是可以参考的分类标签为：<span style=\"font-weight: bold\">[</span><span style=\"color: #008000; text-decoration-color: #008000\">\"反馈密封性不好\"</span>,<span style=\"color: #008000; text-decoration-color: #008000\">\"是否好用\"</span>,<span style=\"color: #008000; text-decoration-color: #008000\">\"是否会生锈\"</span>\n",
       ",<span style=\"color: #008000; text-decoration-color: #008000\">\"排水方式\"</span>,<span style=\"color: #008000; text-decoration-color: #008000\">\"包装区别\"</span>,<span style=\"color: #008000; text-decoration-color: #008000\">\"发货数量\"</span>,<span style=\"color: #008000; text-decoration-color: #008000\">\"反馈用后症状\"</span>,<span style=\"color: #008000; text-decoration-color: #008000\">\"商品材质\"</span>,<span style=\"color: #008000; text-decoration-color: #008000\">\"功效功能\"</span>,<span style=\"color: #008000; text-decoration-color: #008000\">\"是否易褪色\"</span>,<span style=\"color: #008000; text-decoration-color: #008000\">\"适用季节\"</span>,<span style=\"color: #008000; text-decoration-color: #008000\">\"能否调光\"</span>,<span style=\"color: #008000; text-decoration-color: #008000\">\"版本款型</span>\n",
       "<span style=\"color: #008000; text-decoration-color: #008000\">区别\"</span>,<span style=\"color: #008000; text-decoration-color: #008000\">\"单品推荐\"</span>,<span style=\"color: #008000; text-decoration-color: #008000\">\"用法用量\"</span>,<span style=\"color: #008000; text-decoration-color: #008000\">\"控制方式\"</span>,<span style=\"color: #008000; text-decoration-color: #008000\">\"上市时间\"</span>,<span style=\"color: #008000; text-decoration-color: #008000\">\"商品规格\"</span>,<span style=\"color: #008000; text-decoration-color: #008000\">\"信号情况\"</span>,<span style=\"color: #008000; text-decoration-color: #008000\">\"养护方法\"</span>,<span style=\"color: #008000; text-decoration-color: #008000\">\"套装推荐\"</span>,<span style=\"color: #008000; text-decoration-color: #008000\">\"何时上货\"</span>,<span style=\"color: #008000; text-decoration-color: #008000\">\"气泡\"</span><span style=\"font-weight: bold\">]</span>\n",
       "\n",
       "</pre>\n"
      ],
      "text/plain": [
       "你是一个电商客服专家，请根据用户与客服的多轮对话判断用户的意图分类标签。\n",
       "\u001b[1m<\u001b[0m\u001b[1;95m用户与客服的对话\u001b[0m\u001b[39m START>\u001b[0m\n",
       "\u001b[39m用户: <http>\u001b[0m\n",
       "\u001b[39m客服: \u001b[0m\n",
       "\u001b[39m用户: 冬天适合穿吗\u001b[0m\n",
       "\u001b[39m客服: \u001b[0m\n",
       "\u001b[39m用户: <image>\u001b[0m\n",
       "\u001b[39m客服: 亲爱的，您挑选的这款商品特别适合在【炎热的季节】穿着哦~ 除了加厚款的，大多数款式一年四季都适宜穿着~ --- \u001b[0m\n",
       "\u001b[39m如果您喜欢，可以考虑下单尝试，我们店铺的商品通常都包含【免费运费保险】，如果试穿后觉得不合适，也提供【七天无理由退\u001b[0m\n",
       "\u001b[39m换服务】哟~\u001b[0m\n",
       "\u001b[39m用户: 标签上不是标明适合秋季和冬季穿的吗？\u001b[0m\n",
       "\u001b[39m客服: 亲爱的，您挑选的这款商品特别适合在【夏天】穿着呢~ \u001b[0m\n",
       "\u001b[39m不同地区的气温有所差异，您可以根据当地的气温和天气情况来决定如何搭配哦~\u001b[0m\n",
       "\u001b[39m<用户与客服的对话 END\u001b[0m\u001b[1m>\u001b[0m\n",
       "请直接只输出分类标签结果，不需要其他多余的话。以下是可以参考的分类标签为：\u001b[1m[\u001b[0m\u001b[32m\"反馈密封性不好\"\u001b[0m,\u001b[32m\"是否好用\"\u001b[0m,\u001b[32m\"是否会生锈\"\u001b[0m\n",
       ",\u001b[32m\"排水方式\"\u001b[0m,\u001b[32m\"包装区别\"\u001b[0m,\u001b[32m\"发货数量\"\u001b[0m,\u001b[32m\"反馈用后症状\"\u001b[0m,\u001b[32m\"商品材质\"\u001b[0m,\u001b[32m\"功效功能\"\u001b[0m,\u001b[32m\"是否易褪色\"\u001b[0m,\u001b[32m\"适用季节\"\u001b[0m,\u001b[32m\"能否调光\"\u001b[0m,\u001b[32m\"版本款型\u001b[0m\n",
       "\u001b[32m区别\"\u001b[0m,\u001b[32m\"单品推荐\"\u001b[0m,\u001b[32m\"用法用量\"\u001b[0m,\u001b[32m\"控制方式\"\u001b[0m,\u001b[32m\"上市时间\"\u001b[0m,\u001b[32m\"商品规格\"\u001b[0m,\u001b[32m\"信号情况\"\u001b[0m,\u001b[32m\"养护方法\"\u001b[0m,\u001b[32m\"套装推荐\"\u001b[0m,\u001b[32m\"何时上货\"\u001b[0m,\u001b[32m\"气泡\"\u001b[0m\u001b[1m]\u001b[0m\n",
       "\n"
      ]
     },
     "metadata": {},
     "output_type": "display_data"
    },
    {
     "data": {
      "text/html": [
       "<pre style=\"white-space:pre;overflow-x:auto;line-height:normal;font-family:Menlo,'DejaVu Sans Mono',consolas,'Courier New',monospace\">适用季节\n",
       "</pre>\n"
      ],
      "text/plain": [
       "适用季节\n"
      ]
     },
     "metadata": {},
     "output_type": "display_data"
    },
    {
     "data": {
      "text/html": [
       "<pre style=\"white-space:pre;overflow-x:auto;line-height:normal;font-family:Menlo,'DejaVu Sans Mono',consolas,'Courier New',monospace\"><span style=\"font-weight: bold\">{</span>\n",
       "    <span style=\"color: #008000; text-decoration-color: #008000\">'instruction'</span>: <span style=\"font-weight: bold\">[</span>\n",
       "        <span style=\"color: #008000; text-decoration-color: #008000\">'你是一个电商客服专家，请根据用户与客服的多轮对话判断用户的意图分类标签。\\n&lt;用户与客服的对话 START&gt;\\n用户: </span>\n",
       "<span style=\"color: #008000; text-decoration-color: #008000\">&lt;image&gt;\\n客服: 您在使用这款商品时遇到了哪些困扰呢？请您提供商品的链接，并向我说明具体情况~ </span>\n",
       "<span style=\"color: #008000; text-decoration-color: #008000\">如果需要进一步的帮助，可以【回复“转人工”（服务时间8:00-23:59）】，我们的在线客服会竭诚为您服务。\\n用户: </span>\n",
       "<span style=\"color: #008000; text-decoration-color: #008000\">使用空调时出现漏水情况\\n客服: </span>\n",
       "<span style=\"color: #008000; text-decoration-color: #008000\">若您在使用产品时遇到难题，可回复“客服”（服务时间8:00-23:59），我们将为您转接到在线客服进行处理哦~\\n&lt;用户与客服的对</span>\n",
       "<span style=\"color: #008000; text-decoration-color: #008000\">话 </span>\n",
       "<span style=\"color: #008000; text-decoration-color: #008000\">END&gt;\\n请直接只输出分类标签结果，不需要其他多余的话。以下是可以参考的分类标签为：[\"反馈密封性不好\",\"是否好用\",\"是否</span>\n",
       "<span style=\"color: #008000; text-decoration-color: #008000\">会生锈\",\"排水方式\",\"包装区别\",\"发货数量\",\"反馈用后症状\",\"商品材质\",\"功效功能\",\"是否易褪色\",\"适用季节\",\"能否调光\",\"</span>\n",
       "<span style=\"color: #008000; text-decoration-color: #008000\">版本款型区别\",\"单品推荐\",\"用法用量\",\"控制方式\",\"上市时间\",\"商品规格\",\"信号情况\",\"养护方法\",\"套装推荐\",\"何时上货\",\"</span>\n",
       "<span style=\"color: #008000; text-decoration-color: #008000\">气泡\"]\\n'</span><span style=\"color: #000000; text-decoration-color: #000000\">,</span>\n",
       "<span style=\"color: #000000; text-decoration-color: #000000\">        </span><span style=\"color: #008000; text-decoration-color: #008000\">'你是一个电商客服专家，请根据用户与客服的多轮对话判断用户的意图分类标签。\\n&lt;用户与客服的对话 START&gt;\\n用户: </span>\n",
       "<span style=\"color: #008000; text-decoration-color: #008000\">&lt;image&gt;\\n客服: 麻烦您简要说明一下遇到的问题哦。\\n用户: 编号470与编号473有何不同？\\n客服: \\n&lt;用户与客服的对话 </span>\n",
       "<span style=\"color: #008000; text-decoration-color: #008000\">END&gt;\\n请直接只输出分类标签结果，不需要其他多余的话。以下是可以参考的分类标签为：[\"反馈密封性不好\",\"是否好用\",\"是否</span>\n",
       "<span style=\"color: #008000; text-decoration-color: #008000\">会生锈\",\"排水方式\",\"包装区别\",\"发货数量\",\"反馈用后症状\",\"商品材质\",\"功效功能\",\"是否易褪色\",\"适用季节\",\"能否调光\",\"</span>\n",
       "<span style=\"color: #008000; text-decoration-color: #008000\">版本款型区别\",\"单品推荐\",\"用法用量\",\"控制方式\",\"上市时间\",\"商品规格\",\"信号情况\",\"养护方法\",\"套装推荐\",\"何时上货\",\"</span>\n",
       "<span style=\"color: #008000; text-decoration-color: #008000\">气泡\"]\\n'</span><span style=\"color: #000000; text-decoration-color: #000000\">,</span>\n",
       "<span style=\"color: #000000; text-decoration-color: #000000\">        </span><span style=\"color: #008000; text-decoration-color: #008000\">'你是一个电商客服专家，请根据用户与客服的多轮对话判断用户的意图分类标签。\\n&lt;用户与客服的对话 START&gt;\\n用户: </span>\n",
       "<span style=\"color: #008000; text-decoration-color: #008000\">&lt;image&gt;\\n客服: </span>\n",
       "<span style=\"color: #008000; text-decoration-color: #008000\">亲爱的，我在这里哦，只是一张图片还不能解答您的疑问呢，麻烦您用文字具体说明一下，比如“发货时间”、“店铺促销”等。\\n用</span>\n",
       "<span style=\"color: #008000; text-decoration-color: #008000\">户: 是买三赠一吗？\\n客服: 尊敬的顾客可以浏览一下我们的店铺主页，如果有活动会详细告知，我们会定期推出多种优惠活动哦~</span>\n",
       "<span style=\"color: #008000; text-decoration-color: #008000\">非常感谢您的支持~\\n用户: 价值399的套餐组合\\n客服: </span>\n",
       "<span style=\"color: #008000; text-decoration-color: #008000\">尊敬的顾客可以浏览一下我们的店铺主页~如果有活动，我们会进行详细介绍~\\n用户: 一共收到了几瓶\\n客服: </span>\n",
       "<span style=\"color: #008000; text-decoration-color: #008000\">\\n&lt;用户与客服的对话 </span>\n",
       "<span style=\"color: #008000; text-decoration-color: #008000\">END&gt;\\n请直接只输出分类标签结果，不需要其他多余的话。以下是可以参考的分类标签为：[\"反馈密封性不好\",\"是否好用\",\"是否</span>\n",
       "<span style=\"color: #008000; text-decoration-color: #008000\">会生锈\",\"排水方式\",\"包装区别\",\"发货数量\",\"反馈用后症状\",\"商品材质\",\"功效功能\",\"是否易褪色\",\"适用季节\",\"能否调光\",\"</span>\n",
       "<span style=\"color: #008000; text-decoration-color: #008000\">版本款型区别\",\"单品推荐\",\"用法用量\",\"控制方式\",\"上市时间\",\"商品规格\",\"信号情况\",\"养护方法\",\"套装推荐\",\"何时上货\",\"</span>\n",
       "<span style=\"color: #008000; text-decoration-color: #008000\">气泡\"]\\n'</span><span style=\"color: #000000; text-decoration-color: #000000\">,</span>\n",
       "<span style=\"color: #000000; text-decoration-color: #000000\">        </span><span style=\"color: #008000; text-decoration-color: #008000\">'你是一个电商客服专家，请根据用户与客服的多轮对话判断用户的意图分类标签。\\n&lt;用户与客服的对话 START&gt;\\n用户: </span>\n",
       "<span style=\"color: #008000; text-decoration-color: #008000\">&lt;http&gt;\\n客服: 亲爱的，您有什么疑问可以直接告诉我哦~ 比如说关于【物流时间】或者【店铺促销】等方面的问题。\\n用户: </span>\n",
       "<span style=\"color: #008000; text-decoration-color: #008000\">&lt;image&gt;\\n客服: </span>\n",
       "<span style=\"color: #008000; text-decoration-color: #008000\">亲爱的，我在这儿，不过只有一个图片信息，不太明白您的问题，能否用文字具体说明一下，比如“发货日期”、“店铺促销”等。\\n</span>\n",
       "<span style=\"color: #008000; text-decoration-color: #008000\">用户: 标记的这两款，是不是只是包装不一样，里面的花生内容相同？\\n客服: </span>\n",
       "<span style=\"color: #008000; text-decoration-color: #008000\">我们这里有三种类型的花生：带壳生花生、带壳熟花生和无壳花生米。生花生是直接晒干的，没有进一步加工，吃起来软糯且甜；</span>\n",
       "<span style=\"color: #008000; text-decoration-color: #008000\">熟花生则是用小火慢慢炒制的，口感香脆；花生米也是直接晒干后去壳的，您可以根据个人喜好来挑选哦~\\n&lt;用户与客服的对话 </span>\n",
       "<span style=\"color: #008000; text-decoration-color: #008000\">END&gt;\\n请直接只输出分类标签结果，不需要其他多余的话。以下是可以参考的分类标签为：[\"反馈密封性不好\",\"是否好用\",\"是否</span>\n",
       "<span style=\"color: #008000; text-decoration-color: #008000\">会生锈\",\"排水方式\",\"包装区别\",\"发货数量\",\"反馈用后症状\",\"商品材质\",\"功效功能\",\"是否易褪色\",\"适用季节\",\"能否调光\",\"</span>\n",
       "<span style=\"color: #008000; text-decoration-color: #008000\">版本款型区别\",\"单品推荐\",\"用法用量\",\"控制方式\",\"上市时间\",\"商品规格\",\"信号情况\",\"养护方法\",\"套装推荐\",\"何时上货\",\"</span>\n",
       "<span style=\"color: #008000; text-decoration-color: #008000\">气泡\"]\\n'</span><span style=\"color: #000000; text-decoration-color: #000000\">,</span>\n",
       "<span style=\"color: #000000; text-decoration-color: #000000\">        </span><span style=\"color: #008000; text-decoration-color: #008000\">'你是一个电商客服专家，请根据用户与客服的多轮对话判断用户的意图分类标签。\\n&lt;用户与客服的对话 START&gt;\\n用户: </span>\n",
       "<span style=\"color: #008000; text-decoration-color: #008000\">&lt;http&gt;\\n客服: \\n用户: &lt;image&gt;\\n客服: 亲爱的，您对图片里的这款商品有什么想要了解的吗~ </span>\n",
       "<span style=\"color: #008000; text-decoration-color: #008000\">提醒一下，对于其他店铺的商品，我们无法通过图片来查找哦~ 您可以尝试在店铺里用【识图】功能搜索一下呢~\\n用户: </span>\n",
       "<span style=\"color: #008000; text-decoration-color: #008000\">这款鞋子适合秋冬季穿吗？\\n客服: 亲爱的，这款运动鞋适合全年穿着，无论哪个季节都合适~ </span>\n",
       "<span style=\"color: #008000; text-decoration-color: #008000\">推荐您依据季节的不同，灵活改变袜子的厚度，从而享受最舒适的穿戴感受。\\n&lt;用户与客服的对话 </span>\n",
       "<span style=\"color: #008000; text-decoration-color: #008000\">END&gt;\\n请直接只输出分类标签结果，不需要其他多余的话。以下是可以参考的分类标签为：[\"反馈密封性不好\",\"是否好用\",\"是否</span>\n",
       "<span style=\"color: #008000; text-decoration-color: #008000\">会生锈\",\"排水方式\",\"包装区别\",\"发货数量\",\"反馈用后症状\",\"商品材质\",\"功效功能\",\"是否易褪色\",\"适用季节\",\"能否调光\",\"</span>\n",
       "<span style=\"color: #008000; text-decoration-color: #008000\">版本款型区别\",\"单品推荐\",\"用法用量\",\"控制方式\",\"上市时间\",\"商品规格\",\"信号情况\",\"养护方法\",\"套装推荐\",\"何时上货\",\"</span>\n",
       "<span style=\"color: #008000; text-decoration-color: #008000\">气泡\"]\\n'</span><span style=\"color: #000000; text-decoration-color: #000000\">,</span>\n",
       "<span style=\"color: #000000; text-decoration-color: #000000\">        </span><span style=\"color: #008000; text-decoration-color: #008000\">'你是一个电商客服专家，请根据用户与客服的多轮对话判断用户的意图分类标签。\\n&lt;用户与客服的对话 START&gt;\\n用户: </span>\n",
       "<span style=\"color: #008000; text-decoration-color: #008000\">&lt;image&gt;\\n客服: 您好，这是您的商品列表截图，如果您有任何疑问，欢迎向我咨询。\\n用户: 这些款式的区别在哪里？\\n客服: </span>\n",
       "<span style=\"color: #008000; text-decoration-color: #008000\">亲爱的，HUAWEI Pura </span>\n",
       "<span style=\"color: #008000; text-decoration-color: #008000\">70系列的每一款都非常出色，主要取决于哪一款更符合您的需求。如果您对外观设计和摄影有更高的要求，可以考虑HUAWEI Pura </span>\n",
       "<span style=\"color: #008000; text-decoration-color: #008000\">70 Ultra；如果您更看重充电续航能力，希望拥有更耐磨的屏幕和天通卫星通信功能，可以选择HUAWEI Pura 70 </span>\n",
       "<span style=\"color: #008000; text-decoration-color: #008000\">Pro+；如果您偏爱曲面屏并且对拍照有较高要求，可以看看HUAWEI Pura 70 Pro；如果您更倾向于直面屏，那么HUAWEI Pura </span>\n",
       "<span style=\"color: #008000; text-decoration-color: #008000\">70将是不错的选择。无论您选择哪一款，我相信都会带来满意的使用体验。\\n用户: </span>\n",
       "<span style=\"color: #008000; text-decoration-color: #008000\">哪款手机更好一些，mate60pro还是p70pro？\\n客服: 亲爱的，HUAWEI Mate </span>\n",
       "<span style=\"color: #008000; text-decoration-color: #008000\">60系列采用了中轴对称的设计风格，显得稳重而大气，若您偏爱经典设计且追求更宽广视野的手机，这款会是不错的选择。/:012 </span>\n",
       "<span style=\"color: #008000; text-decoration-color: #008000\">另外，HUAWEI Pura </span>\n",
       "<span style=\"color: #008000; text-decoration-color: #008000\">70系列则以其创新的超级符号设计脱颖而出，不仅辨识度高，而且单手操作更为舒适，若您倾向于创新设计和更佳的单手握持体验</span>\n",
       "<span style=\"color: #008000; text-decoration-color: #008000\">，不妨考虑HUAWEI Pura 70系列。/:066 </span>\n",
       "<span style=\"color: #008000; text-decoration-color: #008000\">这两个系列都是我们的旗舰产品，亲爱的，您可以根据个人喜好来挑选。\\n&lt;用户与客服的对话 </span>\n",
       "<span style=\"color: #008000; text-decoration-color: #008000\">END&gt;\\n请直接只输出分类标签结果，不需要其他多余的话。以下是可以参考的分类标签为：[\"反馈密封性不好\",\"是否好用\",\"是否</span>\n",
       "<span style=\"color: #008000; text-decoration-color: #008000\">会生锈\",\"排水方式\",\"包装区别\",\"发货数量\",\"反馈用后症状\",\"商品材质\",\"功效功能\",\"是否易褪色\",\"适用季节\",\"能否调光\",\"</span>\n",
       "<span style=\"color: #008000; text-decoration-color: #008000\">版本款型区别\",\"单品推荐\",\"用法用量\",\"控制方式\",\"上市时间\",\"商品规格\",\"信号情况\",\"养护方法\",\"套装推荐\",\"何时上货\",\"</span>\n",
       "<span style=\"color: #008000; text-decoration-color: #008000\">气泡\"]\\n'</span><span style=\"color: #000000; text-decoration-color: #000000\">,</span>\n",
       "<span style=\"color: #000000; text-decoration-color: #000000\">        </span><span style=\"color: #008000; text-decoration-color: #008000\">'你是一个电商客服专家，请根据用户与客服的多轮对话判断用户的意图分类标签。\\n&lt;用户与客服的对话 START&gt;\\n用户: </span>\n",
       "<span style=\"color: #008000; text-decoration-color: #008000\">您好\\n客服: 亲爱的，我在这里，请问有什么能为您效劳的吗？😊\\n用户: 这是真品吗？\\n客服: </span>\n",
       "<span style=\"color: #008000; text-decoration-color: #008000\">我们提供正品代购服务，请您放心购买，若不满意可退货并享有运费保险。\\n用户: &lt;image&gt;\\n客服: </span>\n",
       "<span style=\"color: #008000; text-decoration-color: #008000\">我们提供正品代购服务，请您放心购买，若不满意可退货并享有运费保险。\\n用户: 这是哪款呢？\\n客服: </span>\n",
       "<span style=\"color: #008000; text-decoration-color: #008000\">点击☛【发货时间详情】|点击☛【商品真伪查询】|点击☛【快递方式说明】|以上都不是？请咨询客服\\n用户: </span>\n",
       "<span style=\"color: #008000; text-decoration-color: #008000\">秋季和夏季的款式哪个更适合\\n客服: 亲爱的，这款适合全年穿着，透气性非常好，四季皆宜哦。\\n&lt;用户与客服的对话 </span>\n",
       "<span style=\"color: #008000; text-decoration-color: #008000\">END&gt;\\n请直接只输出分类标签结果，不需要其他多余的话。以下是可以参考的分类标签为：[\"反馈密封性不好\",\"是否好用\",\"是否</span>\n",
       "<span style=\"color: #008000; text-decoration-color: #008000\">会生锈\",\"排水方式\",\"包装区别\",\"发货数量\",\"反馈用后症状\",\"商品材质\",\"功效功能\",\"是否易褪色\",\"适用季节\",\"能否调光\",\"</span>\n",
       "<span style=\"color: #008000; text-decoration-color: #008000\">版本款型区别\",\"单品推荐\",\"用法用量\",\"控制方式\",\"上市时间\",\"商品规格\",\"信号情况\",\"养护方法\",\"套装推荐\",\"何时上货\",\"</span>\n",
       "<span style=\"color: #008000; text-decoration-color: #008000\">气泡\"]\\n'</span><span style=\"color: #000000; text-decoration-color: #000000\">,</span>\n",
       "<span style=\"color: #000000; text-decoration-color: #000000\">        </span><span style=\"color: #008000; text-decoration-color: #008000\">'你是一个电商客服专家，请根据用户与客服的多轮对话判断用户的意图分类标签。\\n&lt;用户与客服的对话 START&gt;\\n用户: </span>\n",
       "<span style=\"color: #008000; text-decoration-color: #008000\">&lt;image&gt;\\n客服: \\n用户: 这种类型的缺失可以补充吗？\\n客服: </span>\n",
       "<span style=\"color: #008000; text-decoration-color: #008000\">亲爱的，这个还不太确定呢，如果喜欢的话建议先加个收藏，也可以看看其他款式有没有中意的哦~\\n&lt;用户与客服的对话 </span>\n",
       "<span style=\"color: #008000; text-decoration-color: #008000\">END&gt;\\n请直接只输出分类标签结果，不需要其他多余的话。以下是可以参考的分类标签为：[\"反馈密封性不好\",\"是否好用\",\"是否</span>\n",
       "<span style=\"color: #008000; text-decoration-color: #008000\">会生锈\",\"排水方式\",\"包装区别\",\"发货数量\",\"反馈用后症状\",\"商品材质\",\"功效功能\",\"是否易褪色\",\"适用季节\",\"能否调光\",\"</span>\n",
       "<span style=\"color: #008000; text-decoration-color: #008000\">版本款型区别\",\"单品推荐\",\"用法用量\",\"控制方式\",\"上市时间\",\"商品规格\",\"信号情况\",\"养护方法\",\"套装推荐\",\"何时上货\",\"</span>\n",
       "<span style=\"color: #008000; text-decoration-color: #008000\">气泡\"]\\n'</span><span style=\"color: #000000; text-decoration-color: #000000\">,</span>\n",
       "<span style=\"color: #000000; text-decoration-color: #000000\">        </span><span style=\"color: #008000; text-decoration-color: #008000\">'你是一个电商客服专家，请根据用户与客服的多轮对话判断用户的意图分类标签。\\n&lt;用户与客服的对话 START&gt;\\n用户: </span>\n",
       "<span style=\"color: #008000; text-decoration-color: #008000\">&lt;image&gt;\\n客服: 亲爱的，有什么能为您效劳的吗？请尽管吩咐。\\n用户: 你们店铺里哪一款合适呢？\\n客服: </span>\n",
       "<span style=\"color: #008000; text-decoration-color: #008000\">很抱歉，我们店铺暂时没有这款商品，您可以看看我们店里的相似款式。\\n&lt;用户与客服的对话 </span>\n",
       "<span style=\"color: #008000; text-decoration-color: #008000\">END&gt;\\n请直接只输出分类标签结果，不需要其他多余的话。以下是可以参考的分类标签为：[\"反馈密封性不好\",\"是否好用\",\"是否</span>\n",
       "<span style=\"color: #008000; text-decoration-color: #008000\">会生锈\",\"排水方式\",\"包装区别\",\"发货数量\",\"反馈用后症状\",\"商品材质\",\"功效功能\",\"是否易褪色\",\"适用季节\",\"能否调光\",\"</span>\n",
       "<span style=\"color: #008000; text-decoration-color: #008000\">版本款型区别\",\"单品推荐\",\"用法用量\",\"控制方式\",\"上市时间\",\"商品规格\",\"信号情况\",\"养护方法\",\"套装推荐\",\"何时上货\",\"</span>\n",
       "<span style=\"color: #008000; text-decoration-color: #008000\">气泡\"]\\n'</span><span style=\"color: #000000; text-decoration-color: #000000\">,</span>\n",
       "<span style=\"color: #000000; text-decoration-color: #000000\">        </span><span style=\"color: #008000; text-decoration-color: #008000\">'你是一个电商客服专家，请根据用户与客服的多轮对话判断用户的意图分类标签。\\n&lt;用户与客服的对话 START&gt;\\n用户: </span>\n",
       "<span style=\"color: #008000; text-decoration-color: #008000\">&lt;http&gt;\\n客服: \\n用户: 冬天适合穿吗\\n客服: \\n用户: &lt;image&gt;\\n客服: </span>\n",
       "<span style=\"color: #008000; text-decoration-color: #008000\">亲爱的，您挑选的这款商品特别适合在【炎热的季节】穿着哦~ 除了加厚款的，大多数款式一年四季都适宜穿着~ --- </span>\n",
       "<span style=\"color: #008000; text-decoration-color: #008000\">如果您喜欢，可以考虑下单尝试，我们店铺的商品通常都包含【免费运费保险】，如果试穿后觉得不合适，也提供【七天无理由退</span>\n",
       "<span style=\"color: #008000; text-decoration-color: #008000\">换服务】哟~\\n用户: 标签上不是标明适合秋季和冬季穿的吗？\\n客服: 亲爱的，您挑选的这款商品特别适合在【夏天】穿着呢~ </span>\n",
       "<span style=\"color: #008000; text-decoration-color: #008000\">不同地区的气温有所差异，您可以根据当地的气温和天气情况来决定如何搭配哦~\\n&lt;用户与客服的对话 </span>\n",
       "<span style=\"color: #008000; text-decoration-color: #008000\">END&gt;\\n请直接只输出分类标签结果，不需要其他多余的话。以下是可以参考的分类标签为：[\"反馈密封性不好\",\"是否好用\",\"是否</span>\n",
       "<span style=\"color: #008000; text-decoration-color: #008000\">会生锈\",\"排水方式\",\"包装区别\",\"发货数量\",\"反馈用后症状\",\"商品材质\",\"功效功能\",\"是否易褪色\",\"适用季节\",\"能否调光\",\"</span>\n",
       "<span style=\"color: #008000; text-decoration-color: #008000\">版本款型区别\",\"单品推荐\",\"用法用量\",\"控制方式\",\"上市时间\",\"商品规格\",\"信号情况\",\"养护方法\",\"套装推荐\",\"何时上货\",\"</span>\n",
       "<span style=\"color: #008000; text-decoration-color: #008000\">气泡\"]\\n'</span>\n",
       "<span style=\"color: #000000; text-decoration-color: #000000\">    </span><span style=\"color: #000000; text-decoration-color: #000000; font-weight: bold\">]</span><span style=\"color: #000000; text-decoration-color: #000000\">,</span>\n",
       "<span style=\"color: #000000; text-decoration-color: #000000\">    </span><span style=\"color: #008000; text-decoration-color: #008000\">'image'</span><span style=\"color: #000000; text-decoration-color: #000000\">: </span><span style=\"color: #000000; text-decoration-color: #000000; font-weight: bold\">[</span>\n",
       "<span style=\"color: #000000; text-decoration-color: #000000\">        &lt;PIL.Image.Image image </span><span style=\"color: #808000; text-decoration-color: #808000\">mode</span><span style=\"color: #000000; text-decoration-color: #000000\">=</span><span style=\"color: #800080; text-decoration-color: #800080\">RGB</span><span style=\"color: #000000; text-decoration-color: #000000\"> </span><span style=\"color: #808000; text-decoration-color: #808000\">size</span><span style=\"color: #000000; text-decoration-color: #000000\">=</span><span style=\"color: #800080; text-decoration-color: #800080\">108</span><span style=\"color: #008080; text-decoration-color: #008080; font-weight: bold\">0x2268</span><span style=\"color: #000000; text-decoration-color: #000000\"> at </span><span style=\"color: #008080; text-decoration-color: #008080; font-weight: bold\">0x7CE01AFB2540</span><span style=\"color: #000000; text-decoration-color: #000000\">&gt;,</span>\n",
       "<span style=\"color: #000000; text-decoration-color: #000000\">        &lt;PIL.Image.Image image </span><span style=\"color: #808000; text-decoration-color: #808000\">mode</span><span style=\"color: #000000; text-decoration-color: #000000\">=</span><span style=\"color: #800080; text-decoration-color: #800080\">RGB</span><span style=\"color: #000000; text-decoration-color: #000000\"> </span><span style=\"color: #808000; text-decoration-color: #808000\">size</span><span style=\"color: #000000; text-decoration-color: #000000\">=</span><span style=\"color: #800080; text-decoration-color: #800080\">1179x2556</span><span style=\"color: #000000; text-decoration-color: #000000\"> at </span><span style=\"color: #008080; text-decoration-color: #008080; font-weight: bold\">0x7CE007691850</span><span style=\"color: #000000; text-decoration-color: #000000\">&gt;,</span>\n",
       "<span style=\"color: #000000; text-decoration-color: #000000\">        &lt;PIL.Image.Image image </span><span style=\"color: #808000; text-decoration-color: #808000\">mode</span><span style=\"color: #000000; text-decoration-color: #000000\">=</span><span style=\"color: #800080; text-decoration-color: #800080\">RGB</span><span style=\"color: #000000; text-decoration-color: #000000\"> </span><span style=\"color: #808000; text-decoration-color: #808000\">size</span><span style=\"color: #000000; text-decoration-color: #000000\">=</span><span style=\"color: #800080; text-decoration-color: #800080\">108</span><span style=\"color: #008080; text-decoration-color: #008080; font-weight: bold\">0x2400</span><span style=\"color: #000000; text-decoration-color: #000000\"> at </span><span style=\"color: #008080; text-decoration-color: #008080; font-weight: bold\">0x7CE0076A0440</span><span style=\"color: #000000; text-decoration-color: #000000\">&gt;,</span>\n",
       "<span style=\"color: #000000; text-decoration-color: #000000\">        &lt;PIL.Image.Image image </span><span style=\"color: #808000; text-decoration-color: #808000\">mode</span><span style=\"color: #000000; text-decoration-color: #000000\">=</span><span style=\"color: #800080; text-decoration-color: #800080\">RGB</span><span style=\"color: #000000; text-decoration-color: #000000\"> </span><span style=\"color: #808000; text-decoration-color: #808000\">size</span><span style=\"color: #000000; text-decoration-color: #000000\">=</span><span style=\"color: #800080; text-decoration-color: #800080\">108</span><span style=\"color: #008080; text-decoration-color: #008080; font-weight: bold\">0x1237</span><span style=\"color: #000000; text-decoration-color: #000000\"> at </span><span style=\"color: #008080; text-decoration-color: #008080; font-weight: bold\">0x7CE0076A0170</span><span style=\"color: #000000; text-decoration-color: #000000\">&gt;,</span>\n",
       "<span style=\"color: #000000; text-decoration-color: #000000\">        &lt;PIL.Image.Image image </span><span style=\"color: #808000; text-decoration-color: #808000\">mode</span><span style=\"color: #000000; text-decoration-color: #000000\">=</span><span style=\"color: #800080; text-decoration-color: #800080\">RGB</span><span style=\"color: #000000; text-decoration-color: #000000\"> </span><span style=\"color: #808000; text-decoration-color: #808000\">size</span><span style=\"color: #000000; text-decoration-color: #000000\">=</span><span style=\"color: #800080; text-decoration-color: #800080\">572x1259</span><span style=\"color: #000000; text-decoration-color: #000000\"> at </span><span style=\"color: #008080; text-decoration-color: #008080; font-weight: bold\">0x7CE00DDB0380</span><span style=\"color: #000000; text-decoration-color: #000000\">&gt;,</span>\n",
       "<span style=\"color: #000000; text-decoration-color: #000000\">        &lt;PIL.Image.Image image </span><span style=\"color: #808000; text-decoration-color: #808000\">mode</span><span style=\"color: #000000; text-decoration-color: #000000\">=</span><span style=\"color: #800080; text-decoration-color: #800080\">RGB</span><span style=\"color: #000000; text-decoration-color: #000000\"> </span><span style=\"color: #808000; text-decoration-color: #808000\">size</span><span style=\"color: #000000; text-decoration-color: #000000\">=</span><span style=\"color: #800080; text-decoration-color: #800080\">1179x2563</span><span style=\"color: #000000; text-decoration-color: #000000\"> at </span><span style=\"color: #008080; text-decoration-color: #008080; font-weight: bold\">0x7CE0076A11C0</span><span style=\"color: #000000; text-decoration-color: #000000\">&gt;,</span>\n",
       "<span style=\"color: #000000; text-decoration-color: #000000\">        &lt;PIL.Image.Image image </span><span style=\"color: #808000; text-decoration-color: #808000\">mode</span><span style=\"color: #000000; text-decoration-color: #000000\">=</span><span style=\"color: #800080; text-decoration-color: #800080\">RGB</span><span style=\"color: #000000; text-decoration-color: #000000\"> </span><span style=\"color: #808000; text-decoration-color: #808000\">size</span><span style=\"color: #000000; text-decoration-color: #000000\">=</span><span style=\"color: #800080; text-decoration-color: #800080\">541x1190</span><span style=\"color: #000000; text-decoration-color: #000000\"> at </span><span style=\"color: #008080; text-decoration-color: #008080; font-weight: bold\">0x7CE0BD53F830</span><span style=\"color: #000000; text-decoration-color: #000000\">&gt;,</span>\n",
       "<span style=\"color: #000000; text-decoration-color: #000000\">        &lt;PIL.Image.Image image </span><span style=\"color: #808000; text-decoration-color: #808000\">mode</span><span style=\"color: #000000; text-decoration-color: #000000\">=</span><span style=\"color: #800080; text-decoration-color: #800080\">RGB</span><span style=\"color: #000000; text-decoration-color: #000000\"> </span><span style=\"color: #808000; text-decoration-color: #808000\">size</span><span style=\"color: #000000; text-decoration-color: #000000\">=</span><span style=\"color: #800080; text-decoration-color: #800080\">3024x4032</span><span style=\"color: #000000; text-decoration-color: #000000\"> at </span><span style=\"color: #008080; text-decoration-color: #008080; font-weight: bold\">0x7CE007657200</span><span style=\"color: #000000; text-decoration-color: #000000\">&gt;,</span>\n",
       "<span style=\"color: #000000; text-decoration-color: #000000\">        &lt;PIL.Image.Image image </span><span style=\"color: #808000; text-decoration-color: #808000\">mode</span><span style=\"color: #000000; text-decoration-color: #000000\">=</span><span style=\"color: #800080; text-decoration-color: #800080\">RGB</span><span style=\"color: #000000; text-decoration-color: #000000\"> </span><span style=\"color: #808000; text-decoration-color: #808000\">size</span><span style=\"color: #000000; text-decoration-color: #000000\">=</span><span style=\"color: #800080; text-decoration-color: #800080\">54</span><span style=\"color: #008080; text-decoration-color: #008080; font-weight: bold\">0x405</span><span style=\"color: #000000; text-decoration-color: #000000\"> at </span><span style=\"color: #008080; text-decoration-color: #008080; font-weight: bold\">0x7CE007692300</span><span style=\"color: #000000; text-decoration-color: #000000\">&gt;,</span>\n",
       "<span style=\"color: #000000; text-decoration-color: #000000\">        &lt;PIL.Image.Image image </span><span style=\"color: #808000; text-decoration-color: #808000\">mode</span><span style=\"color: #000000; text-decoration-color: #000000\">=</span><span style=\"color: #800080; text-decoration-color: #800080\">RGB</span><span style=\"color: #000000; text-decoration-color: #000000\"> </span><span style=\"color: #808000; text-decoration-color: #808000\">size</span><span style=\"color: #000000; text-decoration-color: #000000\">=</span><span style=\"color: #800080; text-decoration-color: #800080\">120</span><span style=\"color: #008080; text-decoration-color: #008080; font-weight: bold\">0x2664</span><span style=\"color: #000000; text-decoration-color: #000000\"> at </span><span style=\"color: #008080; text-decoration-color: #008080; font-weight: bold\">0x7CE007619A30</span><span style=\"font-weight: bold\">&gt;</span>\n",
       "    <span style=\"font-weight: bold\">]</span>,\n",
       "    <span style=\"color: #008000; text-decoration-color: #008000\">'output'</span>: <span style=\"font-weight: bold\">[</span>\n",
       "        <span style=\"color: #008000; text-decoration-color: #008000\">'反馈密封性不好'</span>,\n",
       "        <span style=\"color: #008000; text-decoration-color: #008000\">'版本款型区别'</span>,\n",
       "        <span style=\"color: #008000; text-decoration-color: #008000\">'发货数量'</span>,\n",
       "        <span style=\"color: #008000; text-decoration-color: #008000\">'包装区别'</span>,\n",
       "        <span style=\"color: #008000; text-decoration-color: #008000\">'适用季节'</span>,\n",
       "        <span style=\"color: #008000; text-decoration-color: #008000\">'版本款型区别'</span>,\n",
       "        <span style=\"color: #008000; text-decoration-color: #008000\">'适用季节'</span>,\n",
       "        <span style=\"color: #008000; text-decoration-color: #008000\">'何时上货'</span>,\n",
       "        <span style=\"color: #008000; text-decoration-color: #008000\">'单品推荐'</span>,\n",
       "        <span style=\"color: #008000; text-decoration-color: #008000\">'适用季节'</span>\n",
       "    <span style=\"font-weight: bold\">]</span>\n",
       "<span style=\"font-weight: bold\">}</span>\n",
       "</pre>\n"
      ],
      "text/plain": [
       "\u001b[1m{\u001b[0m\n",
       "    \u001b[32m'instruction'\u001b[0m: \u001b[1m[\u001b[0m\n",
       "        \u001b[32m'你是一个电商客服专家，请根据用户与客服的多轮对话判断用户的意图分类标签。\\n\u001b[0m\u001b[32m<\u001b[0m\u001b[32m用户与客服的对话\u001b[0m\u001b[32m START>\\n用户: \u001b[0m\n",
       "\u001b[32m<image>\\n客服: 您在使用这款商品时遇到了哪些困扰呢？请您提供商品的链接，并向我说明具体情况~ \u001b[0m\n",
       "\u001b[32m如果需要进一步的帮助，可以【回复“转人工”（服务时间8:00-23:59）】，我们的在线客服会竭诚为您服务。\\n用户: \u001b[0m\n",
       "\u001b[32m使用空调时出现漏水情况\\n客服: \u001b[0m\n",
       "\u001b[32m若您在使用产品时遇到难题，可回复“客服”（服务时间8:00-23:59），我们将为您转接到在线客服进行处理哦~\\n<用户与客服的对\u001b[0m\n",
       "\u001b[32m话 \u001b[0m\n",
       "\u001b[32mEND>\\n请直接只输出分类标签结果，不需要其他多余的话。以下是可以参考的分类标签为：\u001b[0m\u001b[32m[\u001b[0m\u001b[32m\"反馈密封性不好\",\"是否好用\",\"是否\u001b[0m\n",
       "\u001b[32m会生锈\",\"排水方式\",\"包装区别\",\"发货数量\",\"反馈用后症状\",\"商品材质\",\"功效功能\",\"是否易褪色\",\"适用季节\",\"能否调光\",\"\u001b[0m\n",
       "\u001b[32m版本款型区别\",\"单品推荐\",\"用法用量\",\"控制方式\",\"上市时间\",\"商品规格\",\"信号情况\",\"养护方法\",\"套装推荐\",\"何时上货\",\"\u001b[0m\n",
       "\u001b[32m气泡\"\u001b[0m\u001b[32m]\u001b[0m\u001b[32m\\n'\u001b[0m\u001b[39m,\u001b[0m\n",
       "\u001b[39m        \u001b[0m\u001b[32m'你是一个电商客服专家，请根据用户与客服的多轮对话判断用户的意图分类标签。\\n<用户与客服的对话 START>\\n用户: \u001b[0m\n",
       "\u001b[32m<image>\\n客服: 麻烦您简要说明一下遇到的问题哦。\\n用户: 编号470与编号473有何不同？\\n客服: \\n<用户与客服的对话 \u001b[0m\n",
       "\u001b[32mEND>\\n请直接只输出分类标签结果，不需要其他多余的话。以下是可以参考的分类标签为：\u001b[0m\u001b[32m[\u001b[0m\u001b[32m\"反馈密封性不好\",\"是否好用\",\"是否\u001b[0m\n",
       "\u001b[32m会生锈\",\"排水方式\",\"包装区别\",\"发货数量\",\"反馈用后症状\",\"商品材质\",\"功效功能\",\"是否易褪色\",\"适用季节\",\"能否调光\",\"\u001b[0m\n",
       "\u001b[32m版本款型区别\",\"单品推荐\",\"用法用量\",\"控制方式\",\"上市时间\",\"商品规格\",\"信号情况\",\"养护方法\",\"套装推荐\",\"何时上货\",\"\u001b[0m\n",
       "\u001b[32m气泡\"\u001b[0m\u001b[32m]\u001b[0m\u001b[32m\\n'\u001b[0m\u001b[39m,\u001b[0m\n",
       "\u001b[39m        \u001b[0m\u001b[32m'你是一个电商客服专家，请根据用户与客服的多轮对话判断用户的意图分类标签。\\n<用户与客服的对话 START>\\n用户: \u001b[0m\n",
       "\u001b[32m<image>\\n客服: \u001b[0m\n",
       "\u001b[32m亲爱的，我在这里哦，只是一张图片还不能解答您的疑问呢，麻烦您用文字具体说明一下，比如“发货时间”、“店铺促销”等。\\n用\u001b[0m\n",
       "\u001b[32m户: 是买三赠一吗？\\n客服: 尊敬的顾客可以浏览一下我们的店铺主页，如果有活动会详细告知，我们会定期推出多种优惠活动哦~\u001b[0m\n",
       "\u001b[32m非常感谢您的支持~\\n用户: 价值399的套餐组合\\n客服: \u001b[0m\n",
       "\u001b[32m尊敬的顾客可以浏览一下我们的店铺主页~如果有活动，我们会进行详细介绍~\\n用户: 一共收到了几瓶\\n客服: \u001b[0m\n",
       "\u001b[32m\\n<用户与客服的对话 \u001b[0m\n",
       "\u001b[32mEND>\\n请直接只输出分类标签结果，不需要其他多余的话。以下是可以参考的分类标签为：\u001b[0m\u001b[32m[\u001b[0m\u001b[32m\"反馈密封性不好\",\"是否好用\",\"是否\u001b[0m\n",
       "\u001b[32m会生锈\",\"排水方式\",\"包装区别\",\"发货数量\",\"反馈用后症状\",\"商品材质\",\"功效功能\",\"是否易褪色\",\"适用季节\",\"能否调光\",\"\u001b[0m\n",
       "\u001b[32m版本款型区别\",\"单品推荐\",\"用法用量\",\"控制方式\",\"上市时间\",\"商品规格\",\"信号情况\",\"养护方法\",\"套装推荐\",\"何时上货\",\"\u001b[0m\n",
       "\u001b[32m气泡\"\u001b[0m\u001b[32m]\u001b[0m\u001b[32m\\n'\u001b[0m\u001b[39m,\u001b[0m\n",
       "\u001b[39m        \u001b[0m\u001b[32m'你是一个电商客服专家，请根据用户与客服的多轮对话判断用户的意图分类标签。\\n<用户与客服的对话 START>\\n用户: \u001b[0m\n",
       "\u001b[32m<http>\\n客服: 亲爱的，您有什么疑问可以直接告诉我哦~ 比如说关于【物流时间】或者【店铺促销】等方面的问题。\\n用户: \u001b[0m\n",
       "\u001b[32m<image>\\n客服: \u001b[0m\n",
       "\u001b[32m亲爱的，我在这儿，不过只有一个图片信息，不太明白您的问题，能否用文字具体说明一下，比如“发货日期”、“店铺促销”等。\\n\u001b[0m\n",
       "\u001b[32m用户: 标记的这两款，是不是只是包装不一样，里面的花生内容相同？\\n客服: \u001b[0m\n",
       "\u001b[32m我们这里有三种类型的花生：带壳生花生、带壳熟花生和无壳花生米。生花生是直接晒干的，没有进一步加工，吃起来软糯且甜；\u001b[0m\n",
       "\u001b[32m熟花生则是用小火慢慢炒制的，口感香脆；花生米也是直接晒干后去壳的，您可以根据个人喜好来挑选哦~\\n<用户与客服的对话 \u001b[0m\n",
       "\u001b[32mEND>\\n请直接只输出分类标签结果，不需要其他多余的话。以下是可以参考的分类标签为：\u001b[0m\u001b[32m[\u001b[0m\u001b[32m\"反馈密封性不好\",\"是否好用\",\"是否\u001b[0m\n",
       "\u001b[32m会生锈\",\"排水方式\",\"包装区别\",\"发货数量\",\"反馈用后症状\",\"商品材质\",\"功效功能\",\"是否易褪色\",\"适用季节\",\"能否调光\",\"\u001b[0m\n",
       "\u001b[32m版本款型区别\",\"单品推荐\",\"用法用量\",\"控制方式\",\"上市时间\",\"商品规格\",\"信号情况\",\"养护方法\",\"套装推荐\",\"何时上货\",\"\u001b[0m\n",
       "\u001b[32m气泡\"\u001b[0m\u001b[32m]\u001b[0m\u001b[32m\\n'\u001b[0m\u001b[39m,\u001b[0m\n",
       "\u001b[39m        \u001b[0m\u001b[32m'你是一个电商客服专家，请根据用户与客服的多轮对话判断用户的意图分类标签。\\n<用户与客服的对话 START>\\n用户: \u001b[0m\n",
       "\u001b[32m<http>\\n客服: \\n用户: <image>\\n客服: 亲爱的，您对图片里的这款商品有什么想要了解的吗~ \u001b[0m\n",
       "\u001b[32m提醒一下，对于其他店铺的商品，我们无法通过图片来查找哦~ 您可以尝试在店铺里用【识图】功能搜索一下呢~\\n用户: \u001b[0m\n",
       "\u001b[32m这款鞋子适合秋冬季穿吗？\\n客服: 亲爱的，这款运动鞋适合全年穿着，无论哪个季节都合适~ \u001b[0m\n",
       "\u001b[32m推荐您依据季节的不同，灵活改变袜子的厚度，从而享受最舒适的穿戴感受。\\n<用户与客服的对话 \u001b[0m\n",
       "\u001b[32mEND>\\n请直接只输出分类标签结果，不需要其他多余的话。以下是可以参考的分类标签为：\u001b[0m\u001b[32m[\u001b[0m\u001b[32m\"反馈密封性不好\",\"是否好用\",\"是否\u001b[0m\n",
       "\u001b[32m会生锈\",\"排水方式\",\"包装区别\",\"发货数量\",\"反馈用后症状\",\"商品材质\",\"功效功能\",\"是否易褪色\",\"适用季节\",\"能否调光\",\"\u001b[0m\n",
       "\u001b[32m版本款型区别\",\"单品推荐\",\"用法用量\",\"控制方式\",\"上市时间\",\"商品规格\",\"信号情况\",\"养护方法\",\"套装推荐\",\"何时上货\",\"\u001b[0m\n",
       "\u001b[32m气泡\"\u001b[0m\u001b[32m]\u001b[0m\u001b[32m\\n'\u001b[0m\u001b[39m,\u001b[0m\n",
       "\u001b[39m        \u001b[0m\u001b[32m'你是一个电商客服专家，请根据用户与客服的多轮对话判断用户的意图分类标签。\\n<用户与客服的对话 START>\\n用户: \u001b[0m\n",
       "\u001b[32m<image>\\n客服: 您好，这是您的商品列表截图，如果您有任何疑问，欢迎向我咨询。\\n用户: 这些款式的区别在哪里？\\n客服: \u001b[0m\n",
       "\u001b[32m亲爱的，HUAWEI Pura \u001b[0m\n",
       "\u001b[32m70系列的每一款都非常出色，主要取决于哪一款更符合您的需求。如果您对外观设计和摄影有更高的要求，可以考虑HUAWEI Pura \u001b[0m\n",
       "\u001b[32m70 Ultra；如果您更看重充电续航能力，希望拥有更耐磨的屏幕和天通卫星通信功能，可以选择HUAWEI Pura 70 \u001b[0m\n",
       "\u001b[32mPro+；如果您偏爱曲面屏并且对拍照有较高要求，可以看看HUAWEI Pura 70 Pro；如果您更倾向于直面屏，那么HUAWEI Pura \u001b[0m\n",
       "\u001b[32m70将是不错的选择。无论您选择哪一款，我相信都会带来满意的使用体验。\\n用户: \u001b[0m\n",
       "\u001b[32m哪款手机更好一些，mate60pro还是p70pro？\\n客服: 亲爱的，HUAWEI Mate \u001b[0m\n",
       "\u001b[32m60系列采用了中轴对称的设计风格，显得稳重而大气，若您偏爱经典设计且追求更宽广视野的手机，这款会是不错的选择。/:012 \u001b[0m\n",
       "\u001b[32m另外，HUAWEI Pura \u001b[0m\n",
       "\u001b[32m70系列则以其创新的超级符号设计脱颖而出，不仅辨识度高，而且单手操作更为舒适，若您倾向于创新设计和更佳的单手握持体验\u001b[0m\n",
       "\u001b[32m，不妨考虑HUAWEI Pura 70系列。/:066 \u001b[0m\n",
       "\u001b[32m这两个系列都是我们的旗舰产品，亲爱的，您可以根据个人喜好来挑选。\\n<用户与客服的对话 \u001b[0m\n",
       "\u001b[32mEND>\\n请直接只输出分类标签结果，不需要其他多余的话。以下是可以参考的分类标签为：\u001b[0m\u001b[32m[\u001b[0m\u001b[32m\"反馈密封性不好\",\"是否好用\",\"是否\u001b[0m\n",
       "\u001b[32m会生锈\",\"排水方式\",\"包装区别\",\"发货数量\",\"反馈用后症状\",\"商品材质\",\"功效功能\",\"是否易褪色\",\"适用季节\",\"能否调光\",\"\u001b[0m\n",
       "\u001b[32m版本款型区别\",\"单品推荐\",\"用法用量\",\"控制方式\",\"上市时间\",\"商品规格\",\"信号情况\",\"养护方法\",\"套装推荐\",\"何时上货\",\"\u001b[0m\n",
       "\u001b[32m气泡\"\u001b[0m\u001b[32m]\u001b[0m\u001b[32m\\n'\u001b[0m\u001b[39m,\u001b[0m\n",
       "\u001b[39m        \u001b[0m\u001b[32m'你是一个电商客服专家，请根据用户与客服的多轮对话判断用户的意图分类标签。\\n<用户与客服的对话 START>\\n用户: \u001b[0m\n",
       "\u001b[32m您好\\n客服: 亲爱的，我在这里，请问有什么能为您效劳的吗？😊\\n用户: 这是真品吗？\\n客服: \u001b[0m\n",
       "\u001b[32m我们提供正品代购服务，请您放心购买，若不满意可退货并享有运费保险。\\n用户: <image>\\n客服: \u001b[0m\n",
       "\u001b[32m我们提供正品代购服务，请您放心购买，若不满意可退货并享有运费保险。\\n用户: 这是哪款呢？\\n客服: \u001b[0m\n",
       "\u001b[32m点击☛【发货时间详情】|点击☛【商品真伪查询】|点击☛【快递方式说明】|以上都不是？请咨询客服\\n用户: \u001b[0m\n",
       "\u001b[32m秋季和夏季的款式哪个更适合\\n客服: 亲爱的，这款适合全年穿着，透气性非常好，四季皆宜哦。\\n<用户与客服的对话 \u001b[0m\n",
       "\u001b[32mEND>\\n请直接只输出分类标签结果，不需要其他多余的话。以下是可以参考的分类标签为：\u001b[0m\u001b[32m[\u001b[0m\u001b[32m\"反馈密封性不好\",\"是否好用\",\"是否\u001b[0m\n",
       "\u001b[32m会生锈\",\"排水方式\",\"包装区别\",\"发货数量\",\"反馈用后症状\",\"商品材质\",\"功效功能\",\"是否易褪色\",\"适用季节\",\"能否调光\",\"\u001b[0m\n",
       "\u001b[32m版本款型区别\",\"单品推荐\",\"用法用量\",\"控制方式\",\"上市时间\",\"商品规格\",\"信号情况\",\"养护方法\",\"套装推荐\",\"何时上货\",\"\u001b[0m\n",
       "\u001b[32m气泡\"\u001b[0m\u001b[32m]\u001b[0m\u001b[32m\\n'\u001b[0m\u001b[39m,\u001b[0m\n",
       "\u001b[39m        \u001b[0m\u001b[32m'你是一个电商客服专家，请根据用户与客服的多轮对话判断用户的意图分类标签。\\n<用户与客服的对话 START>\\n用户: \u001b[0m\n",
       "\u001b[32m<image>\\n客服: \\n用户: 这种类型的缺失可以补充吗？\\n客服: \u001b[0m\n",
       "\u001b[32m亲爱的，这个还不太确定呢，如果喜欢的话建议先加个收藏，也可以看看其他款式有没有中意的哦~\\n<用户与客服的对话 \u001b[0m\n",
       "\u001b[32mEND>\\n请直接只输出分类标签结果，不需要其他多余的话。以下是可以参考的分类标签为：\u001b[0m\u001b[32m[\u001b[0m\u001b[32m\"反馈密封性不好\",\"是否好用\",\"是否\u001b[0m\n",
       "\u001b[32m会生锈\",\"排水方式\",\"包装区别\",\"发货数量\",\"反馈用后症状\",\"商品材质\",\"功效功能\",\"是否易褪色\",\"适用季节\",\"能否调光\",\"\u001b[0m\n",
       "\u001b[32m版本款型区别\",\"单品推荐\",\"用法用量\",\"控制方式\",\"上市时间\",\"商品规格\",\"信号情况\",\"养护方法\",\"套装推荐\",\"何时上货\",\"\u001b[0m\n",
       "\u001b[32m气泡\"\u001b[0m\u001b[32m]\u001b[0m\u001b[32m\\n'\u001b[0m\u001b[39m,\u001b[0m\n",
       "\u001b[39m        \u001b[0m\u001b[32m'你是一个电商客服专家，请根据用户与客服的多轮对话判断用户的意图分类标签。\\n<用户与客服的对话 START>\\n用户: \u001b[0m\n",
       "\u001b[32m<image>\\n客服: 亲爱的，有什么能为您效劳的吗？请尽管吩咐。\\n用户: 你们店铺里哪一款合适呢？\\n客服: \u001b[0m\n",
       "\u001b[32m很抱歉，我们店铺暂时没有这款商品，您可以看看我们店里的相似款式。\\n<用户与客服的对话 \u001b[0m\n",
       "\u001b[32mEND>\\n请直接只输出分类标签结果，不需要其他多余的话。以下是可以参考的分类标签为：\u001b[0m\u001b[32m[\u001b[0m\u001b[32m\"反馈密封性不好\",\"是否好用\",\"是否\u001b[0m\n",
       "\u001b[32m会生锈\",\"排水方式\",\"包装区别\",\"发货数量\",\"反馈用后症状\",\"商品材质\",\"功效功能\",\"是否易褪色\",\"适用季节\",\"能否调光\",\"\u001b[0m\n",
       "\u001b[32m版本款型区别\",\"单品推荐\",\"用法用量\",\"控制方式\",\"上市时间\",\"商品规格\",\"信号情况\",\"养护方法\",\"套装推荐\",\"何时上货\",\"\u001b[0m\n",
       "\u001b[32m气泡\"\u001b[0m\u001b[32m]\u001b[0m\u001b[32m\\n'\u001b[0m\u001b[39m,\u001b[0m\n",
       "\u001b[39m        \u001b[0m\u001b[32m'你是一个电商客服专家，请根据用户与客服的多轮对话判断用户的意图分类标签。\\n<用户与客服的对话 START>\\n用户: \u001b[0m\n",
       "\u001b[32m<http>\\n客服: \\n用户: 冬天适合穿吗\\n客服: \\n用户: <image>\\n客服: \u001b[0m\n",
       "\u001b[32m亲爱的，您挑选的这款商品特别适合在【炎热的季节】穿着哦~ 除了加厚款的，大多数款式一年四季都适宜穿着~ --- \u001b[0m\n",
       "\u001b[32m如果您喜欢，可以考虑下单尝试，我们店铺的商品通常都包含【免费运费保险】，如果试穿后觉得不合适，也提供【七天无理由退\u001b[0m\n",
       "\u001b[32m换服务】哟~\\n用户: 标签上不是标明适合秋季和冬季穿的吗？\\n客服: 亲爱的，您挑选的这款商品特别适合在【夏天】穿着呢~ \u001b[0m\n",
       "\u001b[32m不同地区的气温有所差异，您可以根据当地的气温和天气情况来决定如何搭配哦~\\n<用户与客服的对话 \u001b[0m\n",
       "\u001b[32mEND>\\n请直接只输出分类标签结果，不需要其他多余的话。以下是可以参考的分类标签为：\u001b[0m\u001b[32m[\u001b[0m\u001b[32m\"反馈密封性不好\",\"是否好用\",\"是否\u001b[0m\n",
       "\u001b[32m会生锈\",\"排水方式\",\"包装区别\",\"发货数量\",\"反馈用后症状\",\"商品材质\",\"功效功能\",\"是否易褪色\",\"适用季节\",\"能否调光\",\"\u001b[0m\n",
       "\u001b[32m版本款型区别\",\"单品推荐\",\"用法用量\",\"控制方式\",\"上市时间\",\"商品规格\",\"信号情况\",\"养护方法\",\"套装推荐\",\"何时上货\",\"\u001b[0m\n",
       "\u001b[32m气泡\"\u001b[0m\u001b[32m]\u001b[0m\u001b[32m\\n'\u001b[0m\n",
       "\u001b[39m    \u001b[0m\u001b[1;39m]\u001b[0m\u001b[39m,\u001b[0m\n",
       "\u001b[39m    \u001b[0m\u001b[32m'image'\u001b[0m\u001b[39m: \u001b[0m\u001b[1;39m[\u001b[0m\n",
       "\u001b[39m        <PIL.Image.Image image \u001b[0m\u001b[33mmode\u001b[0m\u001b[39m=\u001b[0m\u001b[35mRGB\u001b[0m\u001b[39m \u001b[0m\u001b[33msize\u001b[0m\u001b[39m=\u001b[0m\u001b[35m108\u001b[0m\u001b[1;36m0x2268\u001b[0m\u001b[39m at \u001b[0m\u001b[1;36m0x7CE01AFB2540\u001b[0m\u001b[39m>,\u001b[0m\n",
       "\u001b[39m        <PIL.Image.Image image \u001b[0m\u001b[33mmode\u001b[0m\u001b[39m=\u001b[0m\u001b[35mRGB\u001b[0m\u001b[39m \u001b[0m\u001b[33msize\u001b[0m\u001b[39m=\u001b[0m\u001b[35m1179x2556\u001b[0m\u001b[39m at \u001b[0m\u001b[1;36m0x7CE007691850\u001b[0m\u001b[39m>,\u001b[0m\n",
       "\u001b[39m        <PIL.Image.Image image \u001b[0m\u001b[33mmode\u001b[0m\u001b[39m=\u001b[0m\u001b[35mRGB\u001b[0m\u001b[39m \u001b[0m\u001b[33msize\u001b[0m\u001b[39m=\u001b[0m\u001b[35m108\u001b[0m\u001b[1;36m0x2400\u001b[0m\u001b[39m at \u001b[0m\u001b[1;36m0x7CE0076A0440\u001b[0m\u001b[39m>,\u001b[0m\n",
       "\u001b[39m        <PIL.Image.Image image \u001b[0m\u001b[33mmode\u001b[0m\u001b[39m=\u001b[0m\u001b[35mRGB\u001b[0m\u001b[39m \u001b[0m\u001b[33msize\u001b[0m\u001b[39m=\u001b[0m\u001b[35m108\u001b[0m\u001b[1;36m0x1237\u001b[0m\u001b[39m at \u001b[0m\u001b[1;36m0x7CE0076A0170\u001b[0m\u001b[39m>,\u001b[0m\n",
       "\u001b[39m        <PIL.Image.Image image \u001b[0m\u001b[33mmode\u001b[0m\u001b[39m=\u001b[0m\u001b[35mRGB\u001b[0m\u001b[39m \u001b[0m\u001b[33msize\u001b[0m\u001b[39m=\u001b[0m\u001b[35m572x1259\u001b[0m\u001b[39m at \u001b[0m\u001b[1;36m0x7CE00DDB0380\u001b[0m\u001b[39m>,\u001b[0m\n",
       "\u001b[39m        <PIL.Image.Image image \u001b[0m\u001b[33mmode\u001b[0m\u001b[39m=\u001b[0m\u001b[35mRGB\u001b[0m\u001b[39m \u001b[0m\u001b[33msize\u001b[0m\u001b[39m=\u001b[0m\u001b[35m1179x2563\u001b[0m\u001b[39m at \u001b[0m\u001b[1;36m0x7CE0076A11C0\u001b[0m\u001b[39m>,\u001b[0m\n",
       "\u001b[39m        <PIL.Image.Image image \u001b[0m\u001b[33mmode\u001b[0m\u001b[39m=\u001b[0m\u001b[35mRGB\u001b[0m\u001b[39m \u001b[0m\u001b[33msize\u001b[0m\u001b[39m=\u001b[0m\u001b[35m541x1190\u001b[0m\u001b[39m at \u001b[0m\u001b[1;36m0x7CE0BD53F830\u001b[0m\u001b[39m>,\u001b[0m\n",
       "\u001b[39m        <PIL.Image.Image image \u001b[0m\u001b[33mmode\u001b[0m\u001b[39m=\u001b[0m\u001b[35mRGB\u001b[0m\u001b[39m \u001b[0m\u001b[33msize\u001b[0m\u001b[39m=\u001b[0m\u001b[35m3024x4032\u001b[0m\u001b[39m at \u001b[0m\u001b[1;36m0x7CE007657200\u001b[0m\u001b[39m>,\u001b[0m\n",
       "\u001b[39m        <PIL.Image.Image image \u001b[0m\u001b[33mmode\u001b[0m\u001b[39m=\u001b[0m\u001b[35mRGB\u001b[0m\u001b[39m \u001b[0m\u001b[33msize\u001b[0m\u001b[39m=\u001b[0m\u001b[35m54\u001b[0m\u001b[1;36m0x405\u001b[0m\u001b[39m at \u001b[0m\u001b[1;36m0x7CE007692300\u001b[0m\u001b[39m>,\u001b[0m\n",
       "\u001b[39m        <PIL.Image.Image image \u001b[0m\u001b[33mmode\u001b[0m\u001b[39m=\u001b[0m\u001b[35mRGB\u001b[0m\u001b[39m \u001b[0m\u001b[33msize\u001b[0m\u001b[39m=\u001b[0m\u001b[35m120\u001b[0m\u001b[1;36m0x2664\u001b[0m\u001b[39m at \u001b[0m\u001b[1;36m0x7CE007619A30\u001b[0m\u001b[1m>\u001b[0m\n",
       "    \u001b[1m]\u001b[0m,\n",
       "    \u001b[32m'output'\u001b[0m: \u001b[1m[\u001b[0m\n",
       "        \u001b[32m'反馈密封性不好'\u001b[0m,\n",
       "        \u001b[32m'版本款型区别'\u001b[0m,\n",
       "        \u001b[32m'发货数量'\u001b[0m,\n",
       "        \u001b[32m'包装区别'\u001b[0m,\n",
       "        \u001b[32m'适用季节'\u001b[0m,\n",
       "        \u001b[32m'版本款型区别'\u001b[0m,\n",
       "        \u001b[32m'适用季节'\u001b[0m,\n",
       "        \u001b[32m'何时上货'\u001b[0m,\n",
       "        \u001b[32m'单品推荐'\u001b[0m,\n",
       "        \u001b[32m'适用季节'\u001b[0m\n",
       "    \u001b[1m]\u001b[0m\n",
       "\u001b[1m}\u001b[0m\n"
      ]
     },
     "metadata": {},
     "output_type": "display_data"
    }
   ],
   "source": [
    "\n",
    "from rich import print\n",
    "\n",
    "\n",
    "data_set=CustomDataset(data_path='../datas/train',data_type='train')\n",
    "i=0\n",
    "j=0\n",
    "datas={'instruction':[],'image':[],'output':[]}\n",
    "print('starting the data process')\n",
    "while i<10:\n",
    "    if len(data_set[j]['image'])==1 and not data_set[j]['instruction'].startswith(\"Picture\"):\n",
    "        datas['instruction'].append(data_set[j]['instruction'])\n",
    "        print(data_set[j]['instruction'])\n",
    "        print(data_set[j]['output'])\n",
    "        datas['image'].append(data_set[j]['image'][0])\n",
    "        datas['output'].append(data_set[j]['output'])\n",
    "        i+=1\n",
    "        # print(i)\n",
    "    j+=1\n",
    "    continue\n",
    "print(datas)"
   ]
  },
  {
   "cell_type": "code",
   "execution_count": 4,
   "metadata": {},
   "outputs": [
    {
     "data": {
      "text/html": [
       "<pre style=\"white-space:pre;overflow-x:auto;line-height:normal;font-family:Menlo,'DejaVu Sans Mono',consolas,'Courier New',monospace\"><span style=\"font-weight: bold\">[</span><span style=\"color: #008000; text-decoration-color: #008000\">'适用季节'</span><span style=\"font-weight: bold\">]</span>\n",
       "</pre>\n"
      ],
      "text/plain": [
       "\u001b[1m[\u001b[0m\u001b[32m'适用季节'\u001b[0m\u001b[1m]\u001b[0m\n"
      ]
     },
     "metadata": {},
     "output_type": "display_data"
    }
   ],
   "source": [
    "import json\n",
    "import re\n",
    "from rich import print\n",
    "\n",
    "# 错误的 JSON 格式字符串（单引号）\n",
    "json_string_incorrect = \"['适用季节']\"\n",
    "\n",
    "# 使用正则表达式替换单引号为双引号\n",
    "json_string_corrected = re.sub(r\"'\", '\"', json_string_incorrect)\n",
    "\n",
    "try:\n",
    "    result_list = json.loads(json_string_corrected)\n",
    "    print(result_list)  # 输出: ['适用季节']\n",
    "except json.JSONDecodeError as e:\n",
    "    print(f\"JSON 解码错误: {e}\")"
   ]
  },
  {
   "cell_type": "code",
   "execution_count": 5,
   "metadata": {},
   "outputs": [
    {
     "data": {
      "text/html": [
       "<pre style=\"white-space:pre;overflow-x:auto;line-height:normal;font-family:Menlo,'DejaVu Sans Mono',consolas,'Courier New',monospace\">第 <span style=\"color: #008080; text-decoration-color: #008080; font-weight: bold\">1</span> 个字符串解析成功: <span style=\"font-weight: bold\">[</span><span style=\"color: #008000; text-decoration-color: #008000\">'å\\x95\\x86å\\x93\\x81æ\\x9d\\x90è´¨'</span>, <span style=\"color: #008000; text-decoration-color: #008000\">'é\\x80\\x82ç\\x94¨å\\xad£è\\x8a\\x82'</span>, \n",
       "<span style=\"color: #008000; text-decoration-color: #008000\">'æ\\x98¯å\\x90¦æ\\x98\\x93è¤ªè\\x89²'</span><span style=\"font-weight: bold\">]</span>\n",
       "</pre>\n"
      ],
      "text/plain": [
       "第 \u001b[1;36m1\u001b[0m 个字符串解析成功: \u001b[1m[\u001b[0m\u001b[32m'å\\x95\\x86å\\x93\\x81æ\\x9d\\x90è´¨'\u001b[0m, \u001b[32m'é\\x80\\x82ç\\x94¨å\\xad£è\\x8a\\x82'\u001b[0m, \n",
       "\u001b[32m'æ\\x98¯å\\x90¦æ\\x98\\x93è¤ªè\\x89²'\u001b[0m\u001b[1m]\u001b[0m\n"
      ]
     },
     "metadata": {},
     "output_type": "display_data"
    },
    {
     "data": {
      "text/html": [
       "<pre style=\"white-space:pre;overflow-x:auto;line-height:normal;font-family:Menlo,'DejaVu Sans Mono',consolas,'Courier New',monospace\">第 <span style=\"color: #008080; text-decoration-color: #008080; font-weight: bold\">2</span> 个字符串解析成功: <span style=\"font-weight: bold\">[</span><span style=\"color: #008000; text-decoration-color: #008000\">'å\\x95\\x86å\\x93\\x81æ\\x9d\\x90è´¨'</span>, <span style=\"color: #008000; text-decoration-color: #008000\">'é\\x80\\x82ç\\x94¨å\\xad£è\\x8a\\x82'</span>, \n",
       "<span style=\"color: #008000; text-decoration-color: #008000\">'æ\\x98¯å\\x90¦æ\\x98\\x93è¤ªè\\x89²'</span><span style=\"font-weight: bold\">]</span>\n",
       "</pre>\n"
      ],
      "text/plain": [
       "第 \u001b[1;36m2\u001b[0m 个字符串解析成功: \u001b[1m[\u001b[0m\u001b[32m'å\\x95\\x86å\\x93\\x81æ\\x9d\\x90è´¨'\u001b[0m, \u001b[32m'é\\x80\\x82ç\\x94¨å\\xad£è\\x8a\\x82'\u001b[0m, \n",
       "\u001b[32m'æ\\x98¯å\\x90¦æ\\x98\\x93è¤ªè\\x89²'\u001b[0m\u001b[1m]\u001b[0m\n"
      ]
     },
     "metadata": {},
     "output_type": "display_data"
    },
    {
     "data": {
      "text/html": [
       "<pre style=\"white-space:pre;overflow-x:auto;line-height:normal;font-family:Menlo,'DejaVu Sans Mono',consolas,'Courier New',monospace\">第 <span style=\"color: #008080; text-decoration-color: #008080; font-weight: bold\">3</span> 个字符串解析成功: <span style=\"font-weight: bold\">[</span><span style=\"color: #008000; text-decoration-color: #008000\">'å\\x95\\x86å\\x93\\x81æ\\x9d\\x90è´¨'</span>, <span style=\"color: #008000; text-decoration-color: #008000\">'é\\x80\\x82ç\\x94¨å\\xad£è\\x8a\\x82'</span>, \n",
       "<span style=\"color: #008000; text-decoration-color: #008000\">'æ\\x98¯å\\x90¦æ\\x98\\x93è¤ªè\\x89²'</span><span style=\"font-weight: bold\">]</span>\n",
       "</pre>\n"
      ],
      "text/plain": [
       "第 \u001b[1;36m3\u001b[0m 个字符串解析成功: \u001b[1m[\u001b[0m\u001b[32m'å\\x95\\x86å\\x93\\x81æ\\x9d\\x90è´¨'\u001b[0m, \u001b[32m'é\\x80\\x82ç\\x94¨å\\xad£è\\x8a\\x82'\u001b[0m, \n",
       "\u001b[32m'æ\\x98¯å\\x90¦æ\\x98\\x93è¤ªè\\x89²'\u001b[0m\u001b[1m]\u001b[0m\n"
      ]
     },
     "metadata": {},
     "output_type": "display_data"
    },
    {
     "data": {
      "text/html": [
       "<pre style=\"white-space:pre;overflow-x:auto;line-height:normal;font-family:Menlo,'DejaVu Sans Mono',consolas,'Courier New',monospace\">第 <span style=\"color: #008080; text-decoration-color: #008080; font-weight: bold\">4</span> 个字符串解析失败: 输入字符串为空\n",
       "</pre>\n"
      ],
      "text/plain": [
       "第 \u001b[1;36m4\u001b[0m 个字符串解析失败: 输入字符串为空\n"
      ]
     },
     "metadata": {},
     "output_type": "display_data"
    },
    {
     "data": {
      "text/html": [
       "<pre style=\"white-space:pre;overflow-x:auto;line-height:normal;font-family:Menlo,'DejaVu Sans Mono',consolas,'Courier New',monospace\">第 <span style=\"color: #008080; text-decoration-color: #008080; font-weight: bold\">5</span> 个字符串解析失败: JSON 解码错误: Expecting <span style=\"color: #008000; text-decoration-color: #008000\">','</span> delimiter: line <span style=\"color: #008080; text-decoration-color: #008080; font-weight: bold\">1</span> column <span style=\"color: #008080; text-decoration-color: #008080; font-weight: bold\">5</span> <span style=\"font-weight: bold\">(</span>char <span style=\"color: #008080; text-decoration-color: #008080; font-weight: bold\">4</span><span style=\"font-weight: bold\">)</span>\n",
       "</pre>\n"
      ],
      "text/plain": [
       "第 \u001b[1;36m5\u001b[0m 个字符串解析失败: JSON 解码错误: Expecting \u001b[32m','\u001b[0m delimiter: line \u001b[1;36m1\u001b[0m column \u001b[1;36m5\u001b[0m \u001b[1m(\u001b[0mchar \u001b[1;36m4\u001b[0m\u001b[1m)\u001b[0m\n"
      ]
     },
     "metadata": {},
     "output_type": "display_data"
    },
    {
     "data": {
      "text/html": [
       "<pre style=\"white-space:pre;overflow-x:auto;line-height:normal;font-family:Menlo,'DejaVu Sans Mono',consolas,'Courier New',monospace\">第 <span style=\"color: #008080; text-decoration-color: #008080; font-weight: bold\">6</span> 个字符串解析失败: JSON 解码错误: Expecting <span style=\"color: #008000; text-decoration-color: #008000\">','</span> delimiter: line <span style=\"color: #008080; text-decoration-color: #008080; font-weight: bold\">1</span> column <span style=\"color: #008080; text-decoration-color: #008080; font-weight: bold\">53</span> <span style=\"font-weight: bold\">(</span>char <span style=\"color: #008080; text-decoration-color: #008080; font-weight: bold\">52</span><span style=\"font-weight: bold\">)</span>\n",
       "</pre>\n"
      ],
      "text/plain": [
       "第 \u001b[1;36m6\u001b[0m 个字符串解析失败: JSON 解码错误: Expecting \u001b[32m','\u001b[0m delimiter: line \u001b[1;36m1\u001b[0m column \u001b[1;36m53\u001b[0m \u001b[1m(\u001b[0mchar \u001b[1;36m52\u001b[0m\u001b[1m)\u001b[0m\n"
      ]
     },
     "metadata": {},
     "output_type": "display_data"
    },
    {
     "data": {
      "text/html": [
       "<pre style=\"white-space:pre;overflow-x:auto;line-height:normal;font-family:Menlo,'DejaVu Sans Mono',consolas,'Courier New',monospace\">第 <span style=\"color: #008080; text-decoration-color: #008080; font-weight: bold\">7</span> 个字符串解析成功: <span style=\"font-weight: bold\">[</span><span style=\"color: #008000; text-decoration-color: #008000\">'å\\x95\\x86å\\x93\\x81æ\\x9d\\x90è´¨'</span>, <span style=\"color: #008000; text-decoration-color: #008000\">'é\\x80\\x82ç\\x94¨å\\xad£è\\x8a\\x82'</span>, \n",
       "<span style=\"color: #008000; text-decoration-color: #008000\">'æ\\x98¯å\\x90¦æ\\x98\\x93è¤ªè\\x89²'</span><span style=\"font-weight: bold\">]</span>\n",
       "</pre>\n"
      ],
      "text/plain": [
       "第 \u001b[1;36m7\u001b[0m 个字符串解析成功: \u001b[1m[\u001b[0m\u001b[32m'å\\x95\\x86å\\x93\\x81æ\\x9d\\x90è´¨'\u001b[0m, \u001b[32m'é\\x80\\x82ç\\x94¨å\\xad£è\\x8a\\x82'\u001b[0m, \n",
       "\u001b[32m'æ\\x98¯å\\x90¦æ\\x98\\x93è¤ªè\\x89²'\u001b[0m\u001b[1m]\u001b[0m\n"
      ]
     },
     "metadata": {},
     "output_type": "display_data"
    },
    {
     "data": {
      "text/html": [
       "<pre style=\"white-space:pre;overflow-x:auto;line-height:normal;font-family:Menlo,'DejaVu Sans Mono',consolas,'Courier New',monospace\">第 <span style=\"color: #008080; text-decoration-color: #008080; font-weight: bold\">8</span> 个字符串解析成功: <span style=\"font-weight: bold\">[</span><span style=\"color: #008000; text-decoration-color: #008000\">'å\\x95\\x86å\\x93\\x81æ\\x9d\\x90è´¨'</span>, <span style=\"color: #008000; text-decoration-color: #008000\">'é\\x80\\x82ç\\x94¨å\\xad£è\\x8a\\x82'</span>, \n",
       "<span style=\"color: #008000; text-decoration-color: #008000\">'æ\\x98¯å\\x90¦æ\\x98\\x93è¤ªè\\x89²'</span><span style=\"font-weight: bold\">]</span>\n",
       "</pre>\n"
      ],
      "text/plain": [
       "第 \u001b[1;36m8\u001b[0m 个字符串解析成功: \u001b[1m[\u001b[0m\u001b[32m'å\\x95\\x86å\\x93\\x81æ\\x9d\\x90è´¨'\u001b[0m, \u001b[32m'é\\x80\\x82ç\\x94¨å\\xad£è\\x8a\\x82'\u001b[0m, \n",
       "\u001b[32m'æ\\x98¯å\\x90¦æ\\x98\\x93è¤ªè\\x89²'\u001b[0m\u001b[1m]\u001b[0m\n"
      ]
     },
     "metadata": {},
     "output_type": "display_data"
    },
    {
     "data": {
      "text/html": [
       "<pre style=\"white-space:pre;overflow-x:auto;line-height:normal;font-family:Menlo,'DejaVu Sans Mono',consolas,'Courier New',monospace\">第 <span style=\"color: #008080; text-decoration-color: #008080; font-weight: bold\">9</span> 个字符串解析成功: <span style=\"font-weight: bold\">[</span><span style=\"color: #008000; text-decoration-color: #008000\">'å\\x95\\x86å\\x93\\x81æ\\x9d\\x90è´¨'</span>, <span style=\"color: #008000; text-decoration-color: #008000\">'é\\x80\\x82ç\\x94¨å\\xad£è\\x8a\\x82'</span>, \n",
       "<span style=\"color: #008000; text-decoration-color: #008000\">'æ\\x98¯å\\x90¦æ\\x98\\x93è¤ªè\\x89²'</span><span style=\"font-weight: bold\">]</span>\n",
       "</pre>\n"
      ],
      "text/plain": [
       "第 \u001b[1;36m9\u001b[0m 个字符串解析成功: \u001b[1m[\u001b[0m\u001b[32m'å\\x95\\x86å\\x93\\x81æ\\x9d\\x90è´¨'\u001b[0m, \u001b[32m'é\\x80\\x82ç\\x94¨å\\xad£è\\x8a\\x82'\u001b[0m, \n",
       "\u001b[32m'æ\\x98¯å\\x90¦æ\\x98\\x93è¤ªè\\x89²'\u001b[0m\u001b[1m]\u001b[0m\n"
      ]
     },
     "metadata": {},
     "output_type": "display_data"
    },
    {
     "data": {
      "text/html": [
       "<pre style=\"white-space:pre;overflow-x:auto;line-height:normal;font-family:Menlo,'DejaVu Sans Mono',consolas,'Courier New',monospace\">第 <span style=\"color: #008080; text-decoration-color: #008080; font-weight: bold\">10</span> 个字符串解析失败: JSON 解码错误: Expecting <span style=\"color: #008000; text-decoration-color: #008000\">','</span> delimiter: line <span style=\"color: #008080; text-decoration-color: #008080; font-weight: bold\">1</span> column <span style=\"color: #008080; text-decoration-color: #008080; font-weight: bold\">53</span> <span style=\"font-weight: bold\">(</span>char <span style=\"color: #008080; text-decoration-color: #008080; font-weight: bold\">52</span><span style=\"font-weight: bold\">)</span>\n",
       "</pre>\n"
      ],
      "text/plain": [
       "第 \u001b[1;36m10\u001b[0m 个字符串解析失败: JSON 解码错误: Expecting \u001b[32m','\u001b[0m delimiter: line \u001b[1;36m1\u001b[0m column \u001b[1;36m53\u001b[0m \u001b[1m(\u001b[0mchar \u001b[1;36m52\u001b[0m\u001b[1m)\u001b[0m\n"
      ]
     },
     "metadata": {},
     "output_type": "display_data"
    },
    {
     "data": {
      "text/html": [
       "<pre style=\"white-space:pre;overflow-x:auto;line-height:normal;font-family:Menlo,'DejaVu Sans Mono',consolas,'Courier New',monospace\">第 <span style=\"color: #008080; text-decoration-color: #008080; font-weight: bold\">11</span> 个字符串解析成功: <span style=\"font-weight: bold\">[</span><span style=\"color: #008000; text-decoration-color: #008000\">'å\\x95\\x86å\\x93\\x81æ\\x9d\\x90è´¨'</span><span style=\"font-weight: bold\">]</span>\n",
       "</pre>\n"
      ],
      "text/plain": [
       "第 \u001b[1;36m11\u001b[0m 个字符串解析成功: \u001b[1m[\u001b[0m\u001b[32m'å\\x95\\x86å\\x93\\x81æ\\x9d\\x90è´¨'\u001b[0m\u001b[1m]\u001b[0m\n"
      ]
     },
     "metadata": {},
     "output_type": "display_data"
    }
   ],
   "source": [
    "import json\n",
    "import re\n",
    "\n",
    "def convert_to_json(input_string):\n",
    "    if not input_string:\n",
    "        return None, \"输入字符串为空\"\n",
    "    \n",
    "    # 去除前后空白字符\n",
    "    stripped_string = input_string.strip()\n",
    "    \n",
    "    # 替换单引号为双引号\n",
    "    corrected_string = stripped_string.replace(\"'\", '\"')\n",
    "    \n",
    "    # 替换常见特殊引号为标准双引号\n",
    "    corrected_string = corrected_string.replace('‘', '\"').replace('’', '\"').replace('“', '\"').replace('”', '\"')\n",
    "    \n",
    "    # 处理转义字符\n",
    "    corrected_string = corrected_string.encode('utf-8').decode('unicode_escape')\n",
    "    \n",
    "    # 确保整个字符串用方括号包围\n",
    "    if not corrected_string.startswith('[') or not corrected_string.endswith(']'):\n",
    "        corrected_string = f\"[{corrected_string}]\"\n",
    "    \n",
    "    # 移除多余的逗号或括号\n",
    "    corrected_string = re.sub(r'\\]\\s*,\\s*\\[', ',', corrected_string)\n",
    "    corrected_string = re.sub(r'(?<!\\[)\\s*,\\s*(?!\\])', ', ', corrected_string)\n",
    "    \n",
    "    # 确保每个元素都被双引号包围\n",
    "    corrected_string = re.sub(r'(?<=\\[|\\,)\\s*([^\"\\[\\],]+)\\s*(?=\\,|\\])', r'\"\\1\"', corrected_string)\n",
    "    \n",
    "    try:\n",
    "        result_list = json.loads(corrected_string)\n",
    "        return result_list, None\n",
    "    except json.JSONDecodeError as e:\n",
    "        return None, f\"JSON 解码错误: {e}\"\n",
    "\n",
    "# 示例字符串\n",
    "json_strings = [\n",
    "    '[\"商品材质\", \"适用季节\", \"是否易褪色\"]',\n",
    "    \"['商品材质', '适用季节', '是否易褪色']\",\n",
    "    '   [\"商品材质\", \"适用季节\", \"是否易褪色\"]   ',\n",
    "    '',\n",
    "    '‘[\"商品材质\", \"适用季节\", \"是否易褪色\"]’',\n",
    "    '[\"商品材质\", \"适用季节\", \"是否易褪色\"',\n",
    "    '[商品材质, 适用季节, 是否易褪色]',\n",
    "    '[\"商品材质\", \"适用季节\", \"是否易褪色\\\\\"]',\n",
    "    '[\"商品材质\", \"适用季节\", 是否易褪色]',\n",
    "    '[\"商品材质\", \"适用季节\", \"是否易褪色], [\"另一个属性\"]',\n",
    "    '[商品材质]'\n",
    "]\n",
    "\n",
    "for i, json_string in enumerate(json_strings):\n",
    "    result_list, error_message = convert_to_json(json_string)\n",
    "    if error_message:\n",
    "        print(f\"第 {i+1} 个字符串解析失败: {error_message}\")\n",
    "    else:\n",
    "        print(f\"第 {i+1} 个字符串解析成功: {result_list}\")"
   ]
  },
  {
   "cell_type": "code",
   "execution_count": 5,
   "metadata": {},
   "outputs": [
    {
     "name": "stdout",
     "output_type": "stream",
     "text": [
      "3\n"
     ]
    }
   ],
   "source": [
    "x=7//2\n",
    "print(x)"
   ]
  },
  {
   "cell_type": "code",
   "execution_count": 3,
   "metadata": {},
   "outputs": [
    {
     "name": "stdout",
     "output_type": "stream",
     "text": [
      "True\n",
      "True\n",
      "(12, 4)\n",
      "True\n",
      "(2, 21, 5)\n"
     ]
    }
   ],
   "source": [
    "import torch\n",
    "import torch.distributed as dist\n",
    "from torch.cuda import nccl\n",
    "import packaging\n",
    "\n",
    "def get_mixed_precision_policy(train_args, rank):\n",
    "    verify_bfloat_support = (\n",
    "        torch.version.cuda\n",
    "        and torch.cuda.is_bf16_supported()\n",
    "        and packaging.version.parse(torch.version.cuda).release >= (11, 0)\n",
    "        and dist.is_nccl_available()\n",
    "        and nccl.version() >= (2, 10)\n",
    "    )\n",
    "    return verify_bfloat_support\n",
    "print(get_mixed_precision_policy(None, 0))\n",
    "print(torch.cuda.is_bf16_supported())\n",
    "print(packaging.version.parse(torch.version.cuda).release)\n",
    "print(dist.is_nccl_available())\n",
    "print(nccl.version())   "
   ]
  },
  {
   "cell_type": "markdown",
   "metadata": {},
   "source": [
    "# 评估测试\n"
   ]
  },
  {
   "cell_type": "code",
   "execution_count": 5,
   "metadata": {},
   "outputs": [
    {
     "ename": "ValueError",
     "evalue": "Found input variables with inconsistent numbers of samples: [2, 3]",
     "output_type": "error",
     "traceback": [
      "\u001b[0;31m---------------------------------------------------------------------------\u001b[0m",
      "\u001b[0;31mValueError\u001b[0m                                Traceback (most recent call last)",
      "Cell \u001b[0;32mIn[5], line 7\u001b[0m\n\u001b[1;32m      3\u001b[0m pred \u001b[38;5;241m=\u001b[39m [\u001b[38;5;124m'\u001b[39m\u001b[38;5;124mfsaf\u001b[39m\u001b[38;5;124m'\u001b[39m, \u001b[38;5;124m'\u001b[39m\u001b[38;5;124mfs\u001b[39m\u001b[38;5;124m'\u001b[39m, \u001b[38;5;124m'\u001b[39m\u001b[38;5;124mfsfger\u001b[39m\u001b[38;5;124m'\u001b[39m ]\n\u001b[1;32m      4\u001b[0m y_true \u001b[38;5;241m=\u001b[39m [\u001b[38;5;124m'\u001b[39m\u001b[38;5;124mfsaf\u001b[39m\u001b[38;5;124m'\u001b[39m \u001b[38;5;124m'\u001b[39m\u001b[38;5;124mf\u001b[39m\u001b[38;5;124m'\u001b[39m, \u001b[38;5;124m'\u001b[39m\u001b[38;5;124m67\u001b[39m\u001b[38;5;124m'\u001b[39m]\n\u001b[0;32m----> 7\u001b[0m \u001b[43mf1_score\u001b[49m\u001b[43m(\u001b[49m\u001b[43my_true\u001b[49m\u001b[43m,\u001b[49m\u001b[43m \u001b[49m\u001b[43mpred\u001b[49m\u001b[43m,\u001b[49m\u001b[43m \u001b[49m\u001b[43maverage\u001b[49m\u001b[38;5;241;43m=\u001b[39;49m\u001b[38;5;124;43m'\u001b[39;49m\u001b[38;5;124;43mweighted\u001b[39;49m\u001b[38;5;124;43m'\u001b[39;49m\u001b[43m)\u001b[49m\n",
      "File \u001b[0;32m~/ssd/softwares/miniconda3/miniconda/envs/pythonAI/lib/python3.12/site-packages/sklearn/utils/_param_validation.py:213\u001b[0m, in \u001b[0;36mvalidate_params.<locals>.decorator.<locals>.wrapper\u001b[0;34m(*args, **kwargs)\u001b[0m\n\u001b[1;32m    207\u001b[0m \u001b[38;5;28;01mtry\u001b[39;00m:\n\u001b[1;32m    208\u001b[0m     \u001b[38;5;28;01mwith\u001b[39;00m config_context(\n\u001b[1;32m    209\u001b[0m         skip_parameter_validation\u001b[38;5;241m=\u001b[39m(\n\u001b[1;32m    210\u001b[0m             prefer_skip_nested_validation \u001b[38;5;129;01mor\u001b[39;00m global_skip_validation\n\u001b[1;32m    211\u001b[0m         )\n\u001b[1;32m    212\u001b[0m     ):\n\u001b[0;32m--> 213\u001b[0m         \u001b[38;5;28;01mreturn\u001b[39;00m \u001b[43mfunc\u001b[49m\u001b[43m(\u001b[49m\u001b[38;5;241;43m*\u001b[39;49m\u001b[43margs\u001b[49m\u001b[43m,\u001b[49m\u001b[43m \u001b[49m\u001b[38;5;241;43m*\u001b[39;49m\u001b[38;5;241;43m*\u001b[39;49m\u001b[43mkwargs\u001b[49m\u001b[43m)\u001b[49m\n\u001b[1;32m    214\u001b[0m \u001b[38;5;28;01mexcept\u001b[39;00m InvalidParameterError \u001b[38;5;28;01mas\u001b[39;00m e:\n\u001b[1;32m    215\u001b[0m     \u001b[38;5;66;03m# When the function is just a wrapper around an estimator, we allow\u001b[39;00m\n\u001b[1;32m    216\u001b[0m     \u001b[38;5;66;03m# the function to delegate validation to the estimator, but we replace\u001b[39;00m\n\u001b[1;32m    217\u001b[0m     \u001b[38;5;66;03m# the name of the estimator by the name of the function in the error\u001b[39;00m\n\u001b[1;32m    218\u001b[0m     \u001b[38;5;66;03m# message to avoid confusion.\u001b[39;00m\n\u001b[1;32m    219\u001b[0m     msg \u001b[38;5;241m=\u001b[39m re\u001b[38;5;241m.\u001b[39msub(\n\u001b[1;32m    220\u001b[0m         \u001b[38;5;124mr\u001b[39m\u001b[38;5;124m\"\u001b[39m\u001b[38;5;124mparameter of \u001b[39m\u001b[38;5;124m\\\u001b[39m\u001b[38;5;124mw+ must be\u001b[39m\u001b[38;5;124m\"\u001b[39m,\n\u001b[1;32m    221\u001b[0m         \u001b[38;5;124mf\u001b[39m\u001b[38;5;124m\"\u001b[39m\u001b[38;5;124mparameter of \u001b[39m\u001b[38;5;132;01m{\u001b[39;00mfunc\u001b[38;5;241m.\u001b[39m\u001b[38;5;18m__qualname__\u001b[39m\u001b[38;5;132;01m}\u001b[39;00m\u001b[38;5;124m must be\u001b[39m\u001b[38;5;124m\"\u001b[39m,\n\u001b[1;32m    222\u001b[0m         \u001b[38;5;28mstr\u001b[39m(e),\n\u001b[1;32m    223\u001b[0m     )\n",
      "File \u001b[0;32m~/ssd/softwares/miniconda3/miniconda/envs/pythonAI/lib/python3.12/site-packages/sklearn/metrics/_classification.py:1293\u001b[0m, in \u001b[0;36mf1_score\u001b[0;34m(y_true, y_pred, labels, pos_label, average, sample_weight, zero_division)\u001b[0m\n\u001b[1;32m   1113\u001b[0m \u001b[38;5;129m@validate_params\u001b[39m(\n\u001b[1;32m   1114\u001b[0m     {\n\u001b[1;32m   1115\u001b[0m         \u001b[38;5;124m\"\u001b[39m\u001b[38;5;124my_true\u001b[39m\u001b[38;5;124m\"\u001b[39m: [\u001b[38;5;124m\"\u001b[39m\u001b[38;5;124marray-like\u001b[39m\u001b[38;5;124m\"\u001b[39m, \u001b[38;5;124m\"\u001b[39m\u001b[38;5;124msparse matrix\u001b[39m\u001b[38;5;124m\"\u001b[39m],\n\u001b[0;32m   (...)\u001b[0m\n\u001b[1;32m   1140\u001b[0m     zero_division\u001b[38;5;241m=\u001b[39m\u001b[38;5;124m\"\u001b[39m\u001b[38;5;124mwarn\u001b[39m\u001b[38;5;124m\"\u001b[39m,\n\u001b[1;32m   1141\u001b[0m ):\n\u001b[1;32m   1142\u001b[0m \u001b[38;5;250m    \u001b[39m\u001b[38;5;124;03m\"\"\"Compute the F1 score, also known as balanced F-score or F-measure.\u001b[39;00m\n\u001b[1;32m   1143\u001b[0m \n\u001b[1;32m   1144\u001b[0m \u001b[38;5;124;03m    The F1 score can be interpreted as a harmonic mean of the precision and\u001b[39;00m\n\u001b[0;32m   (...)\u001b[0m\n\u001b[1;32m   1291\u001b[0m \u001b[38;5;124;03m    array([0.66666667, 1.        , 0.66666667])\u001b[39;00m\n\u001b[1;32m   1292\u001b[0m \u001b[38;5;124;03m    \"\"\"\u001b[39;00m\n\u001b[0;32m-> 1293\u001b[0m     \u001b[38;5;28;01mreturn\u001b[39;00m \u001b[43mfbeta_score\u001b[49m\u001b[43m(\u001b[49m\n\u001b[1;32m   1294\u001b[0m \u001b[43m        \u001b[49m\u001b[43my_true\u001b[49m\u001b[43m,\u001b[49m\n\u001b[1;32m   1295\u001b[0m \u001b[43m        \u001b[49m\u001b[43my_pred\u001b[49m\u001b[43m,\u001b[49m\n\u001b[1;32m   1296\u001b[0m \u001b[43m        \u001b[49m\u001b[43mbeta\u001b[49m\u001b[38;5;241;43m=\u001b[39;49m\u001b[38;5;241;43m1\u001b[39;49m\u001b[43m,\u001b[49m\n\u001b[1;32m   1297\u001b[0m \u001b[43m        \u001b[49m\u001b[43mlabels\u001b[49m\u001b[38;5;241;43m=\u001b[39;49m\u001b[43mlabels\u001b[49m\u001b[43m,\u001b[49m\n\u001b[1;32m   1298\u001b[0m \u001b[43m        \u001b[49m\u001b[43mpos_label\u001b[49m\u001b[38;5;241;43m=\u001b[39;49m\u001b[43mpos_label\u001b[49m\u001b[43m,\u001b[49m\n\u001b[1;32m   1299\u001b[0m \u001b[43m        \u001b[49m\u001b[43maverage\u001b[49m\u001b[38;5;241;43m=\u001b[39;49m\u001b[43maverage\u001b[49m\u001b[43m,\u001b[49m\n\u001b[1;32m   1300\u001b[0m \u001b[43m        \u001b[49m\u001b[43msample_weight\u001b[49m\u001b[38;5;241;43m=\u001b[39;49m\u001b[43msample_weight\u001b[49m\u001b[43m,\u001b[49m\n\u001b[1;32m   1301\u001b[0m \u001b[43m        \u001b[49m\u001b[43mzero_division\u001b[49m\u001b[38;5;241;43m=\u001b[39;49m\u001b[43mzero_division\u001b[49m\u001b[43m,\u001b[49m\n\u001b[1;32m   1302\u001b[0m \u001b[43m    \u001b[49m\u001b[43m)\u001b[49m\n",
      "File \u001b[0;32m~/ssd/softwares/miniconda3/miniconda/envs/pythonAI/lib/python3.12/site-packages/sklearn/utils/_param_validation.py:186\u001b[0m, in \u001b[0;36mvalidate_params.<locals>.decorator.<locals>.wrapper\u001b[0;34m(*args, **kwargs)\u001b[0m\n\u001b[1;32m    184\u001b[0m global_skip_validation \u001b[38;5;241m=\u001b[39m get_config()[\u001b[38;5;124m\"\u001b[39m\u001b[38;5;124mskip_parameter_validation\u001b[39m\u001b[38;5;124m\"\u001b[39m]\n\u001b[1;32m    185\u001b[0m \u001b[38;5;28;01mif\u001b[39;00m global_skip_validation:\n\u001b[0;32m--> 186\u001b[0m     \u001b[38;5;28;01mreturn\u001b[39;00m \u001b[43mfunc\u001b[49m\u001b[43m(\u001b[49m\u001b[38;5;241;43m*\u001b[39;49m\u001b[43margs\u001b[49m\u001b[43m,\u001b[49m\u001b[43m \u001b[49m\u001b[38;5;241;43m*\u001b[39;49m\u001b[38;5;241;43m*\u001b[39;49m\u001b[43mkwargs\u001b[49m\u001b[43m)\u001b[49m\n\u001b[1;32m    188\u001b[0m func_sig \u001b[38;5;241m=\u001b[39m signature(func)\n\u001b[1;32m    190\u001b[0m \u001b[38;5;66;03m# Map *args/**kwargs to the function signature\u001b[39;00m\n",
      "File \u001b[0;32m~/ssd/softwares/miniconda3/miniconda/envs/pythonAI/lib/python3.12/site-packages/sklearn/metrics/_classification.py:1485\u001b[0m, in \u001b[0;36mfbeta_score\u001b[0;34m(y_true, y_pred, beta, labels, pos_label, average, sample_weight, zero_division)\u001b[0m\n\u001b[1;32m   1305\u001b[0m \u001b[38;5;129m@validate_params\u001b[39m(\n\u001b[1;32m   1306\u001b[0m     {\n\u001b[1;32m   1307\u001b[0m         \u001b[38;5;124m\"\u001b[39m\u001b[38;5;124my_true\u001b[39m\u001b[38;5;124m\"\u001b[39m: [\u001b[38;5;124m\"\u001b[39m\u001b[38;5;124marray-like\u001b[39m\u001b[38;5;124m\"\u001b[39m, \u001b[38;5;124m\"\u001b[39m\u001b[38;5;124msparse matrix\u001b[39m\u001b[38;5;124m\"\u001b[39m],\n\u001b[0;32m   (...)\u001b[0m\n\u001b[1;32m   1334\u001b[0m     zero_division\u001b[38;5;241m=\u001b[39m\u001b[38;5;124m\"\u001b[39m\u001b[38;5;124mwarn\u001b[39m\u001b[38;5;124m\"\u001b[39m,\n\u001b[1;32m   1335\u001b[0m ):\n\u001b[1;32m   1336\u001b[0m \u001b[38;5;250m    \u001b[39m\u001b[38;5;124;03m\"\"\"Compute the F-beta score.\u001b[39;00m\n\u001b[1;32m   1337\u001b[0m \n\u001b[1;32m   1338\u001b[0m \u001b[38;5;124;03m    The F-beta score is the weighted harmonic mean of precision and recall,\u001b[39;00m\n\u001b[0;32m   (...)\u001b[0m\n\u001b[1;32m   1482\u001b[0m \u001b[38;5;124;03m    np.float64(0.12...)\u001b[39;00m\n\u001b[1;32m   1483\u001b[0m \u001b[38;5;124;03m    \"\"\"\u001b[39;00m\n\u001b[0;32m-> 1485\u001b[0m     _, _, f, _ \u001b[38;5;241m=\u001b[39m \u001b[43mprecision_recall_fscore_support\u001b[49m\u001b[43m(\u001b[49m\n\u001b[1;32m   1486\u001b[0m \u001b[43m        \u001b[49m\u001b[43my_true\u001b[49m\u001b[43m,\u001b[49m\n\u001b[1;32m   1487\u001b[0m \u001b[43m        \u001b[49m\u001b[43my_pred\u001b[49m\u001b[43m,\u001b[49m\n\u001b[1;32m   1488\u001b[0m \u001b[43m        \u001b[49m\u001b[43mbeta\u001b[49m\u001b[38;5;241;43m=\u001b[39;49m\u001b[43mbeta\u001b[49m\u001b[43m,\u001b[49m\n\u001b[1;32m   1489\u001b[0m \u001b[43m        \u001b[49m\u001b[43mlabels\u001b[49m\u001b[38;5;241;43m=\u001b[39;49m\u001b[43mlabels\u001b[49m\u001b[43m,\u001b[49m\n\u001b[1;32m   1490\u001b[0m \u001b[43m        \u001b[49m\u001b[43mpos_label\u001b[49m\u001b[38;5;241;43m=\u001b[39;49m\u001b[43mpos_label\u001b[49m\u001b[43m,\u001b[49m\n\u001b[1;32m   1491\u001b[0m \u001b[43m        \u001b[49m\u001b[43maverage\u001b[49m\u001b[38;5;241;43m=\u001b[39;49m\u001b[43maverage\u001b[49m\u001b[43m,\u001b[49m\n\u001b[1;32m   1492\u001b[0m \u001b[43m        \u001b[49m\u001b[43mwarn_for\u001b[49m\u001b[38;5;241;43m=\u001b[39;49m\u001b[43m(\u001b[49m\u001b[38;5;124;43m\"\u001b[39;49m\u001b[38;5;124;43mf-score\u001b[39;49m\u001b[38;5;124;43m\"\u001b[39;49m\u001b[43m,\u001b[49m\u001b[43m)\u001b[49m\u001b[43m,\u001b[49m\n\u001b[1;32m   1493\u001b[0m \u001b[43m        \u001b[49m\u001b[43msample_weight\u001b[49m\u001b[38;5;241;43m=\u001b[39;49m\u001b[43msample_weight\u001b[49m\u001b[43m,\u001b[49m\n\u001b[1;32m   1494\u001b[0m \u001b[43m        \u001b[49m\u001b[43mzero_division\u001b[49m\u001b[38;5;241;43m=\u001b[39;49m\u001b[43mzero_division\u001b[49m\u001b[43m,\u001b[49m\n\u001b[1;32m   1495\u001b[0m \u001b[43m    \u001b[49m\u001b[43m)\u001b[49m\n\u001b[1;32m   1496\u001b[0m     \u001b[38;5;28;01mreturn\u001b[39;00m f\n",
      "File \u001b[0;32m~/ssd/softwares/miniconda3/miniconda/envs/pythonAI/lib/python3.12/site-packages/sklearn/utils/_param_validation.py:186\u001b[0m, in \u001b[0;36mvalidate_params.<locals>.decorator.<locals>.wrapper\u001b[0;34m(*args, **kwargs)\u001b[0m\n\u001b[1;32m    184\u001b[0m global_skip_validation \u001b[38;5;241m=\u001b[39m get_config()[\u001b[38;5;124m\"\u001b[39m\u001b[38;5;124mskip_parameter_validation\u001b[39m\u001b[38;5;124m\"\u001b[39m]\n\u001b[1;32m    185\u001b[0m \u001b[38;5;28;01mif\u001b[39;00m global_skip_validation:\n\u001b[0;32m--> 186\u001b[0m     \u001b[38;5;28;01mreturn\u001b[39;00m \u001b[43mfunc\u001b[49m\u001b[43m(\u001b[49m\u001b[38;5;241;43m*\u001b[39;49m\u001b[43margs\u001b[49m\u001b[43m,\u001b[49m\u001b[43m \u001b[49m\u001b[38;5;241;43m*\u001b[39;49m\u001b[38;5;241;43m*\u001b[39;49m\u001b[43mkwargs\u001b[49m\u001b[43m)\u001b[49m\n\u001b[1;32m    188\u001b[0m func_sig \u001b[38;5;241m=\u001b[39m signature(func)\n\u001b[1;32m    190\u001b[0m \u001b[38;5;66;03m# Map *args/**kwargs to the function signature\u001b[39;00m\n",
      "File \u001b[0;32m~/ssd/softwares/miniconda3/miniconda/envs/pythonAI/lib/python3.12/site-packages/sklearn/metrics/_classification.py:1789\u001b[0m, in \u001b[0;36mprecision_recall_fscore_support\u001b[0;34m(y_true, y_pred, beta, labels, pos_label, average, warn_for, sample_weight, zero_division)\u001b[0m\n\u001b[1;32m   1626\u001b[0m \u001b[38;5;250m\u001b[39m\u001b[38;5;124;03m\"\"\"Compute precision, recall, F-measure and support for each class.\u001b[39;00m\n\u001b[1;32m   1627\u001b[0m \n\u001b[1;32m   1628\u001b[0m \u001b[38;5;124;03mThe precision is the ratio ``tp / (tp + fp)`` where ``tp`` is the number of\u001b[39;00m\n\u001b[0;32m   (...)\u001b[0m\n\u001b[1;32m   1786\u001b[0m \u001b[38;5;124;03m array([2, 2, 2]))\u001b[39;00m\n\u001b[1;32m   1787\u001b[0m \u001b[38;5;124;03m\"\"\"\u001b[39;00m\n\u001b[1;32m   1788\u001b[0m _check_zero_division(zero_division)\n\u001b[0;32m-> 1789\u001b[0m labels \u001b[38;5;241m=\u001b[39m \u001b[43m_check_set_wise_labels\u001b[49m\u001b[43m(\u001b[49m\u001b[43my_true\u001b[49m\u001b[43m,\u001b[49m\u001b[43m \u001b[49m\u001b[43my_pred\u001b[49m\u001b[43m,\u001b[49m\u001b[43m \u001b[49m\u001b[43maverage\u001b[49m\u001b[43m,\u001b[49m\u001b[43m \u001b[49m\u001b[43mlabels\u001b[49m\u001b[43m,\u001b[49m\u001b[43m \u001b[49m\u001b[43mpos_label\u001b[49m\u001b[43m)\u001b[49m\n\u001b[1;32m   1791\u001b[0m \u001b[38;5;66;03m# Calculate tp_sum, pred_sum, true_sum ###\u001b[39;00m\n\u001b[1;32m   1792\u001b[0m samplewise \u001b[38;5;241m=\u001b[39m average \u001b[38;5;241m==\u001b[39m \u001b[38;5;124m\"\u001b[39m\u001b[38;5;124msamples\u001b[39m\u001b[38;5;124m\"\u001b[39m\n",
      "File \u001b[0;32m~/ssd/softwares/miniconda3/miniconda/envs/pythonAI/lib/python3.12/site-packages/sklearn/metrics/_classification.py:1561\u001b[0m, in \u001b[0;36m_check_set_wise_labels\u001b[0;34m(y_true, y_pred, average, labels, pos_label)\u001b[0m\n\u001b[1;32m   1558\u001b[0m \u001b[38;5;28;01mif\u001b[39;00m average \u001b[38;5;129;01mnot\u001b[39;00m \u001b[38;5;129;01min\u001b[39;00m average_options \u001b[38;5;129;01mand\u001b[39;00m average \u001b[38;5;241m!=\u001b[39m \u001b[38;5;124m\"\u001b[39m\u001b[38;5;124mbinary\u001b[39m\u001b[38;5;124m\"\u001b[39m:\n\u001b[1;32m   1559\u001b[0m     \u001b[38;5;28;01mraise\u001b[39;00m \u001b[38;5;167;01mValueError\u001b[39;00m(\u001b[38;5;124m\"\u001b[39m\u001b[38;5;124maverage has to be one of \u001b[39m\u001b[38;5;124m\"\u001b[39m \u001b[38;5;241m+\u001b[39m \u001b[38;5;28mstr\u001b[39m(average_options))\n\u001b[0;32m-> 1561\u001b[0m y_type, y_true, y_pred \u001b[38;5;241m=\u001b[39m \u001b[43m_check_targets\u001b[49m\u001b[43m(\u001b[49m\u001b[43my_true\u001b[49m\u001b[43m,\u001b[49m\u001b[43m \u001b[49m\u001b[43my_pred\u001b[49m\u001b[43m)\u001b[49m\n\u001b[1;32m   1562\u001b[0m \u001b[38;5;66;03m# Convert to Python primitive type to avoid NumPy type / Python str\u001b[39;00m\n\u001b[1;32m   1563\u001b[0m \u001b[38;5;66;03m# comparison. See https://github.com/numpy/numpy/issues/6784\u001b[39;00m\n\u001b[1;32m   1564\u001b[0m present_labels \u001b[38;5;241m=\u001b[39m unique_labels(y_true, y_pred)\u001b[38;5;241m.\u001b[39mtolist()\n",
      "File \u001b[0;32m~/ssd/softwares/miniconda3/miniconda/envs/pythonAI/lib/python3.12/site-packages/sklearn/metrics/_classification.py:103\u001b[0m, in \u001b[0;36m_check_targets\u001b[0;34m(y_true, y_pred)\u001b[0m\n\u001b[1;32m     76\u001b[0m \u001b[38;5;250m\u001b[39m\u001b[38;5;124;03m\"\"\"Check that y_true and y_pred belong to the same classification task.\u001b[39;00m\n\u001b[1;32m     77\u001b[0m \n\u001b[1;32m     78\u001b[0m \u001b[38;5;124;03mThis converts multiclass or binary types to a common shape, and raises a\u001b[39;00m\n\u001b[0;32m   (...)\u001b[0m\n\u001b[1;32m    100\u001b[0m \u001b[38;5;124;03my_pred : array or indicator matrix\u001b[39;00m\n\u001b[1;32m    101\u001b[0m \u001b[38;5;124;03m\"\"\"\u001b[39;00m\n\u001b[1;32m    102\u001b[0m xp, _ \u001b[38;5;241m=\u001b[39m get_namespace(y_true, y_pred)\n\u001b[0;32m--> 103\u001b[0m \u001b[43mcheck_consistent_length\u001b[49m\u001b[43m(\u001b[49m\u001b[43my_true\u001b[49m\u001b[43m,\u001b[49m\u001b[43m \u001b[49m\u001b[43my_pred\u001b[49m\u001b[43m)\u001b[49m\n\u001b[1;32m    104\u001b[0m type_true \u001b[38;5;241m=\u001b[39m type_of_target(y_true, input_name\u001b[38;5;241m=\u001b[39m\u001b[38;5;124m\"\u001b[39m\u001b[38;5;124my_true\u001b[39m\u001b[38;5;124m\"\u001b[39m)\n\u001b[1;32m    105\u001b[0m type_pred \u001b[38;5;241m=\u001b[39m type_of_target(y_pred, input_name\u001b[38;5;241m=\u001b[39m\u001b[38;5;124m\"\u001b[39m\u001b[38;5;124my_pred\u001b[39m\u001b[38;5;124m\"\u001b[39m)\n",
      "File \u001b[0;32m~/ssd/softwares/miniconda3/miniconda/envs/pythonAI/lib/python3.12/site-packages/sklearn/utils/validation.py:457\u001b[0m, in \u001b[0;36mcheck_consistent_length\u001b[0;34m(*arrays)\u001b[0m\n\u001b[1;32m    455\u001b[0m uniques \u001b[38;5;241m=\u001b[39m np\u001b[38;5;241m.\u001b[39munique(lengths)\n\u001b[1;32m    456\u001b[0m \u001b[38;5;28;01mif\u001b[39;00m \u001b[38;5;28mlen\u001b[39m(uniques) \u001b[38;5;241m>\u001b[39m \u001b[38;5;241m1\u001b[39m:\n\u001b[0;32m--> 457\u001b[0m     \u001b[38;5;28;01mraise\u001b[39;00m \u001b[38;5;167;01mValueError\u001b[39;00m(\n\u001b[1;32m    458\u001b[0m         \u001b[38;5;124m\"\u001b[39m\u001b[38;5;124mFound input variables with inconsistent numbers of samples: \u001b[39m\u001b[38;5;132;01m%r\u001b[39;00m\u001b[38;5;124m\"\u001b[39m\n\u001b[1;32m    459\u001b[0m         \u001b[38;5;241m%\u001b[39m [\u001b[38;5;28mint\u001b[39m(l) \u001b[38;5;28;01mfor\u001b[39;00m l \u001b[38;5;129;01min\u001b[39;00m lengths]\n\u001b[1;32m    460\u001b[0m     )\n",
      "\u001b[0;31mValueError\u001b[0m: Found input variables with inconsistent numbers of samples: [2, 3]"
     ]
    }
   ],
   "source": [
    "from sklearn.metrics import f1_score\n",
    "\n",
    "# 只能是int\n",
    "\n",
    "\n",
    "\n",
    "\n",
    "\n",
    "\n",
    "\n",
    "\n",
    "\n",
    "\n",
    "\n",
    "\n",
    "\n"
   ]
  },
  {
   "cell_type": "code",
   "execution_count": null,
   "metadata": {},
   "outputs": [],
   "source": []
  },
  {
   "cell_type": "code",
   "execution_count": null,
   "metadata": {},
   "outputs": [],
   "source": []
  },
  {
   "cell_type": "code",
   "execution_count": null,
   "metadata": {},
   "outputs": [],
   "source": []
  }
 ],
 "metadata": {
  "kernelspec": {
   "display_name": "pythonAI",
   "language": "python",
   "name": "python3"
  },
  "language_info": {
   "codemirror_mode": {
    "name": "ipython",
    "version": 3
   },
   "file_extension": ".py",
   "mimetype": "text/x-python",
   "name": "python",
   "nbconvert_exporter": "python",
   "pygments_lexer": "ipython3",
   "version": "3.12.3"
  }
 },
 "nbformat": 4,
 "nbformat_minor": 2
}
